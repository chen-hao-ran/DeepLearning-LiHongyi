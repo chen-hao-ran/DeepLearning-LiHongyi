{
 "cells": [
  {
   "cell_type": "markdown",
   "metadata": {},
   "source": [
    "# HW01 COVID19"
   ]
  },
  {
   "cell_type": "markdown",
   "metadata": {},
   "source": [
    "## Import packages"
   ]
  },
  {
   "cell_type": "code",
   "execution_count": 12,
   "metadata": {},
   "outputs": [],
   "source": [
    "# Numerical Operations\n",
    "import math\n",
    "\n",
    "import numpy as np\n",
    "\n",
    "# Reading/Writing Data\n",
    "import pandas as pd \n",
    "import os\n",
    "import csv\n",
    "\n",
    "# For progress Bar\n",
    "from tqdm import tqdm\n",
    "\n",
    "# Pytorch\n",
    "import torch\n",
    "import torch.nn as nn   \n",
    "from torch.utils.data import Dataset, DataLoader, random_split\n",
    "\n",
    "# For plotting learing curve\n",
    "from torch.utils.tensorboard import SummaryWriter"
   ]
  },
  {
   "cell_type": "markdown",
   "metadata": {},
   "source": [
    "## Some Utility Functions"
   ]
  },
  {
   "cell_type": "code",
   "execution_count": 41,
   "metadata": {},
   "outputs": [],
   "source": [
    "def same_seed(seed):\n",
    "    torch.backends.cudnn.deterministic = True\n",
    "    torch.backends.cudnn.benchmark = False\n",
    "    np.random.seed(seed)\n",
    "    torch.manual_seed(seed)\n",
    "    if torch.cuda .is_available():\n",
    "        torch.cuda.manual_seed_all(seed)\n",
    "\n",
    "def train_valid_split(data_set, valid_ratio, seed):\n",
    "    valid_set_size = int(valid_ratio * len(data_set))\n",
    "    train_set_size = len(data_set) - valid_set_size\n",
    "    train_set, valid_set = random_split(data_set, [train_set_size, valid_set_size], generator=torch.Generator().manual_seed(seed))\n",
    "    return np.array(train_set), np.array(valid_set)\n",
    "\n",
    "def predict(test_loader, model, device):\n",
    "    model.eval\n",
    "    preds = []\n",
    "    for x in tqdm(test_loader):\n",
    "        x = x.to(device)\n",
    "        with torch.no_grad():\n",
    "            pred = model(x)\n",
    "            preds.append(pred.detach().cpu())\n",
    "    preds = torch.cat(preds, dim=0).numpy()\n",
    "    return preds"
   ]
  },
  {
   "cell_type": "markdown",
   "metadata": {},
   "source": [
    "## Dataset"
   ]
  },
  {
   "cell_type": "code",
   "execution_count": 20,
   "metadata": {},
   "outputs": [],
   "source": [
    "class COVID19Dataset(Dataset):\n",
    "    def __init__(self, x, y=None):\n",
    "        if y is None:\n",
    "            self.y = y\n",
    "        else:\n",
    "            self.y = torch.FloatTensor(y)\n",
    "        self.x = torch.FloatTensor(x)\n",
    "\n",
    "    def __getitem__(self, idx):\n",
    "        if self.y is None:\n",
    "            return self.x[idx]\n",
    "        else:\n",
    "            return self.x[idx], self.y[idx]\n",
    "\n",
    "    def __len__(self):\n",
    "        return len(self.x)"
   ]
  },
  {
   "cell_type": "markdown",
   "metadata": {},
   "source": [
    "## Neural Network Model"
   ]
  },
  {
   "cell_type": "code",
   "execution_count": 7,
   "metadata": {},
   "outputs": [],
   "source": [
    "class My_Model(nn.Module):\n",
    "    def __init__(self, input_dim):\n",
    "        super(My_Model, self).__init__()\n",
    "\n",
    "        self.layers = nn.Sequential(\n",
    "            nn.Linear(input_dim, 16),\n",
    "            nn.ReLU(),\n",
    "            nn.Linear(16, 8),\n",
    "            nn.ReLU(),\n",
    "            nn.Linear(8, 1)\n",
    "        )\n",
    "\n",
    "    def forward(self, x):\n",
    "        x = self.layers(x)\n",
    "        x = x.squeeze(1)\n",
    "        return x"
   ]
  },
  {
   "cell_type": "markdown",
   "metadata": {},
   "source": [
    "## Feature Selection"
   ]
  },
  {
   "cell_type": "code",
   "execution_count": 8,
   "metadata": {},
   "outputs": [],
   "source": [
    "def select_feat(train_data, valid_data, test_data, select_all=True):\n",
    "    y_train, y_valid = train_data[:, -1], valid_data[:, -1]\n",
    "    raw_x_train, raw_x_valid, raw_x_test = train_data[:, :-1], valid_data[:, :-1], test_data\n",
    "\n",
    "    if select_all:\n",
    "        feat_idx = list(range(raw_x_train.shape[1]))\n",
    "    else:\n",
    "        feat_idx = [0,1,2,3,4,5]\n",
    "    \n",
    "    return raw_x_train[:, feat_idx], raw_x_valid[:, feat_idx], raw_x_test[:, feat_idx], y_train, y_valid"
   ]
  },
  {
   "cell_type": "markdown",
   "metadata": {},
   "source": [
    "## Training Loop"
   ]
  },
  {
   "cell_type": "code",
   "execution_count": 30,
   "metadata": {},
   "outputs": [],
   "source": [
    "def trainer(train_loader, valid_loader, model, config, device):\n",
    "    \n",
    "    criterion = nn.MSELoss(reduction='mean')\n",
    "\n",
    "    optimizer = torch.optim.SGD(model.parameters(), lr=config['learning_rate'], momentum=0.9)\n",
    "\n",
    "    writer = SummaryWriter()\n",
    "\n",
    "    if not os.path.isdir('./models'):\n",
    "        os.mkdir('./models')\n",
    "\n",
    "    n_epochs, best_loss, step, early_stop_count = config['n_epochs'], math.inf, 0, 0\n",
    "\n",
    "    for epoch in range(n_epochs):\n",
    "        model.train()\n",
    "        loss_record = []\n",
    "\n",
    "        train_pbar = tqdm(train_loader, position=0, leave=True)\n",
    "\n",
    "        for x, y in train_pbar:\n",
    "            optimizer.zero_grad()\n",
    "            x, y = x.to(device), y.to(device)\n",
    "            pred = model(x)\n",
    "            loss = criterion(pred, y)\n",
    "            optimizer.step()\n",
    "            step += 1\n",
    "            loss_record.append(loss.detach().item())\n",
    "\n",
    "            train_pbar.set_description(f'Epoch [{epoch+1}/{n_epochs}]')\n",
    "            train_pbar.set_postfix({'loss': loss.detach().item()})\n",
    "            \n",
    "        mean_train_loss = sum(loss_record)/len(loss_record) \n",
    "        writer.add_scalar('Loss/train', mean_train_loss, step)\n",
    "\n",
    "        model.eval()\n",
    "        loss_record = []\n",
    "        for x, y in valid_loader:\n",
    "            x, y = x.to(device), y.to(device)\n",
    "            with torch.no_grad():\n",
    "                pred = model(x)\n",
    "                loss = criterion(pred, y)\n",
    "\n",
    "            loss_record.append(loss.item())\n",
    "\n",
    "        mean_valid_loss = sum(loss_record)/len(loss_record)\n",
    "        print(f'Epoch [{epoch+1}/{n_epochs}]: Train loss: {mean_train_loss:.4f}, Valid loss: {mean_valid_loss:.4f}')\n",
    "        writer.add_scalar('Loss/valid', mean_valid_loss, step)\n",
    "\n",
    "        if mean_valid_loss < best_loss:\n",
    "            best_loss = mean_valid_loss\n",
    "            torch.save(model.state_dict(), config['save_path'])\n",
    "            print('Saving model with loss {:.3f}...'.format(best_loss))\n",
    "            early_stop_count = 0\n",
    "        else:\n",
    "            early_stop_count += 1\n",
    "\n",
    "        if early_stop_count >= config['early_stop']:\n",
    "            print('\\nModel is not improving, so we halt the training session.')\n",
    "            return"
   ]
  },
  {
   "cell_type": "markdown",
   "metadata": {},
   "source": [
    "## Configurations"
   ]
  },
  {
   "cell_type": "code",
   "execution_count": 34,
   "metadata": {},
   "outputs": [],
   "source": [
    "device = 'cude' if torch.cuda.is_available() else 'cpu'\n",
    "config = {\n",
    "    'seed':5201314,\n",
    "    'select_all': True,\n",
    "    'valid_ratio': 0.2,\n",
    "    'n_epochs': 3000,\n",
    "    'batch_size': 256,\n",
    "    'learning_rate': 1e-5,\n",
    "    'early_stop': 400,\n",
    "    'save_path': './models/model.ckpt'\n",
    "}"
   ]
  },
  {
   "cell_type": "markdown",
   "metadata": {},
   "source": [
    "## Dataloader"
   ]
  },
  {
   "cell_type": "code",
   "execution_count": 24,
   "metadata": {},
   "outputs": [
    {
     "name": "stdout",
     "output_type": "stream",
     "text": [
      "train_data size: (2160, 118) \n",
      "valid_data size: (539, 118) \n",
      "test_data size: (1078, 117)\n",
      "number of features: 117\n"
     ]
    }
   ],
   "source": [
    "# Set seed for reproducibility\n",
    "same_seed(config['seed'])\n",
    "\n",
    "\n",
    "# train_data size: 2699 x 118 (id + 37 states + 16 features x 5 days) \n",
    "# test_data size: 1078 x 117 (without last day's positive rate)\n",
    "train_data, test_data = pd.read_csv('./covid.train.csv').values, pd.read_csv('./covid.test.csv').values\n",
    "train_data, valid_data = train_valid_split(train_data, config['valid_ratio'], config['seed'])\n",
    "\n",
    "# Print out the data size.\n",
    "print(f\"\"\"train_data size: {train_data.shape} \n",
    "valid_data size: {valid_data.shape} \n",
    "test_data size: {test_data.shape}\"\"\")\n",
    "\n",
    "# Select features\n",
    "x_train, x_valid, x_test, y_train, y_valid = select_feat(train_data, valid_data, test_data, config['select_all'])\n",
    "\n",
    "# Print out the number of features.\n",
    "print(f'number of features: {x_train.shape[1]}')\n",
    "\n",
    "train_dataset, valid_dataset, test_dataset = COVID19Dataset(x_train, y_train), \\\n",
    "                                            COVID19Dataset(x_valid, y_valid), \\\n",
    "                                            COVID19Dataset(x_test)\n",
    "\n",
    "# Pytorch data loader loads pytorch dataset into batches.\n",
    "train_loader = DataLoader(train_dataset, batch_size=config['batch_size'], shuffle=True, pin_memory=True)\n",
    "valid_loader = DataLoader(valid_dataset, batch_size=config['batch_size'], shuffle=True, pin_memory=True)\n",
    "test_loader = DataLoader(test_dataset, batch_size=config['batch_size'], shuffle=False, pin_memory=True)"
   ]
  },
  {
   "cell_type": "markdown",
   "metadata": {},
   "source": [
    "## Start training"
   ]
  },
  {
   "cell_type": "code",
   "execution_count": 43,
   "metadata": {},
   "outputs": [
    {
     "name": "stderr",
     "output_type": "stream",
     "text": [
      "Epoch [1/3000]: 100%|██████████| 9/9 [00:00<00:00, 223.38it/s, loss=53.2]\n"
     ]
    },
    {
     "name": "stdout",
     "output_type": "stream",
     "text": [
      "Epoch [1/3000]: Train loss: 55.2523, Valid loss: 55.3705\n",
      "Saving model with loss 55.371...\n"
     ]
    },
    {
     "name": "stderr",
     "output_type": "stream",
     "text": [
      "Epoch [2/3000]: 100%|██████████| 9/9 [00:00<00:00, 204.49it/s, loss=51.6]\n"
     ]
    },
    {
     "name": "stdout",
     "output_type": "stream",
     "text": [
      "Epoch [2/3000]: Train loss: 55.1531, Valid loss: 53.0669\n",
      "Saving model with loss 53.067...\n"
     ]
    },
    {
     "name": "stderr",
     "output_type": "stream",
     "text": [
      "Epoch [3/3000]: 100%|██████████| 9/9 [00:00<00:00, 171.56it/s, loss=48.5]\n"
     ]
    },
    {
     "name": "stdout",
     "output_type": "stream",
     "text": [
      "Epoch [3/3000]: Train loss: 54.9584, Valid loss: 59.6113\n"
     ]
    },
    {
     "name": "stderr",
     "output_type": "stream",
     "text": [
      "Epoch [4/3000]: 100%|██████████| 9/9 [00:00<00:00, 120.95it/s, loss=61.4]\n"
     ]
    },
    {
     "name": "stdout",
     "output_type": "stream",
     "text": [
      "Epoch [4/3000]: Train loss: 55.7603, Valid loss: 57.2815\n"
     ]
    },
    {
     "name": "stderr",
     "output_type": "stream",
     "text": [
      "Epoch [5/3000]: 100%|██████████| 9/9 [00:00<00:00, 231.07it/s, loss=53.5]\n"
     ]
    },
    {
     "name": "stdout",
     "output_type": "stream",
     "text": [
      "Epoch [5/3000]: Train loss: 55.2684, Valid loss: 54.2271\n"
     ]
    },
    {
     "name": "stderr",
     "output_type": "stream",
     "text": [
      "Epoch [6/3000]: 100%|██████████| 9/9 [00:00<00:00, 241.42it/s, loss=60.2]\n"
     ]
    },
    {
     "name": "stdout",
     "output_type": "stream",
     "text": [
      "Epoch [6/3000]: Train loss: 55.6855, Valid loss: 54.8148\n"
     ]
    },
    {
     "name": "stderr",
     "output_type": "stream",
     "text": [
      "Epoch [7/3000]: 100%|██████████| 9/9 [00:00<00:00, 181.31it/s, loss=54.1]\n"
     ]
    },
    {
     "name": "stdout",
     "output_type": "stream",
     "text": [
      "Epoch [7/3000]: Train loss: 55.3092, Valid loss: 57.1253\n"
     ]
    },
    {
     "name": "stderr",
     "output_type": "stream",
     "text": [
      "Epoch [8/3000]: 100%|██████████| 9/9 [00:00<00:00, 173.72it/s, loss=53.8]\n"
     ]
    },
    {
     "name": "stdout",
     "output_type": "stream",
     "text": [
      "Epoch [8/3000]: Train loss: 55.2875, Valid loss: 62.3799\n"
     ]
    },
    {
     "name": "stderr",
     "output_type": "stream",
     "text": [
      "Epoch [9/3000]: 100%|██████████| 9/9 [00:00<00:00, 150.79it/s, loss=59.5]\n"
     ]
    },
    {
     "name": "stdout",
     "output_type": "stream",
     "text": [
      "Epoch [9/3000]: Train loss: 55.6467, Valid loss: 57.6043\n"
     ]
    },
    {
     "name": "stderr",
     "output_type": "stream",
     "text": [
      "Epoch [10/3000]: 100%|██████████| 9/9 [00:00<00:00, 195.11it/s, loss=56]\n"
     ]
    },
    {
     "name": "stdout",
     "output_type": "stream",
     "text": [
      "Epoch [10/3000]: Train loss: 55.4226, Valid loss: 54.1418\n"
     ]
    },
    {
     "name": "stderr",
     "output_type": "stream",
     "text": [
      "Epoch [11/3000]: 100%|██████████| 9/9 [00:00<00:00, 210.90it/s, loss=58.6]\n"
     ]
    },
    {
     "name": "stdout",
     "output_type": "stream",
     "text": [
      "Epoch [11/3000]: Train loss: 55.5876, Valid loss: 53.0115\n",
      "Saving model with loss 53.012...\n"
     ]
    },
    {
     "name": "stderr",
     "output_type": "stream",
     "text": [
      "Epoch [12/3000]: 100%|██████████| 9/9 [00:00<00:00, 213.78it/s, loss=65]\n"
     ]
    },
    {
     "name": "stdout",
     "output_type": "stream",
     "text": [
      "Epoch [12/3000]: Train loss: 55.9873, Valid loss: 55.0711\n"
     ]
    },
    {
     "name": "stderr",
     "output_type": "stream",
     "text": [
      "Epoch [13/3000]: 100%|██████████| 9/9 [00:00<00:00, 238.37it/s, loss=53.3]\n"
     ]
    },
    {
     "name": "stdout",
     "output_type": "stream",
     "text": [
      "Epoch [13/3000]: Train loss: 55.2539, Valid loss: 61.7451\n"
     ]
    },
    {
     "name": "stderr",
     "output_type": "stream",
     "text": [
      "Epoch [14/3000]: 100%|██████████| 9/9 [00:00<00:00, 93.73it/s, loss=59.5]\n"
     ]
    },
    {
     "name": "stdout",
     "output_type": "stream",
     "text": [
      "Epoch [14/3000]: Train loss: 55.6449, Valid loss: 59.9629\n"
     ]
    },
    {
     "name": "stderr",
     "output_type": "stream",
     "text": [
      "Epoch [15/3000]: 100%|██████████| 9/9 [00:00<00:00, 204.07it/s, loss=44.8]\n"
     ]
    },
    {
     "name": "stdout",
     "output_type": "stream",
     "text": [
      "Epoch [15/3000]: Train loss: 54.7226, Valid loss: 68.2869\n"
     ]
    },
    {
     "name": "stderr",
     "output_type": "stream",
     "text": [
      "Epoch [16/3000]: 100%|██████████| 9/9 [00:00<00:00, 226.22it/s, loss=52.5]\n"
     ]
    },
    {
     "name": "stdout",
     "output_type": "stream",
     "text": [
      "Epoch [16/3000]: Train loss: 55.2067, Valid loss: 55.3150\n"
     ]
    },
    {
     "name": "stderr",
     "output_type": "stream",
     "text": [
      "Epoch [17/3000]: 100%|██████████| 9/9 [00:00<00:00, 254.07it/s, loss=81.9]\n"
     ]
    },
    {
     "name": "stdout",
     "output_type": "stream",
     "text": [
      "Epoch [17/3000]: Train loss: 57.0413, Valid loss: 59.4202\n"
     ]
    },
    {
     "name": "stderr",
     "output_type": "stream",
     "text": [
      "Epoch [18/3000]: 100%|██████████| 9/9 [00:00<00:00, 246.63it/s, loss=48.4]\n"
     ]
    },
    {
     "name": "stdout",
     "output_type": "stream",
     "text": [
      "Epoch [18/3000]: Train loss: 54.9499, Valid loss: 58.7961\n"
     ]
    },
    {
     "name": "stderr",
     "output_type": "stream",
     "text": [
      "Epoch [19/3000]: 100%|██████████| 9/9 [00:00<00:00, 140.42it/s, loss=60.1]\n"
     ]
    },
    {
     "name": "stdout",
     "output_type": "stream",
     "text": [
      "Epoch [19/3000]: Train loss: 55.6842, Valid loss: 51.4916\n",
      "Saving model with loss 51.492...\n"
     ]
    },
    {
     "name": "stderr",
     "output_type": "stream",
     "text": [
      "Epoch [20/3000]: 100%|██████████| 9/9 [00:00<00:00, 225.52it/s, loss=53.5]\n"
     ]
    },
    {
     "name": "stdout",
     "output_type": "stream",
     "text": [
      "Epoch [20/3000]: Train loss: 55.2713, Valid loss: 67.5009\n"
     ]
    },
    {
     "name": "stderr",
     "output_type": "stream",
     "text": [
      "Epoch [21/3000]: 100%|██████████| 9/9 [00:00<00:00, 231.78it/s, loss=48.2]\n"
     ]
    },
    {
     "name": "stdout",
     "output_type": "stream",
     "text": [
      "Epoch [21/3000]: Train loss: 54.9384, Valid loss: 61.2616\n"
     ]
    },
    {
     "name": "stderr",
     "output_type": "stream",
     "text": [
      "Epoch [22/3000]: 100%|██████████| 9/9 [00:00<00:00, 220.27it/s, loss=51.9]\n"
     ]
    },
    {
     "name": "stdout",
     "output_type": "stream",
     "text": [
      "Epoch [22/3000]: Train loss: 55.1695, Valid loss: 71.1686\n"
     ]
    },
    {
     "name": "stderr",
     "output_type": "stream",
     "text": [
      "Epoch [23/3000]: 100%|██████████| 9/9 [00:00<00:00, 203.09it/s, loss=53.5]\n"
     ]
    },
    {
     "name": "stdout",
     "output_type": "stream",
     "text": [
      "Epoch [23/3000]: Train loss: 55.2717, Valid loss: 58.1556\n"
     ]
    },
    {
     "name": "stderr",
     "output_type": "stream",
     "text": [
      "Epoch [24/3000]: 100%|██████████| 9/9 [00:00<00:00, 243.77it/s, loss=56.5]\n"
     ]
    },
    {
     "name": "stdout",
     "output_type": "stream",
     "text": [
      "Epoch [24/3000]: Train loss: 55.4594, Valid loss: 58.4204\n"
     ]
    },
    {
     "name": "stderr",
     "output_type": "stream",
     "text": [
      "Epoch [25/3000]: 100%|██████████| 9/9 [00:00<00:00, 197.06it/s, loss=56.3]\n"
     ]
    },
    {
     "name": "stdout",
     "output_type": "stream",
     "text": [
      "Epoch [25/3000]: Train loss: 55.4418, Valid loss: 52.8655\n"
     ]
    },
    {
     "name": "stderr",
     "output_type": "stream",
     "text": [
      "Epoch [26/3000]: 100%|██████████| 9/9 [00:00<00:00, 222.63it/s, loss=47.8]\n"
     ]
    },
    {
     "name": "stdout",
     "output_type": "stream",
     "text": [
      "Epoch [26/3000]: Train loss: 54.9119, Valid loss: 62.1714\n"
     ]
    },
    {
     "name": "stderr",
     "output_type": "stream",
     "text": [
      "Epoch [27/3000]: 100%|██████████| 9/9 [00:00<00:00, 220.13it/s, loss=42.9]\n"
     ]
    },
    {
     "name": "stdout",
     "output_type": "stream",
     "text": [
      "Epoch [27/3000]: Train loss: 54.6039, Valid loss: 58.1395\n"
     ]
    },
    {
     "name": "stderr",
     "output_type": "stream",
     "text": [
      "Epoch [28/3000]: 100%|██████████| 9/9 [00:00<00:00, 277.44it/s, loss=63.1]\n"
     ]
    },
    {
     "name": "stdout",
     "output_type": "stream",
     "text": [
      "Epoch [28/3000]: Train loss: 55.8708, Valid loss: 57.7412\n"
     ]
    },
    {
     "name": "stderr",
     "output_type": "stream",
     "text": [
      "Epoch [29/3000]: 100%|██████████| 9/9 [00:00<00:00, 215.99it/s, loss=51.2]\n"
     ]
    },
    {
     "name": "stdout",
     "output_type": "stream",
     "text": [
      "Epoch [29/3000]: Train loss: 55.1238, Valid loss: 62.1878\n"
     ]
    },
    {
     "name": "stderr",
     "output_type": "stream",
     "text": [
      "Epoch [30/3000]: 100%|██████████| 9/9 [00:00<00:00, 192.99it/s, loss=66.9]\n"
     ]
    },
    {
     "name": "stdout",
     "output_type": "stream",
     "text": [
      "Epoch [30/3000]: Train loss: 56.1047, Valid loss: 58.7165\n"
     ]
    },
    {
     "name": "stderr",
     "output_type": "stream",
     "text": [
      "Epoch [31/3000]: 100%|██████████| 9/9 [00:00<00:00, 169.65it/s, loss=67.1]\n"
     ]
    },
    {
     "name": "stdout",
     "output_type": "stream",
     "text": [
      "Epoch [31/3000]: Train loss: 56.1217, Valid loss: 56.8077\n"
     ]
    },
    {
     "name": "stderr",
     "output_type": "stream",
     "text": [
      "Epoch [32/3000]: 100%|██████████| 9/9 [00:00<00:00, 188.69it/s, loss=60]\n"
     ]
    },
    {
     "name": "stdout",
     "output_type": "stream",
     "text": [
      "Epoch [32/3000]: Train loss: 55.6747, Valid loss: 60.8383\n"
     ]
    },
    {
     "name": "stderr",
     "output_type": "stream",
     "text": [
      "Epoch [33/3000]: 100%|██████████| 9/9 [00:00<00:00, 276.12it/s, loss=45.9]\n"
     ]
    },
    {
     "name": "stdout",
     "output_type": "stream",
     "text": [
      "Epoch [33/3000]: Train loss: 54.7970, Valid loss: 60.5724\n"
     ]
    },
    {
     "name": "stderr",
     "output_type": "stream",
     "text": [
      "Epoch [34/3000]: 100%|██████████| 9/9 [00:00<00:00, 231.77it/s, loss=52.6]\n"
     ]
    },
    {
     "name": "stdout",
     "output_type": "stream",
     "text": [
      "Epoch [34/3000]: Train loss: 55.2135, Valid loss: 60.1134\n"
     ]
    },
    {
     "name": "stderr",
     "output_type": "stream",
     "text": [
      "Epoch [35/3000]: 100%|██████████| 9/9 [00:00<00:00, 222.61it/s, loss=56.5]\n"
     ]
    },
    {
     "name": "stdout",
     "output_type": "stream",
     "text": [
      "Epoch [35/3000]: Train loss: 55.4576, Valid loss: 56.4080\n"
     ]
    },
    {
     "name": "stderr",
     "output_type": "stream",
     "text": [
      "Epoch [36/3000]: 100%|██████████| 9/9 [00:00<00:00, 256.73it/s, loss=59]\n"
     ]
    },
    {
     "name": "stdout",
     "output_type": "stream",
     "text": [
      "Epoch [36/3000]: Train loss: 55.6113, Valid loss: 54.4271\n"
     ]
    },
    {
     "name": "stderr",
     "output_type": "stream",
     "text": [
      "Epoch [37/3000]: 100%|██████████| 9/9 [00:00<00:00, 278.91it/s, loss=46.3]\n"
     ]
    },
    {
     "name": "stdout",
     "output_type": "stream",
     "text": [
      "Epoch [37/3000]: Train loss: 54.8215, Valid loss: 52.7431\n"
     ]
    },
    {
     "name": "stderr",
     "output_type": "stream",
     "text": [
      "Epoch [38/3000]: 100%|██████████| 9/9 [00:00<00:00, 291.98it/s, loss=59]\n"
     ]
    },
    {
     "name": "stdout",
     "output_type": "stream",
     "text": [
      "Epoch [38/3000]: Train loss: 55.6163, Valid loss: 54.9759\n"
     ]
    },
    {
     "name": "stderr",
     "output_type": "stream",
     "text": [
      "Epoch [39/3000]: 100%|██████████| 9/9 [00:00<00:00, 279.63it/s, loss=56]\n"
     ]
    },
    {
     "name": "stdout",
     "output_type": "stream",
     "text": [
      "Epoch [39/3000]: Train loss: 55.4262, Valid loss: 54.6027\n"
     ]
    },
    {
     "name": "stderr",
     "output_type": "stream",
     "text": [
      "Epoch [40/3000]: 100%|██████████| 9/9 [00:00<00:00, 138.33it/s, loss=47.7]\n"
     ]
    },
    {
     "name": "stdout",
     "output_type": "stream",
     "text": [
      "Epoch [40/3000]: Train loss: 54.9058, Valid loss: 61.7000\n"
     ]
    },
    {
     "name": "stderr",
     "output_type": "stream",
     "text": [
      "Epoch [41/3000]: 100%|██████████| 9/9 [00:00<00:00, 198.31it/s, loss=46.9]\n"
     ]
    },
    {
     "name": "stdout",
     "output_type": "stream",
     "text": [
      "Epoch [41/3000]: Train loss: 54.8587, Valid loss: 54.4119\n"
     ]
    },
    {
     "name": "stderr",
     "output_type": "stream",
     "text": [
      "Epoch [42/3000]: 100%|██████████| 9/9 [00:00<00:00, 198.61it/s, loss=47.3]\n"
     ]
    },
    {
     "name": "stdout",
     "output_type": "stream",
     "text": [
      "Epoch [42/3000]: Train loss: 54.8845, Valid loss: 57.4388\n"
     ]
    },
    {
     "name": "stderr",
     "output_type": "stream",
     "text": [
      "Epoch [43/3000]: 100%|██████████| 9/9 [00:00<00:00, 312.83it/s, loss=58.4]\n"
     ]
    },
    {
     "name": "stdout",
     "output_type": "stream",
     "text": [
      "Epoch [43/3000]: Train loss: 55.5746, Valid loss: 62.6627\n"
     ]
    },
    {
     "name": "stderr",
     "output_type": "stream",
     "text": [
      "Epoch [44/3000]: 100%|██████████| 9/9 [00:00<00:00, 264.83it/s, loss=62.4]\n"
     ]
    },
    {
     "name": "stdout",
     "output_type": "stream",
     "text": [
      "Epoch [44/3000]: Train loss: 55.8253, Valid loss: 59.1222\n"
     ]
    },
    {
     "name": "stderr",
     "output_type": "stream",
     "text": [
      "Epoch [45/3000]: 100%|██████████| 9/9 [00:00<00:00, 273.77it/s, loss=43.2]\n"
     ]
    },
    {
     "name": "stdout",
     "output_type": "stream",
     "text": [
      "Epoch [45/3000]: Train loss: 54.6245, Valid loss: 66.1940\n"
     ]
    },
    {
     "name": "stderr",
     "output_type": "stream",
     "text": [
      "Epoch [46/3000]: 100%|██████████| 9/9 [00:00<00:00, 233.84it/s, loss=46.3]\n"
     ]
    },
    {
     "name": "stdout",
     "output_type": "stream",
     "text": [
      "Epoch [46/3000]: Train loss: 54.8196, Valid loss: 60.6122\n"
     ]
    },
    {
     "name": "stderr",
     "output_type": "stream",
     "text": [
      "Epoch [47/3000]: 100%|██████████| 9/9 [00:00<00:00, 225.11it/s, loss=57.8]\n"
     ]
    },
    {
     "name": "stdout",
     "output_type": "stream",
     "text": [
      "Epoch [47/3000]: Train loss: 55.5381, Valid loss: 51.9283\n"
     ]
    },
    {
     "name": "stderr",
     "output_type": "stream",
     "text": [
      "Epoch [48/3000]: 100%|██████████| 9/9 [00:00<00:00, 142.66it/s, loss=52.8]\n"
     ]
    },
    {
     "name": "stdout",
     "output_type": "stream",
     "text": [
      "Epoch [48/3000]: Train loss: 55.2270, Valid loss: 67.4076\n"
     ]
    },
    {
     "name": "stderr",
     "output_type": "stream",
     "text": [
      "Epoch [49/3000]: 100%|██████████| 9/9 [00:00<00:00, 280.96it/s, loss=77.9]\n"
     ]
    },
    {
     "name": "stdout",
     "output_type": "stream",
     "text": [
      "Epoch [49/3000]: Train loss: 56.7960, Valid loss: 68.2469\n"
     ]
    },
    {
     "name": "stderr",
     "output_type": "stream",
     "text": [
      "Epoch [50/3000]: 100%|██████████| 9/9 [00:00<00:00, 214.29it/s, loss=50.8]\n"
     ]
    },
    {
     "name": "stdout",
     "output_type": "stream",
     "text": [
      "Epoch [50/3000]: Train loss: 55.1021, Valid loss: 62.6152\n"
     ]
    },
    {
     "name": "stderr",
     "output_type": "stream",
     "text": [
      "Epoch [51/3000]: 100%|██████████| 9/9 [00:00<00:00, 268.87it/s, loss=46.2]\n"
     ]
    },
    {
     "name": "stdout",
     "output_type": "stream",
     "text": [
      "Epoch [51/3000]: Train loss: 54.8118, Valid loss: 69.4989\n"
     ]
    },
    {
     "name": "stderr",
     "output_type": "stream",
     "text": [
      "Epoch [52/3000]: 100%|██████████| 9/9 [00:00<00:00, 238.72it/s, loss=47.3]\n"
     ]
    },
    {
     "name": "stdout",
     "output_type": "stream",
     "text": [
      "Epoch [52/3000]: Train loss: 54.8789, Valid loss: 70.3123\n"
     ]
    },
    {
     "name": "stderr",
     "output_type": "stream",
     "text": [
      "Epoch [53/3000]: 100%|██████████| 9/9 [00:00<00:00, 235.60it/s, loss=57.9]\n"
     ]
    },
    {
     "name": "stdout",
     "output_type": "stream",
     "text": [
      "Epoch [53/3000]: Train loss: 55.5462, Valid loss: 61.1951\n"
     ]
    },
    {
     "name": "stderr",
     "output_type": "stream",
     "text": [
      "Epoch [54/3000]: 100%|██████████| 9/9 [00:00<00:00, 268.46it/s, loss=51.1]\n"
     ]
    },
    {
     "name": "stdout",
     "output_type": "stream",
     "text": [
      "Epoch [54/3000]: Train loss: 55.1196, Valid loss: 56.8322\n"
     ]
    },
    {
     "name": "stderr",
     "output_type": "stream",
     "text": [
      "Epoch [55/3000]: 100%|██████████| 9/9 [00:00<00:00, 230.61it/s, loss=60]\n"
     ]
    },
    {
     "name": "stdout",
     "output_type": "stream",
     "text": [
      "Epoch [55/3000]: Train loss: 55.6727, Valid loss: 56.7645\n"
     ]
    },
    {
     "name": "stderr",
     "output_type": "stream",
     "text": [
      "Epoch [56/3000]: 100%|██████████| 9/9 [00:00<00:00, 244.79it/s, loss=45.3]\n"
     ]
    },
    {
     "name": "stdout",
     "output_type": "stream",
     "text": [
      "Epoch [56/3000]: Train loss: 54.7571, Valid loss: 62.4495\n"
     ]
    },
    {
     "name": "stderr",
     "output_type": "stream",
     "text": [
      "Epoch [57/3000]: 100%|██████████| 9/9 [00:00<00:00, 124.81it/s, loss=65.2]\n"
     ]
    },
    {
     "name": "stdout",
     "output_type": "stream",
     "text": [
      "Epoch [57/3000]: Train loss: 56.0032, Valid loss: 68.0878\n"
     ]
    },
    {
     "name": "stderr",
     "output_type": "stream",
     "text": [
      "Epoch [58/3000]: 100%|██████████| 9/9 [00:00<00:00, 212.76it/s, loss=47.9]\n"
     ]
    },
    {
     "name": "stdout",
     "output_type": "stream",
     "text": [
      "Epoch [58/3000]: Train loss: 54.9197, Valid loss: 52.1921\n"
     ]
    },
    {
     "name": "stderr",
     "output_type": "stream",
     "text": [
      "Epoch [59/3000]: 100%|██████████| 9/9 [00:00<00:00, 281.41it/s, loss=46.1]\n"
     ]
    },
    {
     "name": "stdout",
     "output_type": "stream",
     "text": [
      "Epoch [59/3000]: Train loss: 54.8067, Valid loss: 59.2785\n"
     ]
    },
    {
     "name": "stderr",
     "output_type": "stream",
     "text": [
      "Epoch [60/3000]: 100%|██████████| 9/9 [00:00<00:00, 330.99it/s, loss=53.1]\n"
     ]
    },
    {
     "name": "stdout",
     "output_type": "stream",
     "text": [
      "Epoch [60/3000]: Train loss: 55.2470, Valid loss: 65.0768\n"
     ]
    },
    {
     "name": "stderr",
     "output_type": "stream",
     "text": [
      "Epoch [61/3000]: 100%|██████████| 9/9 [00:00<00:00, 235.71it/s, loss=60]\n"
     ]
    },
    {
     "name": "stdout",
     "output_type": "stream",
     "text": [
      "Epoch [61/3000]: Train loss: 55.6746, Valid loss: 56.9595\n"
     ]
    },
    {
     "name": "stderr",
     "output_type": "stream",
     "text": [
      "Epoch [62/3000]: 100%|██████████| 9/9 [00:00<00:00, 209.71it/s, loss=56.6]\n"
     ]
    },
    {
     "name": "stdout",
     "output_type": "stream",
     "text": [
      "Epoch [62/3000]: Train loss: 55.4644, Valid loss: 54.8746\n"
     ]
    },
    {
     "name": "stderr",
     "output_type": "stream",
     "text": [
      "Epoch [63/3000]: 100%|██████████| 9/9 [00:00<00:00, 262.93it/s, loss=42.7]\n"
     ]
    },
    {
     "name": "stdout",
     "output_type": "stream",
     "text": [
      "Epoch [63/3000]: Train loss: 54.5920, Valid loss: 68.8844\n"
     ]
    },
    {
     "name": "stderr",
     "output_type": "stream",
     "text": [
      "Epoch [64/3000]: 100%|██████████| 9/9 [00:00<00:00, 138.59it/s, loss=56.3]\n"
     ]
    },
    {
     "name": "stdout",
     "output_type": "stream",
     "text": [
      "Epoch [64/3000]: Train loss: 55.4461, Valid loss: 67.0857\n"
     ]
    },
    {
     "name": "stderr",
     "output_type": "stream",
     "text": [
      "Epoch [65/3000]: 100%|██████████| 9/9 [00:00<00:00, 272.33it/s, loss=73.1]\n"
     ]
    },
    {
     "name": "stdout",
     "output_type": "stream",
     "text": [
      "Epoch [65/3000]: Train loss: 56.4955, Valid loss: 56.3471\n"
     ]
    },
    {
     "name": "stderr",
     "output_type": "stream",
     "text": [
      "Epoch [66/3000]: 100%|██████████| 9/9 [00:00<00:00, 230.12it/s, loss=60.4]\n"
     ]
    },
    {
     "name": "stdout",
     "output_type": "stream",
     "text": [
      "Epoch [66/3000]: Train loss: 55.7023, Valid loss: 60.2449\n"
     ]
    },
    {
     "name": "stderr",
     "output_type": "stream",
     "text": [
      "Epoch [67/3000]: 100%|██████████| 9/9 [00:00<00:00, 260.35it/s, loss=56.3]\n"
     ]
    },
    {
     "name": "stdout",
     "output_type": "stream",
     "text": [
      "Epoch [67/3000]: Train loss: 55.4444, Valid loss: 54.2445\n"
     ]
    },
    {
     "name": "stderr",
     "output_type": "stream",
     "text": [
      "Epoch [68/3000]: 100%|██████████| 9/9 [00:00<00:00, 257.99it/s, loss=47]\n"
     ]
    },
    {
     "name": "stdout",
     "output_type": "stream",
     "text": [
      "Epoch [68/3000]: Train loss: 54.8628, Valid loss: 60.0637\n"
     ]
    },
    {
     "name": "stderr",
     "output_type": "stream",
     "text": [
      "Epoch [69/3000]: 100%|██████████| 9/9 [00:00<00:00, 263.41it/s, loss=58.4]\n"
     ]
    },
    {
     "name": "stdout",
     "output_type": "stream",
     "text": [
      "Epoch [69/3000]: Train loss: 55.5747, Valid loss: 59.6114\n"
     ]
    },
    {
     "name": "stderr",
     "output_type": "stream",
     "text": [
      "Epoch [70/3000]: 100%|██████████| 9/9 [00:00<00:00, 148.26it/s, loss=53.6]\n"
     ]
    },
    {
     "name": "stdout",
     "output_type": "stream",
     "text": [
      "Epoch [70/3000]: Train loss: 55.2749, Valid loss: 57.4928\n"
     ]
    },
    {
     "name": "stderr",
     "output_type": "stream",
     "text": [
      "Epoch [71/3000]: 100%|██████████| 9/9 [00:00<00:00, 257.49it/s, loss=57]\n"
     ]
    },
    {
     "name": "stdout",
     "output_type": "stream",
     "text": [
      "Epoch [71/3000]: Train loss: 55.4889, Valid loss: 59.1083\n"
     ]
    },
    {
     "name": "stderr",
     "output_type": "stream",
     "text": [
      "Epoch [72/3000]: 100%|██████████| 9/9 [00:00<00:00, 227.91it/s, loss=51.2]\n"
     ]
    },
    {
     "name": "stdout",
     "output_type": "stream",
     "text": [
      "Epoch [72/3000]: Train loss: 55.1247, Valid loss: 63.3135\n"
     ]
    },
    {
     "name": "stderr",
     "output_type": "stream",
     "text": [
      "Epoch [73/3000]: 100%|██████████| 9/9 [00:00<00:00, 271.30it/s, loss=53.2]\n"
     ]
    },
    {
     "name": "stdout",
     "output_type": "stream",
     "text": [
      "Epoch [73/3000]: Train loss: 55.2528, Valid loss: 54.7585\n"
     ]
    },
    {
     "name": "stderr",
     "output_type": "stream",
     "text": [
      "Epoch [74/3000]: 100%|██████████| 9/9 [00:00<00:00, 168.30it/s, loss=39.6]\n"
     ]
    },
    {
     "name": "stdout",
     "output_type": "stream",
     "text": [
      "Epoch [74/3000]: Train loss: 54.3983, Valid loss: 58.4496\n"
     ]
    },
    {
     "name": "stderr",
     "output_type": "stream",
     "text": [
      "Epoch [75/3000]: 100%|██████████| 9/9 [00:00<00:00, 105.88it/s, loss=55.1]\n"
     ]
    },
    {
     "name": "stdout",
     "output_type": "stream",
     "text": [
      "Epoch [75/3000]: Train loss: 55.3670, Valid loss: 63.5577\n"
     ]
    },
    {
     "name": "stderr",
     "output_type": "stream",
     "text": [
      "Epoch [76/3000]: 100%|██████████| 9/9 [00:00<00:00, 202.94it/s, loss=54.9]\n"
     ]
    },
    {
     "name": "stdout",
     "output_type": "stream",
     "text": [
      "Epoch [76/3000]: Train loss: 55.3587, Valid loss: 54.8614\n"
     ]
    },
    {
     "name": "stderr",
     "output_type": "stream",
     "text": [
      "Epoch [77/3000]: 100%|██████████| 9/9 [00:00<00:00, 177.34it/s, loss=50.9]\n"
     ]
    },
    {
     "name": "stdout",
     "output_type": "stream",
     "text": [
      "Epoch [77/3000]: Train loss: 55.1041, Valid loss: 55.9027\n"
     ]
    },
    {
     "name": "stderr",
     "output_type": "stream",
     "text": [
      "Epoch [78/3000]: 100%|██████████| 9/9 [00:00<00:00, 199.17it/s, loss=43.6]\n"
     ]
    },
    {
     "name": "stdout",
     "output_type": "stream",
     "text": [
      "Epoch [78/3000]: Train loss: 54.6521, Valid loss: 65.2661\n"
     ]
    },
    {
     "name": "stderr",
     "output_type": "stream",
     "text": [
      "Epoch [79/3000]: 100%|██████████| 9/9 [00:00<00:00, 190.78it/s, loss=68.3]\n"
     ]
    },
    {
     "name": "stdout",
     "output_type": "stream",
     "text": [
      "Epoch [79/3000]: Train loss: 56.1963, Valid loss: 49.8859\n",
      "Saving model with loss 49.886...\n"
     ]
    },
    {
     "name": "stderr",
     "output_type": "stream",
     "text": [
      "Epoch [80/3000]: 100%|██████████| 9/9 [00:00<00:00, 124.56it/s, loss=45.9]\n"
     ]
    },
    {
     "name": "stdout",
     "output_type": "stream",
     "text": [
      "Epoch [80/3000]: Train loss: 54.7940, Valid loss: 52.2347\n"
     ]
    },
    {
     "name": "stderr",
     "output_type": "stream",
     "text": [
      "Epoch [81/3000]: 100%|██████████| 9/9 [00:00<00:00, 202.10it/s, loss=51.5]\n"
     ]
    },
    {
     "name": "stdout",
     "output_type": "stream",
     "text": [
      "Epoch [81/3000]: Train loss: 55.1442, Valid loss: 56.5005\n"
     ]
    },
    {
     "name": "stderr",
     "output_type": "stream",
     "text": [
      "Epoch [82/3000]: 100%|██████████| 9/9 [00:00<00:00, 263.05it/s, loss=48.7]\n"
     ]
    },
    {
     "name": "stdout",
     "output_type": "stream",
     "text": [
      "Epoch [82/3000]: Train loss: 54.9697, Valid loss: 52.7745\n"
     ]
    },
    {
     "name": "stderr",
     "output_type": "stream",
     "text": [
      "Epoch [83/3000]: 100%|██████████| 9/9 [00:00<00:00, 215.81it/s, loss=48.7]\n"
     ]
    },
    {
     "name": "stdout",
     "output_type": "stream",
     "text": [
      "Epoch [83/3000]: Train loss: 54.9715, Valid loss: 65.2626\n"
     ]
    },
    {
     "name": "stderr",
     "output_type": "stream",
     "text": [
      "Epoch [84/3000]: 100%|██████████| 9/9 [00:00<00:00, 236.49it/s, loss=47.3]\n"
     ]
    },
    {
     "name": "stdout",
     "output_type": "stream",
     "text": [
      "Epoch [84/3000]: Train loss: 54.8831, Valid loss: 53.4379\n"
     ]
    },
    {
     "name": "stderr",
     "output_type": "stream",
     "text": [
      "Epoch [85/3000]: 100%|██████████| 9/9 [00:00<00:00, 302.96it/s, loss=58.1]\n"
     ]
    },
    {
     "name": "stdout",
     "output_type": "stream",
     "text": [
      "Epoch [85/3000]: Train loss: 55.5551, Valid loss: 61.3275\n"
     ]
    },
    {
     "name": "stderr",
     "output_type": "stream",
     "text": [
      "Epoch [86/3000]: 100%|██████████| 9/9 [00:00<00:00, 135.09it/s, loss=51.8]\n"
     ]
    },
    {
     "name": "stdout",
     "output_type": "stream",
     "text": [
      "Epoch [86/3000]: Train loss: 55.1611, Valid loss: 57.4915\n"
     ]
    },
    {
     "name": "stderr",
     "output_type": "stream",
     "text": [
      "Epoch [87/3000]: 100%|██████████| 9/9 [00:00<00:00, 191.71it/s, loss=57.3]\n"
     ]
    },
    {
     "name": "stdout",
     "output_type": "stream",
     "text": [
      "Epoch [87/3000]: Train loss: 55.5083, Valid loss: 55.0368\n"
     ]
    },
    {
     "name": "stderr",
     "output_type": "stream",
     "text": [
      "Epoch [88/3000]: 100%|██████████| 9/9 [00:00<00:00, 211.93it/s, loss=55.2]\n"
     ]
    },
    {
     "name": "stdout",
     "output_type": "stream",
     "text": [
      "Epoch [88/3000]: Train loss: 55.3767, Valid loss: 58.5616\n"
     ]
    },
    {
     "name": "stderr",
     "output_type": "stream",
     "text": [
      "Epoch [89/3000]: 100%|██████████| 9/9 [00:00<00:00, 255.84it/s, loss=48.6]\n"
     ]
    },
    {
     "name": "stdout",
     "output_type": "stream",
     "text": [
      "Epoch [89/3000]: Train loss: 54.9633, Valid loss: 57.2247\n"
     ]
    },
    {
     "name": "stderr",
     "output_type": "stream",
     "text": [
      "Epoch [90/3000]: 100%|██████████| 9/9 [00:00<00:00, 225.94it/s, loss=56]\n"
     ]
    },
    {
     "name": "stdout",
     "output_type": "stream",
     "text": [
      "Epoch [90/3000]: Train loss: 55.4227, Valid loss: 63.1985\n"
     ]
    },
    {
     "name": "stderr",
     "output_type": "stream",
     "text": [
      "Epoch [91/3000]: 100%|██████████| 9/9 [00:00<00:00, 288.16it/s, loss=49.2]\n"
     ]
    },
    {
     "name": "stdout",
     "output_type": "stream",
     "text": [
      "Epoch [91/3000]: Train loss: 55.0015, Valid loss: 59.7227\n"
     ]
    },
    {
     "name": "stderr",
     "output_type": "stream",
     "text": [
      "Epoch [92/3000]: 100%|██████████| 9/9 [00:00<00:00, 125.13it/s, loss=63.4]\n"
     ]
    },
    {
     "name": "stdout",
     "output_type": "stream",
     "text": [
      "Epoch [92/3000]: Train loss: 55.8865, Valid loss: 61.2980\n"
     ]
    },
    {
     "name": "stderr",
     "output_type": "stream",
     "text": [
      "Epoch [93/3000]: 100%|██████████| 9/9 [00:00<00:00, 190.70it/s, loss=71.3]"
     ]
    },
    {
     "name": "stdout",
     "output_type": "stream",
     "text": [
      "Epoch [93/3000]: Train loss: 56.3834, Valid loss: 60.7562"
     ]
    },
    {
     "name": "stderr",
     "output_type": "stream",
     "text": [
      "\n"
     ]
    },
    {
     "name": "stdout",
     "output_type": "stream",
     "text": [
      "\n"
     ]
    },
    {
     "name": "stderr",
     "output_type": "stream",
     "text": [
      "Epoch [94/3000]: 100%|██████████| 9/9 [00:00<00:00, 203.40it/s, loss=60.9]\n"
     ]
    },
    {
     "name": "stdout",
     "output_type": "stream",
     "text": [
      "Epoch [94/3000]: Train loss: 55.7340, Valid loss: 75.4331\n"
     ]
    },
    {
     "name": "stderr",
     "output_type": "stream",
     "text": [
      "Epoch [95/3000]: 100%|██████████| 9/9 [00:00<00:00, 250.56it/s, loss=55.3]\n"
     ]
    },
    {
     "name": "stdout",
     "output_type": "stream",
     "text": [
      "Epoch [95/3000]: Train loss: 55.3814, Valid loss: 64.9751\n"
     ]
    },
    {
     "name": "stderr",
     "output_type": "stream",
     "text": [
      "Epoch [96/3000]: 100%|██████████| 9/9 [00:00<00:00, 221.10it/s, loss=70.6]\n"
     ]
    },
    {
     "name": "stdout",
     "output_type": "stream",
     "text": [
      "Epoch [96/3000]: Train loss: 56.3369, Valid loss: 59.5576\n"
     ]
    },
    {
     "name": "stderr",
     "output_type": "stream",
     "text": [
      "Epoch [97/3000]: 100%|██████████| 9/9 [00:00<00:00, 155.46it/s, loss=50.1]\n"
     ]
    },
    {
     "name": "stdout",
     "output_type": "stream",
     "text": [
      "Epoch [97/3000]: Train loss: 55.0586, Valid loss: 62.8785\n"
     ]
    },
    {
     "name": "stderr",
     "output_type": "stream",
     "text": [
      "Epoch [98/3000]: 100%|██████████| 9/9 [00:00<00:00, 176.83it/s, loss=59.8]\n"
     ]
    },
    {
     "name": "stdout",
     "output_type": "stream",
     "text": [
      "Epoch [98/3000]: Train loss: 55.6602, Valid loss: 79.1797\n"
     ]
    },
    {
     "name": "stderr",
     "output_type": "stream",
     "text": [
      "Epoch [99/3000]: 100%|██████████| 9/9 [00:00<00:00, 213.34it/s, loss=59.3]\n"
     ]
    },
    {
     "name": "stdout",
     "output_type": "stream",
     "text": [
      "Epoch [99/3000]: Train loss: 55.6300, Valid loss: 51.1712\n"
     ]
    },
    {
     "name": "stderr",
     "output_type": "stream",
     "text": [
      "Epoch [100/3000]: 100%|██████████| 9/9 [00:00<00:00, 210.40it/s, loss=55.4]\n"
     ]
    },
    {
     "name": "stdout",
     "output_type": "stream",
     "text": [
      "Epoch [100/3000]: Train loss: 55.3859, Valid loss: 50.7512\n"
     ]
    },
    {
     "name": "stderr",
     "output_type": "stream",
     "text": [
      "Epoch [101/3000]: 100%|██████████| 9/9 [00:00<00:00, 116.42it/s, loss=52.3]\n"
     ]
    },
    {
     "name": "stdout",
     "output_type": "stream",
     "text": [
      "Epoch [101/3000]: Train loss: 55.1925, Valid loss: 56.1682\n"
     ]
    },
    {
     "name": "stderr",
     "output_type": "stream",
     "text": [
      "Epoch [102/3000]: 100%|██████████| 9/9 [00:00<00:00, 190.16it/s, loss=48.5]\n"
     ]
    },
    {
     "name": "stdout",
     "output_type": "stream",
     "text": [
      "Epoch [102/3000]: Train loss: 54.9566, Valid loss: 64.8897\n"
     ]
    },
    {
     "name": "stderr",
     "output_type": "stream",
     "text": [
      "Epoch [103/3000]: 100%|██████████| 9/9 [00:00<00:00, 225.79it/s, loss=62.7]\n"
     ]
    },
    {
     "name": "stdout",
     "output_type": "stream",
     "text": [
      "Epoch [103/3000]: Train loss: 55.8425, Valid loss: 57.3862\n"
     ]
    },
    {
     "name": "stderr",
     "output_type": "stream",
     "text": [
      "Epoch [104/3000]: 100%|██████████| 9/9 [00:00<00:00, 240.48it/s, loss=58.9]\n"
     ]
    },
    {
     "name": "stdout",
     "output_type": "stream",
     "text": [
      "Epoch [104/3000]: Train loss: 55.6039, Valid loss: 59.8168\n"
     ]
    },
    {
     "name": "stderr",
     "output_type": "stream",
     "text": [
      "Epoch [105/3000]: 100%|██████████| 9/9 [00:00<00:00, 238.07it/s, loss=50.9]\n"
     ]
    },
    {
     "name": "stdout",
     "output_type": "stream",
     "text": [
      "Epoch [105/3000]: Train loss: 55.1079, Valid loss: 53.7069\n"
     ]
    },
    {
     "name": "stderr",
     "output_type": "stream",
     "text": [
      "Epoch [106/3000]: 100%|██████████| 9/9 [00:00<00:00, 118.81it/s, loss=42.7]\n"
     ]
    },
    {
     "name": "stdout",
     "output_type": "stream",
     "text": [
      "Epoch [106/3000]: Train loss: 54.5941, Valid loss: 56.7935\n"
     ]
    },
    {
     "name": "stderr",
     "output_type": "stream",
     "text": [
      "Epoch [107/3000]: 100%|██████████| 9/9 [00:00<00:00, 194.80it/s, loss=47.9]\n"
     ]
    },
    {
     "name": "stdout",
     "output_type": "stream",
     "text": [
      "Epoch [107/3000]: Train loss: 54.9221, Valid loss: 54.4272\n"
     ]
    },
    {
     "name": "stderr",
     "output_type": "stream",
     "text": [
      "Epoch [108/3000]: 100%|██████████| 9/9 [00:00<00:00, 221.67it/s, loss=60.9]\n"
     ]
    },
    {
     "name": "stdout",
     "output_type": "stream",
     "text": [
      "Epoch [108/3000]: Train loss: 55.7303, Valid loss: 52.2603\n"
     ]
    },
    {
     "name": "stderr",
     "output_type": "stream",
     "text": [
      "Epoch [109/3000]: 100%|██████████| 9/9 [00:00<00:00, 211.86it/s, loss=36.5]\n"
     ]
    },
    {
     "name": "stdout",
     "output_type": "stream",
     "text": [
      "Epoch [109/3000]: Train loss: 54.2047, Valid loss: 52.8595\n"
     ]
    },
    {
     "name": "stderr",
     "output_type": "stream",
     "text": [
      "Epoch [110/3000]: 100%|██████████| 9/9 [00:00<00:00, 228.95it/s, loss=66.9]\n"
     ]
    },
    {
     "name": "stdout",
     "output_type": "stream",
     "text": [
      "Epoch [110/3000]: Train loss: 56.1091, Valid loss: 55.0749\n"
     ]
    },
    {
     "name": "stderr",
     "output_type": "stream",
     "text": [
      "Epoch [111/3000]: 100%|██████████| 9/9 [00:00<00:00, 123.80it/s, loss=55.3]\n"
     ]
    },
    {
     "name": "stdout",
     "output_type": "stream",
     "text": [
      "Epoch [111/3000]: Train loss: 55.3801, Valid loss: 60.6074\n"
     ]
    },
    {
     "name": "stderr",
     "output_type": "stream",
     "text": [
      "Epoch [112/3000]: 100%|██████████| 9/9 [00:00<00:00, 322.20it/s, loss=70]\n"
     ]
    },
    {
     "name": "stdout",
     "output_type": "stream",
     "text": [
      "Epoch [112/3000]: Train loss: 56.3002, Valid loss: 57.3143\n"
     ]
    },
    {
     "name": "stderr",
     "output_type": "stream",
     "text": [
      "Epoch [113/3000]: 100%|██████████| 9/9 [00:00<00:00, 245.31it/s, loss=60.5]\n"
     ]
    },
    {
     "name": "stdout",
     "output_type": "stream",
     "text": [
      "Epoch [113/3000]: Train loss: 55.7079, Valid loss: 60.9192\n"
     ]
    },
    {
     "name": "stderr",
     "output_type": "stream",
     "text": [
      "Epoch [114/3000]: 100%|██████████| 9/9 [00:00<00:00, 238.42it/s, loss=62.3]\n"
     ]
    },
    {
     "name": "stdout",
     "output_type": "stream",
     "text": [
      "Epoch [114/3000]: Train loss: 55.8223, Valid loss: 51.7781\n"
     ]
    },
    {
     "name": "stderr",
     "output_type": "stream",
     "text": [
      "Epoch [115/3000]: 100%|██████████| 9/9 [00:00<00:00, 259.88it/s, loss=65]\n"
     ]
    },
    {
     "name": "stdout",
     "output_type": "stream",
     "text": [
      "Epoch [115/3000]: Train loss: 55.9884, Valid loss: 60.8151\n"
     ]
    },
    {
     "name": "stderr",
     "output_type": "stream",
     "text": [
      "Epoch [116/3000]: 100%|██████████| 9/9 [00:00<00:00, 179.03it/s, loss=53.5]\n"
     ]
    },
    {
     "name": "stdout",
     "output_type": "stream",
     "text": [
      "Epoch [116/3000]: Train loss: 55.2678, Valid loss: 56.1400\n"
     ]
    },
    {
     "name": "stderr",
     "output_type": "stream",
     "text": [
      "Epoch [117/3000]: 100%|██████████| 9/9 [00:00<00:00, 230.78it/s, loss=38.5]\n"
     ]
    },
    {
     "name": "stdout",
     "output_type": "stream",
     "text": [
      "Epoch [117/3000]: Train loss: 54.3313, Valid loss: 55.0499\n"
     ]
    },
    {
     "name": "stderr",
     "output_type": "stream",
     "text": [
      "Epoch [118/3000]: 100%|██████████| 9/9 [00:00<00:00, 233.94it/s, loss=63.6]\n"
     ]
    },
    {
     "name": "stdout",
     "output_type": "stream",
     "text": [
      "Epoch [118/3000]: Train loss: 55.8983, Valid loss: 63.3658\n"
     ]
    },
    {
     "name": "stderr",
     "output_type": "stream",
     "text": [
      "Epoch [119/3000]: 100%|██████████| 9/9 [00:00<00:00, 208.19it/s, loss=54.3]\n"
     ]
    },
    {
     "name": "stdout",
     "output_type": "stream",
     "text": [
      "Epoch [119/3000]: Train loss: 55.3197, Valid loss: 60.0103\n"
     ]
    },
    {
     "name": "stderr",
     "output_type": "stream",
     "text": [
      "Epoch [120/3000]: 100%|██████████| 9/9 [00:00<00:00, 246.50it/s, loss=47.8]\n"
     ]
    },
    {
     "name": "stdout",
     "output_type": "stream",
     "text": [
      "Epoch [120/3000]: Train loss: 54.9144, Valid loss: 58.9865\n"
     ]
    },
    {
     "name": "stderr",
     "output_type": "stream",
     "text": [
      "Epoch [121/3000]: 100%|██████████| 9/9 [00:00<00:00, 130.18it/s, loss=49.4]\n"
     ]
    },
    {
     "name": "stdout",
     "output_type": "stream",
     "text": [
      "Epoch [121/3000]: Train loss: 55.0113, Valid loss: 60.2043\n"
     ]
    },
    {
     "name": "stderr",
     "output_type": "stream",
     "text": [
      "Epoch [122/3000]: 100%|██████████| 9/9 [00:00<00:00, 217.31it/s, loss=60.2]\n"
     ]
    },
    {
     "name": "stdout",
     "output_type": "stream",
     "text": [
      "Epoch [122/3000]: Train loss: 55.6894, Valid loss: 75.5698\n"
     ]
    },
    {
     "name": "stderr",
     "output_type": "stream",
     "text": [
      "Epoch [123/3000]: 100%|██████████| 9/9 [00:00<00:00, 268.53it/s, loss=53.7]\n"
     ]
    },
    {
     "name": "stdout",
     "output_type": "stream",
     "text": [
      "Epoch [123/3000]: Train loss: 55.2828, Valid loss: 55.8300\n"
     ]
    },
    {
     "name": "stderr",
     "output_type": "stream",
     "text": [
      "Epoch [124/3000]: 100%|██████████| 9/9 [00:00<00:00, 237.92it/s, loss=56.6]\n"
     ]
    },
    {
     "name": "stdout",
     "output_type": "stream",
     "text": [
      "Epoch [124/3000]: Train loss: 55.4615, Valid loss: 70.3726\n"
     ]
    },
    {
     "name": "stderr",
     "output_type": "stream",
     "text": [
      "Epoch [125/3000]: 100%|██████████| 9/9 [00:00<00:00, 210.76it/s, loss=51.3]\n"
     ]
    },
    {
     "name": "stdout",
     "output_type": "stream",
     "text": [
      "Epoch [125/3000]: Train loss: 55.1341, Valid loss: 65.4826\n"
     ]
    },
    {
     "name": "stderr",
     "output_type": "stream",
     "text": [
      "Epoch [126/3000]: 100%|██████████| 9/9 [00:00<00:00, 119.49it/s, loss=48.9]\n"
     ]
    },
    {
     "name": "stdout",
     "output_type": "stream",
     "text": [
      "Epoch [126/3000]: Train loss: 54.9825, Valid loss: 70.4946\n"
     ]
    },
    {
     "name": "stderr",
     "output_type": "stream",
     "text": [
      "Epoch [127/3000]: 100%|██████████| 9/9 [00:00<00:00, 196.74it/s, loss=55.7]\n"
     ]
    },
    {
     "name": "stdout",
     "output_type": "stream",
     "text": [
      "Epoch [127/3000]: Train loss: 55.4062, Valid loss: 60.4420\n"
     ]
    },
    {
     "name": "stderr",
     "output_type": "stream",
     "text": [
      "Epoch [128/3000]: 100%|██████████| 9/9 [00:00<00:00, 225.85it/s, loss=53]\n"
     ]
    },
    {
     "name": "stdout",
     "output_type": "stream",
     "text": [
      "Epoch [128/3000]: Train loss: 55.2408, Valid loss: 54.2309\n"
     ]
    },
    {
     "name": "stderr",
     "output_type": "stream",
     "text": [
      "Epoch [129/3000]: 100%|██████████| 9/9 [00:00<00:00, 214.18it/s, loss=45.2]\n"
     ]
    },
    {
     "name": "stdout",
     "output_type": "stream",
     "text": [
      "Epoch [129/3000]: Train loss: 54.7534, Valid loss: 61.8664\n"
     ]
    },
    {
     "name": "stderr",
     "output_type": "stream",
     "text": [
      "Epoch [130/3000]: 100%|██████████| 9/9 [00:00<00:00, 277.08it/s, loss=44.7]\n"
     ]
    },
    {
     "name": "stdout",
     "output_type": "stream",
     "text": [
      "Epoch [130/3000]: Train loss: 54.7208, Valid loss: 57.3261\n"
     ]
    },
    {
     "name": "stderr",
     "output_type": "stream",
     "text": [
      "Epoch [131/3000]: 100%|██████████| 9/9 [00:00<00:00, 120.47it/s, loss=34.3]\n"
     ]
    },
    {
     "name": "stdout",
     "output_type": "stream",
     "text": [
      "Epoch [131/3000]: Train loss: 54.0678, Valid loss: 66.8237\n"
     ]
    },
    {
     "name": "stderr",
     "output_type": "stream",
     "text": [
      "Epoch [132/3000]: 100%|██████████| 9/9 [00:00<00:00, 224.74it/s, loss=44.5]\n"
     ]
    },
    {
     "name": "stdout",
     "output_type": "stream",
     "text": [
      "Epoch [132/3000]: Train loss: 54.7038, Valid loss: 51.0174\n"
     ]
    },
    {
     "name": "stderr",
     "output_type": "stream",
     "text": [
      "Epoch [133/3000]: 100%|██████████| 9/9 [00:00<00:00, 181.37it/s, loss=56.2]\n"
     ]
    },
    {
     "name": "stdout",
     "output_type": "stream",
     "text": [
      "Epoch [133/3000]: Train loss: 55.4377, Valid loss: 69.2189\n"
     ]
    },
    {
     "name": "stderr",
     "output_type": "stream",
     "text": [
      "Epoch [134/3000]: 100%|██████████| 9/9 [00:00<00:00, 193.97it/s, loss=66.7]\n"
     ]
    },
    {
     "name": "stdout",
     "output_type": "stream",
     "text": [
      "Epoch [134/3000]: Train loss: 56.0938, Valid loss: 54.8557\n"
     ]
    },
    {
     "name": "stderr",
     "output_type": "stream",
     "text": [
      "Epoch [135/3000]: 100%|██████████| 9/9 [00:00<00:00, 190.41it/s, loss=48.1]\n"
     ]
    },
    {
     "name": "stdout",
     "output_type": "stream",
     "text": [
      "Epoch [135/3000]: Train loss: 54.9290, Valid loss: 55.3193\n"
     ]
    },
    {
     "name": "stderr",
     "output_type": "stream",
     "text": [
      "Epoch [136/3000]: 100%|██████████| 9/9 [00:00<00:00, 174.73it/s, loss=45.1]\n"
     ]
    },
    {
     "name": "stdout",
     "output_type": "stream",
     "text": [
      "Epoch [136/3000]: Train loss: 54.7449, Valid loss: 57.8860\n"
     ]
    },
    {
     "name": "stderr",
     "output_type": "stream",
     "text": [
      "Epoch [137/3000]: 100%|██████████| 9/9 [00:00<00:00, 193.66it/s, loss=61.1]\n"
     ]
    },
    {
     "name": "stdout",
     "output_type": "stream",
     "text": [
      "Epoch [137/3000]: Train loss: 55.7425, Valid loss: 67.0342\n"
     ]
    },
    {
     "name": "stderr",
     "output_type": "stream",
     "text": [
      "Epoch [138/3000]: 100%|██████████| 9/9 [00:00<00:00, 228.59it/s, loss=51.8]\n"
     ]
    },
    {
     "name": "stdout",
     "output_type": "stream",
     "text": [
      "Epoch [138/3000]: Train loss: 55.1607, Valid loss: 61.1435\n"
     ]
    },
    {
     "name": "stderr",
     "output_type": "stream",
     "text": [
      "Epoch [139/3000]: 100%|██████████| 9/9 [00:00<00:00, 236.08it/s, loss=47]\n"
     ]
    },
    {
     "name": "stdout",
     "output_type": "stream",
     "text": [
      "Epoch [139/3000]: Train loss: 54.8622, Valid loss: 66.0349\n"
     ]
    },
    {
     "name": "stderr",
     "output_type": "stream",
     "text": [
      "Epoch [140/3000]: 100%|██████████| 9/9 [00:00<00:00, 212.81it/s, loss=49]\n"
     ]
    },
    {
     "name": "stdout",
     "output_type": "stream",
     "text": [
      "Epoch [140/3000]: Train loss: 54.9855, Valid loss: 57.2706\n"
     ]
    },
    {
     "name": "stderr",
     "output_type": "stream",
     "text": [
      "Epoch [141/3000]: 100%|██████████| 9/9 [00:00<00:00, 95.84it/s, loss=52]\n"
     ]
    },
    {
     "name": "stdout",
     "output_type": "stream",
     "text": [
      "Epoch [141/3000]: Train loss: 55.1740, Valid loss: 55.1409\n"
     ]
    },
    {
     "name": "stderr",
     "output_type": "stream",
     "text": [
      "Epoch [142/3000]: 100%|██████████| 9/9 [00:00<00:00, 230.33it/s, loss=38.7]\n"
     ]
    },
    {
     "name": "stdout",
     "output_type": "stream",
     "text": [
      "Epoch [142/3000]: Train loss: 54.3456, Valid loss: 60.5998\n"
     ]
    },
    {
     "name": "stderr",
     "output_type": "stream",
     "text": [
      "Epoch [143/3000]: 100%|██████████| 9/9 [00:00<00:00, 240.73it/s, loss=58.8]\n"
     ]
    },
    {
     "name": "stdout",
     "output_type": "stream",
     "text": [
      "Epoch [143/3000]: Train loss: 55.5979, Valid loss: 51.6303\n"
     ]
    },
    {
     "name": "stderr",
     "output_type": "stream",
     "text": [
      "Epoch [144/3000]: 100%|██████████| 9/9 [00:00<00:00, 215.87it/s, loss=62.5]\n"
     ]
    },
    {
     "name": "stdout",
     "output_type": "stream",
     "text": [
      "Epoch [144/3000]: Train loss: 55.8331, Valid loss: 60.6707\n"
     ]
    },
    {
     "name": "stderr",
     "output_type": "stream",
     "text": [
      "Epoch [145/3000]: 100%|██████████| 9/9 [00:00<00:00, 256.51it/s, loss=59.2]\n"
     ]
    },
    {
     "name": "stdout",
     "output_type": "stream",
     "text": [
      "Epoch [145/3000]: Train loss: 55.6230, Valid loss: 54.1098\n"
     ]
    },
    {
     "name": "stderr",
     "output_type": "stream",
     "text": [
      "Epoch [146/3000]: 100%|██████████| 9/9 [00:00<00:00, 190.90it/s, loss=36.1]\n"
     ]
    },
    {
     "name": "stdout",
     "output_type": "stream",
     "text": [
      "Epoch [146/3000]: Train loss: 54.1844, Valid loss: 53.8884\n"
     ]
    },
    {
     "name": "stderr",
     "output_type": "stream",
     "text": [
      "Epoch [147/3000]: 100%|██████████| 9/9 [00:00<00:00, 214.74it/s, loss=56]\n"
     ]
    },
    {
     "name": "stdout",
     "output_type": "stream",
     "text": [
      "Epoch [147/3000]: Train loss: 55.4265, Valid loss: 60.8171\n"
     ]
    },
    {
     "name": "stderr",
     "output_type": "stream",
     "text": [
      "Epoch [148/3000]: 100%|██████████| 9/9 [00:00<00:00, 189.70it/s, loss=57.2]\n"
     ]
    },
    {
     "name": "stdout",
     "output_type": "stream",
     "text": [
      "Epoch [148/3000]: Train loss: 55.4986, Valid loss: 61.3154\n"
     ]
    },
    {
     "name": "stderr",
     "output_type": "stream",
     "text": [
      "Epoch [149/3000]: 100%|██████████| 9/9 [00:00<00:00, 110.21it/s, loss=47.7]\n"
     ]
    },
    {
     "name": "stdout",
     "output_type": "stream",
     "text": [
      "Epoch [149/3000]: Train loss: 54.9084, Valid loss: 59.7180\n"
     ]
    },
    {
     "name": "stderr",
     "output_type": "stream",
     "text": [
      "Epoch [150/3000]: 100%|██████████| 9/9 [00:00<00:00, 210.73it/s, loss=40.8]\n"
     ]
    },
    {
     "name": "stdout",
     "output_type": "stream",
     "text": [
      "Epoch [150/3000]: Train loss: 54.4778, Valid loss: 58.1630\n"
     ]
    },
    {
     "name": "stderr",
     "output_type": "stream",
     "text": [
      "Epoch [151/3000]: 100%|██████████| 9/9 [00:00<00:00, 198.26it/s, loss=67.2]\n"
     ]
    },
    {
     "name": "stdout",
     "output_type": "stream",
     "text": [
      "Epoch [151/3000]: Train loss: 56.1273, Valid loss: 63.5772\n"
     ]
    },
    {
     "name": "stderr",
     "output_type": "stream",
     "text": [
      "Epoch [152/3000]: 100%|██████████| 9/9 [00:00<00:00, 44.71it/s, loss=51.6]\n"
     ]
    },
    {
     "name": "stdout",
     "output_type": "stream",
     "text": [
      "Epoch [152/3000]: Train loss: 55.1531, Valid loss: 61.5118\n"
     ]
    },
    {
     "name": "stderr",
     "output_type": "stream",
     "text": [
      "Epoch [153/3000]: 100%|██████████| 9/9 [00:00<00:00, 203.21it/s, loss=53.7]\n"
     ]
    },
    {
     "name": "stdout",
     "output_type": "stream",
     "text": [
      "Epoch [153/3000]: Train loss: 55.2800, Valid loss: 52.1793\n"
     ]
    },
    {
     "name": "stderr",
     "output_type": "stream",
     "text": [
      "Epoch [154/3000]: 100%|██████████| 9/9 [00:00<00:00, 208.85it/s, loss=61.8]\n"
     ]
    },
    {
     "name": "stdout",
     "output_type": "stream",
     "text": [
      "Epoch [154/3000]: Train loss: 55.7904, Valid loss: 57.8980\n"
     ]
    },
    {
     "name": "stderr",
     "output_type": "stream",
     "text": [
      "Epoch [155/3000]: 100%|██████████| 9/9 [00:00<00:00, 206.70it/s, loss=41.5]\n"
     ]
    },
    {
     "name": "stdout",
     "output_type": "stream",
     "text": [
      "Epoch [155/3000]: Train loss: 54.5190, Valid loss: 57.6851\n"
     ]
    },
    {
     "name": "stderr",
     "output_type": "stream",
     "text": [
      "Epoch [156/3000]: 100%|██████████| 9/9 [00:00<00:00, 172.63it/s, loss=53.9]\n"
     ]
    },
    {
     "name": "stdout",
     "output_type": "stream",
     "text": [
      "Epoch [156/3000]: Train loss: 55.2957, Valid loss: 61.8310\n"
     ]
    },
    {
     "name": "stderr",
     "output_type": "stream",
     "text": [
      "Epoch [157/3000]: 100%|██████████| 9/9 [00:00<00:00, 163.09it/s, loss=69.4]\n"
     ]
    },
    {
     "name": "stdout",
     "output_type": "stream",
     "text": [
      "Epoch [157/3000]: Train loss: 56.2662, Valid loss: 59.8475\n"
     ]
    },
    {
     "name": "stderr",
     "output_type": "stream",
     "text": [
      "Epoch [158/3000]: 100%|██████████| 9/9 [00:00<00:00, 194.50it/s, loss=55.6]\n"
     ]
    },
    {
     "name": "stdout",
     "output_type": "stream",
     "text": [
      "Epoch [158/3000]: Train loss: 55.4010, Valid loss: 62.8212\n"
     ]
    },
    {
     "name": "stderr",
     "output_type": "stream",
     "text": [
      "Epoch [159/3000]: 100%|██████████| 9/9 [00:00<00:00, 192.13it/s, loss=41.2]"
     ]
    },
    {
     "name": "stdout",
     "output_type": "stream",
     "text": [
      "Epoch [159/3000]: Train loss: 54.5032, Valid loss: 63.3420"
     ]
    },
    {
     "name": "stderr",
     "output_type": "stream",
     "text": [
      "\n"
     ]
    },
    {
     "name": "stdout",
     "output_type": "stream",
     "text": [
      "\n"
     ]
    },
    {
     "name": "stderr",
     "output_type": "stream",
     "text": [
      "Epoch [160/3000]: 100%|██████████| 9/9 [00:00<00:00, 94.67it/s, loss=70.2]\n"
     ]
    },
    {
     "name": "stdout",
     "output_type": "stream",
     "text": [
      "Epoch [160/3000]: Train loss: 56.3142, Valid loss: 63.8915\n"
     ]
    },
    {
     "name": "stderr",
     "output_type": "stream",
     "text": [
      "Epoch [161/3000]: 100%|██████████| 9/9 [00:00<00:00, 192.14it/s, loss=49.1]\n"
     ]
    },
    {
     "name": "stdout",
     "output_type": "stream",
     "text": [
      "Epoch [161/3000]: Train loss: 54.9968, Valid loss: 62.7351\n"
     ]
    },
    {
     "name": "stderr",
     "output_type": "stream",
     "text": [
      "Epoch [162/3000]: 100%|██████████| 9/9 [00:00<00:00, 173.28it/s, loss=49.4]\n"
     ]
    },
    {
     "name": "stdout",
     "output_type": "stream",
     "text": [
      "Epoch [162/3000]: Train loss: 55.0119, Valid loss: 59.1808\n"
     ]
    },
    {
     "name": "stderr",
     "output_type": "stream",
     "text": [
      "Epoch [163/3000]: 100%|██████████| 9/9 [00:00<00:00, 184.14it/s, loss=56.9]\n"
     ]
    },
    {
     "name": "stdout",
     "output_type": "stream",
     "text": [
      "Epoch [163/3000]: Train loss: 55.4811, Valid loss: 56.6759\n"
     ]
    },
    {
     "name": "stderr",
     "output_type": "stream",
     "text": [
      "Epoch [164/3000]: 100%|██████████| 9/9 [00:00<00:00, 172.95it/s, loss=62.2]\n"
     ]
    },
    {
     "name": "stdout",
     "output_type": "stream",
     "text": [
      "Epoch [164/3000]: Train loss: 55.8117, Valid loss: 63.1344\n"
     ]
    },
    {
     "name": "stderr",
     "output_type": "stream",
     "text": [
      "Epoch [165/3000]: 100%|██████████| 9/9 [00:00<00:00, 196.46it/s, loss=62.6]\n"
     ]
    },
    {
     "name": "stdout",
     "output_type": "stream",
     "text": [
      "Epoch [165/3000]: Train loss: 55.8361, Valid loss: 57.7588\n"
     ]
    },
    {
     "name": "stderr",
     "output_type": "stream",
     "text": [
      "Epoch [166/3000]: 100%|██████████| 9/9 [00:00<00:00, 201.61it/s, loss=51.6]\n"
     ]
    },
    {
     "name": "stdout",
     "output_type": "stream",
     "text": [
      "Epoch [166/3000]: Train loss: 55.1482, Valid loss: 58.8938\n"
     ]
    },
    {
     "name": "stderr",
     "output_type": "stream",
     "text": [
      "Epoch [167/3000]: 100%|██████████| 9/9 [00:00<00:00, 159.35it/s, loss=36.7]\n"
     ]
    },
    {
     "name": "stdout",
     "output_type": "stream",
     "text": [
      "Epoch [167/3000]: Train loss: 54.2198, Valid loss: 55.1415\n"
     ]
    },
    {
     "name": "stderr",
     "output_type": "stream",
     "text": [
      "Epoch [168/3000]: 100%|██████████| 9/9 [00:00<00:00, 168.17it/s, loss=66.1]\n"
     ]
    },
    {
     "name": "stdout",
     "output_type": "stream",
     "text": [
      "Epoch [168/3000]: Train loss: 56.0590, Valid loss: 55.9666\n"
     ]
    },
    {
     "name": "stderr",
     "output_type": "stream",
     "text": [
      "Epoch [169/3000]: 100%|██████████| 9/9 [00:00<00:00, 170.31it/s, loss=64.5]\n"
     ]
    },
    {
     "name": "stdout",
     "output_type": "stream",
     "text": [
      "Epoch [169/3000]: Train loss: 55.9557, Valid loss: 59.2196\n"
     ]
    },
    {
     "name": "stderr",
     "output_type": "stream",
     "text": [
      "Epoch [170/3000]: 100%|██████████| 9/9 [00:00<00:00, 199.11it/s, loss=46.9]\n"
     ]
    },
    {
     "name": "stdout",
     "output_type": "stream",
     "text": [
      "Epoch [170/3000]: Train loss: 54.8549, Valid loss: 67.1941\n"
     ]
    },
    {
     "name": "stderr",
     "output_type": "stream",
     "text": [
      "Epoch [171/3000]: 100%|██████████| 9/9 [00:00<00:00, 105.41it/s, loss=50.4]\n"
     ]
    },
    {
     "name": "stdout",
     "output_type": "stream",
     "text": [
      "Epoch [171/3000]: Train loss: 55.0751, Valid loss: 56.8027\n"
     ]
    },
    {
     "name": "stderr",
     "output_type": "stream",
     "text": [
      "Epoch [172/3000]: 100%|██████████| 9/9 [00:00<00:00, 193.82it/s, loss=55.7]\n"
     ]
    },
    {
     "name": "stdout",
     "output_type": "stream",
     "text": [
      "Epoch [172/3000]: Train loss: 55.4048, Valid loss: 56.4202\n"
     ]
    },
    {
     "name": "stderr",
     "output_type": "stream",
     "text": [
      "Epoch [173/3000]: 100%|██████████| 9/9 [00:00<00:00, 202.76it/s, loss=67.3]\n"
     ]
    },
    {
     "name": "stdout",
     "output_type": "stream",
     "text": [
      "Epoch [173/3000]: Train loss: 56.1340, Valid loss: 51.6874\n"
     ]
    },
    {
     "name": "stderr",
     "output_type": "stream",
     "text": [
      "Epoch [174/3000]: 100%|██████████| 9/9 [00:00<00:00, 210.44it/s, loss=54.9]\n"
     ]
    },
    {
     "name": "stdout",
     "output_type": "stream",
     "text": [
      "Epoch [174/3000]: Train loss: 55.3578, Valid loss: 60.8752\n"
     ]
    },
    {
     "name": "stderr",
     "output_type": "stream",
     "text": [
      "Epoch [175/3000]: 100%|██████████| 9/9 [00:00<00:00, 202.96it/s, loss=55.7]\n"
     ]
    },
    {
     "name": "stdout",
     "output_type": "stream",
     "text": [
      "Epoch [175/3000]: Train loss: 55.4049, Valid loss: 64.6059\n"
     ]
    },
    {
     "name": "stderr",
     "output_type": "stream",
     "text": [
      "Epoch [176/3000]: 100%|██████████| 9/9 [00:00<00:00, 216.41it/s, loss=58.5]\n"
     ]
    },
    {
     "name": "stdout",
     "output_type": "stream",
     "text": [
      "Epoch [176/3000]: Train loss: 55.5791, Valid loss: 75.3832\n"
     ]
    },
    {
     "name": "stderr",
     "output_type": "stream",
     "text": [
      "Epoch [177/3000]: 100%|██████████| 9/9 [00:00<00:00, 204.69it/s, loss=45.7]\n"
     ]
    },
    {
     "name": "stdout",
     "output_type": "stream",
     "text": [
      "Epoch [177/3000]: Train loss: 54.7821, Valid loss: 53.4738\n"
     ]
    },
    {
     "name": "stderr",
     "output_type": "stream",
     "text": [
      "Epoch [178/3000]: 100%|██████████| 9/9 [00:00<00:00, 145.45it/s, loss=70.8]\n"
     ]
    },
    {
     "name": "stdout",
     "output_type": "stream",
     "text": [
      "Epoch [178/3000]: Train loss: 56.3515, Valid loss: 59.6478\n"
     ]
    },
    {
     "name": "stderr",
     "output_type": "stream",
     "text": [
      "Epoch [179/3000]: 100%|██████████| 9/9 [00:00<00:00, 204.23it/s, loss=51.6]\n"
     ]
    },
    {
     "name": "stdout",
     "output_type": "stream",
     "text": [
      "Epoch [179/3000]: Train loss: 55.1486, Valid loss: 60.1922\n"
     ]
    },
    {
     "name": "stderr",
     "output_type": "stream",
     "text": [
      "Epoch [180/3000]: 100%|██████████| 9/9 [00:00<00:00, 179.46it/s, loss=48.5]\n"
     ]
    },
    {
     "name": "stdout",
     "output_type": "stream",
     "text": [
      "Epoch [180/3000]: Train loss: 54.9582, Valid loss: 70.0688\n"
     ]
    },
    {
     "name": "stderr",
     "output_type": "stream",
     "text": [
      "Epoch [181/3000]: 100%|██████████| 9/9 [00:00<00:00, 199.40it/s, loss=49.2]\n"
     ]
    },
    {
     "name": "stdout",
     "output_type": "stream",
     "text": [
      "Epoch [181/3000]: Train loss: 54.9977, Valid loss: 59.4586\n"
     ]
    },
    {
     "name": "stderr",
     "output_type": "stream",
     "text": [
      "Epoch [182/3000]: 100%|██████████| 9/9 [00:00<00:00, 98.43it/s, loss=62.7]\n"
     ]
    },
    {
     "name": "stdout",
     "output_type": "stream",
     "text": [
      "Epoch [182/3000]: Train loss: 55.8415, Valid loss: 56.0748\n"
     ]
    },
    {
     "name": "stderr",
     "output_type": "stream",
     "text": [
      "Epoch [183/3000]: 100%|██████████| 9/9 [00:00<00:00, 199.45it/s, loss=54]\n"
     ]
    },
    {
     "name": "stdout",
     "output_type": "stream",
     "text": [
      "Epoch [183/3000]: Train loss: 55.3016, Valid loss: 58.9718\n"
     ]
    },
    {
     "name": "stderr",
     "output_type": "stream",
     "text": [
      "Epoch [184/3000]: 100%|██████████| 9/9 [00:00<00:00, 189.78it/s, loss=55.2]\n"
     ]
    },
    {
     "name": "stdout",
     "output_type": "stream",
     "text": [
      "Epoch [184/3000]: Train loss: 55.3770, Valid loss: 55.5543\n"
     ]
    },
    {
     "name": "stderr",
     "output_type": "stream",
     "text": [
      "Epoch [185/3000]: 100%|██████████| 9/9 [00:00<00:00, 187.93it/s, loss=61.1]\n"
     ]
    },
    {
     "name": "stdout",
     "output_type": "stream",
     "text": [
      "Epoch [185/3000]: Train loss: 55.7470, Valid loss: 66.5772\n"
     ]
    },
    {
     "name": "stderr",
     "output_type": "stream",
     "text": [
      "Epoch [186/3000]: 100%|██████████| 9/9 [00:00<00:00, 178.72it/s, loss=42.3]\n"
     ]
    },
    {
     "name": "stdout",
     "output_type": "stream",
     "text": [
      "Epoch [186/3000]: Train loss: 54.5672, Valid loss: 64.3866\n"
     ]
    },
    {
     "name": "stderr",
     "output_type": "stream",
     "text": [
      "Epoch [187/3000]: 100%|██████████| 9/9 [00:00<00:00, 186.36it/s, loss=45.2]\n"
     ]
    },
    {
     "name": "stdout",
     "output_type": "stream",
     "text": [
      "Epoch [187/3000]: Train loss: 54.7507, Valid loss: 62.3898\n"
     ]
    },
    {
     "name": "stderr",
     "output_type": "stream",
     "text": [
      "Epoch [188/3000]: 100%|██████████| 9/9 [00:00<00:00, 182.07it/s, loss=57.1]\n"
     ]
    },
    {
     "name": "stdout",
     "output_type": "stream",
     "text": [
      "Epoch [188/3000]: Train loss: 55.4974, Valid loss: 68.5799\n"
     ]
    },
    {
     "name": "stderr",
     "output_type": "stream",
     "text": [
      "Epoch [189/3000]: 100%|██████████| 9/9 [00:00<00:00, 169.42it/s, loss=45.8]"
     ]
    },
    {
     "name": "stdout",
     "output_type": "stream",
     "text": [
      "Epoch [189/3000]: Train loss: 54.7871, Valid loss: 59.1655"
     ]
    },
    {
     "name": "stderr",
     "output_type": "stream",
     "text": [
      "\n"
     ]
    },
    {
     "name": "stdout",
     "output_type": "stream",
     "text": [
      "\n"
     ]
    },
    {
     "name": "stderr",
     "output_type": "stream",
     "text": [
      "Epoch [190/3000]: 100%|██████████| 9/9 [00:00<00:00, 191.80it/s, loss=57.2]\n"
     ]
    },
    {
     "name": "stdout",
     "output_type": "stream",
     "text": [
      "Epoch [190/3000]: Train loss: 55.5018, Valid loss: 62.8692\n"
     ]
    },
    {
     "name": "stderr",
     "output_type": "stream",
     "text": [
      "Epoch [191/3000]: 100%|██████████| 9/9 [00:00<00:00, 199.41it/s, loss=58.3]\n"
     ]
    },
    {
     "name": "stdout",
     "output_type": "stream",
     "text": [
      "Epoch [191/3000]: Train loss: 55.5670, Valid loss: 53.4448\n"
     ]
    },
    {
     "name": "stderr",
     "output_type": "stream",
     "text": [
      "Epoch [192/3000]: 100%|██████████| 9/9 [00:00<00:00, 190.41it/s, loss=57.3]\n"
     ]
    },
    {
     "name": "stdout",
     "output_type": "stream",
     "text": [
      "Epoch [192/3000]: Train loss: 55.5061, Valid loss: 68.2882\n"
     ]
    },
    {
     "name": "stderr",
     "output_type": "stream",
     "text": [
      "Epoch [193/3000]: 100%|██████████| 9/9 [00:00<00:00, 159.92it/s, loss=54.9]\n"
     ]
    },
    {
     "name": "stdout",
     "output_type": "stream",
     "text": [
      "Epoch [193/3000]: Train loss: 55.3544, Valid loss: 63.7217\n"
     ]
    },
    {
     "name": "stderr",
     "output_type": "stream",
     "text": [
      "Epoch [194/3000]: 100%|██████████| 9/9 [00:00<00:00, 186.73it/s, loss=65.1]\n"
     ]
    },
    {
     "name": "stdout",
     "output_type": "stream",
     "text": [
      "Epoch [194/3000]: Train loss: 55.9970, Valid loss: 58.7281\n"
     ]
    },
    {
     "name": "stderr",
     "output_type": "stream",
     "text": [
      "Epoch [195/3000]: 100%|██████████| 9/9 [00:00<00:00, 102.92it/s, loss=60.6]\n"
     ]
    },
    {
     "name": "stdout",
     "output_type": "stream",
     "text": [
      "Epoch [195/3000]: Train loss: 55.7115, Valid loss: 59.4604\n"
     ]
    },
    {
     "name": "stderr",
     "output_type": "stream",
     "text": [
      "Epoch [196/3000]: 100%|██████████| 9/9 [00:00<00:00, 199.13it/s, loss=48.5]\n"
     ]
    },
    {
     "name": "stdout",
     "output_type": "stream",
     "text": [
      "Epoch [196/3000]: Train loss: 54.9556, Valid loss: 67.4802\n"
     ]
    },
    {
     "name": "stderr",
     "output_type": "stream",
     "text": [
      "Epoch [197/3000]: 100%|██████████| 9/9 [00:00<00:00, 210.00it/s, loss=43.9]\n"
     ]
    },
    {
     "name": "stdout",
     "output_type": "stream",
     "text": [
      "Epoch [197/3000]: Train loss: 54.6698, Valid loss: 63.7601\n"
     ]
    },
    {
     "name": "stderr",
     "output_type": "stream",
     "text": [
      "Epoch [198/3000]: 100%|██████████| 9/9 [00:00<00:00, 176.34it/s, loss=47.4]\n"
     ]
    },
    {
     "name": "stdout",
     "output_type": "stream",
     "text": [
      "Epoch [198/3000]: Train loss: 54.8909, Valid loss: 58.9137\n"
     ]
    },
    {
     "name": "stderr",
     "output_type": "stream",
     "text": [
      "Epoch [199/3000]: 100%|██████████| 9/9 [00:00<00:00, 179.00it/s, loss=45.1]\n"
     ]
    },
    {
     "name": "stdout",
     "output_type": "stream",
     "text": [
      "Epoch [199/3000]: Train loss: 54.7418, Valid loss: 64.6785\n"
     ]
    },
    {
     "name": "stderr",
     "output_type": "stream",
     "text": [
      "Epoch [200/3000]: 100%|██████████| 9/9 [00:00<00:00, 206.64it/s, loss=59.2]\n"
     ]
    },
    {
     "name": "stdout",
     "output_type": "stream",
     "text": [
      "Epoch [200/3000]: Train loss: 55.6233, Valid loss: 53.4729\n"
     ]
    },
    {
     "name": "stderr",
     "output_type": "stream",
     "text": [
      "Epoch [201/3000]: 100%|██████████| 9/9 [00:00<00:00, 214.24it/s, loss=40.2]\n"
     ]
    },
    {
     "name": "stdout",
     "output_type": "stream",
     "text": [
      "Epoch [201/3000]: Train loss: 54.4382, Valid loss: 60.0366\n"
     ]
    },
    {
     "name": "stderr",
     "output_type": "stream",
     "text": [
      "Epoch [202/3000]: 100%|██████████| 9/9 [00:00<00:00, 187.48it/s, loss=60.6]\n"
     ]
    },
    {
     "name": "stdout",
     "output_type": "stream",
     "text": [
      "Epoch [202/3000]: Train loss: 55.7122, Valid loss: 56.7679\n"
     ]
    },
    {
     "name": "stderr",
     "output_type": "stream",
     "text": [
      "Epoch [203/3000]: 100%|██████████| 9/9 [00:00<00:00, 177.60it/s, loss=53.8]\n"
     ]
    },
    {
     "name": "stdout",
     "output_type": "stream",
     "text": [
      "Epoch [203/3000]: Train loss: 55.2872, Valid loss: 59.4457\n"
     ]
    },
    {
     "name": "stderr",
     "output_type": "stream",
     "text": [
      "Epoch [204/3000]: 100%|██████████| 9/9 [00:00<00:00, 217.47it/s, loss=76.7]\n"
     ]
    },
    {
     "name": "stdout",
     "output_type": "stream",
     "text": [
      "Epoch [204/3000]: Train loss: 56.7191, Valid loss: 65.9074\n"
     ]
    },
    {
     "name": "stderr",
     "output_type": "stream",
     "text": [
      "Epoch [205/3000]: 100%|██████████| 9/9 [00:00<00:00, 205.52it/s, loss=33.9]\n"
     ]
    },
    {
     "name": "stdout",
     "output_type": "stream",
     "text": [
      "Epoch [205/3000]: Train loss: 54.0459, Valid loss: 71.7944\n"
     ]
    },
    {
     "name": "stderr",
     "output_type": "stream",
     "text": [
      "Epoch [206/3000]: 100%|██████████| 9/9 [00:00<00:00, 201.75it/s, loss=69]\n"
     ]
    },
    {
     "name": "stdout",
     "output_type": "stream",
     "text": [
      "Epoch [206/3000]: Train loss: 56.2383, Valid loss: 68.5246\n"
     ]
    },
    {
     "name": "stderr",
     "output_type": "stream",
     "text": [
      "Epoch [207/3000]: 100%|██████████| 9/9 [00:00<00:00, 184.92it/s, loss=48.3]\n"
     ]
    },
    {
     "name": "stdout",
     "output_type": "stream",
     "text": [
      "Epoch [207/3000]: Train loss: 54.9434, Valid loss: 63.6632\n"
     ]
    },
    {
     "name": "stderr",
     "output_type": "stream",
     "text": [
      "Epoch [208/3000]: 100%|██████████| 9/9 [00:00<00:00, 89.56it/s, loss=45.3]\n"
     ]
    },
    {
     "name": "stdout",
     "output_type": "stream",
     "text": [
      "Epoch [208/3000]: Train loss: 54.7546, Valid loss: 67.4940\n"
     ]
    },
    {
     "name": "stderr",
     "output_type": "stream",
     "text": [
      "Epoch [209/3000]: 100%|██████████| 9/9 [00:00<00:00, 189.75it/s, loss=48.2]\n"
     ]
    },
    {
     "name": "stdout",
     "output_type": "stream",
     "text": [
      "Epoch [209/3000]: Train loss: 54.9372, Valid loss: 67.1895\n"
     ]
    },
    {
     "name": "stderr",
     "output_type": "stream",
     "text": [
      "Epoch [210/3000]: 100%|██████████| 9/9 [00:00<00:00, 209.39it/s, loss=53.7]\n"
     ]
    },
    {
     "name": "stdout",
     "output_type": "stream",
     "text": [
      "Epoch [210/3000]: Train loss: 55.2793, Valid loss: 60.9739\n"
     ]
    },
    {
     "name": "stderr",
     "output_type": "stream",
     "text": [
      "Epoch [211/3000]: 100%|██████████| 9/9 [00:00<00:00, 198.49it/s, loss=54.2]\n"
     ]
    },
    {
     "name": "stdout",
     "output_type": "stream",
     "text": [
      "Epoch [211/3000]: Train loss: 55.3162, Valid loss: 56.8311\n"
     ]
    },
    {
     "name": "stderr",
     "output_type": "stream",
     "text": [
      "Epoch [212/3000]: 100%|██████████| 9/9 [00:00<00:00, 207.11it/s, loss=67.8]\n"
     ]
    },
    {
     "name": "stdout",
     "output_type": "stream",
     "text": [
      "Epoch [212/3000]: Train loss: 56.1621, Valid loss: 68.9293\n"
     ]
    },
    {
     "name": "stderr",
     "output_type": "stream",
     "text": [
      "Epoch [213/3000]: 100%|██████████| 9/9 [00:00<00:00, 194.13it/s, loss=61.1]\n"
     ]
    },
    {
     "name": "stdout",
     "output_type": "stream",
     "text": [
      "Epoch [213/3000]: Train loss: 55.7460, Valid loss: 54.2655\n"
     ]
    },
    {
     "name": "stderr",
     "output_type": "stream",
     "text": [
      "Epoch [214/3000]: 100%|██████████| 9/9 [00:00<00:00, 186.45it/s, loss=52.1]\n"
     ]
    },
    {
     "name": "stdout",
     "output_type": "stream",
     "text": [
      "Epoch [214/3000]: Train loss: 55.1831, Valid loss: 66.2051\n"
     ]
    },
    {
     "name": "stderr",
     "output_type": "stream",
     "text": [
      "Epoch [215/3000]: 100%|██████████| 9/9 [00:00<00:00, 208.63it/s, loss=37.2]\n"
     ]
    },
    {
     "name": "stdout",
     "output_type": "stream",
     "text": [
      "Epoch [215/3000]: Train loss: 54.2480, Valid loss: 68.5486\n"
     ]
    },
    {
     "name": "stderr",
     "output_type": "stream",
     "text": [
      "Epoch [216/3000]: 100%|██████████| 9/9 [00:00<00:00, 168.30it/s, loss=50.5]\n"
     ]
    },
    {
     "name": "stdout",
     "output_type": "stream",
     "text": [
      "Epoch [216/3000]: Train loss: 55.0818, Valid loss: 61.9414\n"
     ]
    },
    {
     "name": "stderr",
     "output_type": "stream",
     "text": [
      "Epoch [217/3000]: 100%|██████████| 9/9 [00:00<00:00, 177.62it/s, loss=69.3]\n"
     ]
    },
    {
     "name": "stdout",
     "output_type": "stream",
     "text": [
      "Epoch [217/3000]: Train loss: 56.2558, Valid loss: 52.3335\n"
     ]
    },
    {
     "name": "stderr",
     "output_type": "stream",
     "text": [
      "Epoch [218/3000]: 100%|██████████| 9/9 [00:00<00:00, 177.39it/s, loss=50.9]\n"
     ]
    },
    {
     "name": "stdout",
     "output_type": "stream",
     "text": [
      "Epoch [218/3000]: Train loss: 55.1089, Valid loss: 58.6769\n"
     ]
    },
    {
     "name": "stderr",
     "output_type": "stream",
     "text": [
      "Epoch [219/3000]: 100%|██████████| 9/9 [00:00<00:00, 179.32it/s, loss=47.9]\n"
     ]
    },
    {
     "name": "stdout",
     "output_type": "stream",
     "text": [
      "Epoch [219/3000]: Train loss: 54.9194, Valid loss: 64.0089\n"
     ]
    },
    {
     "name": "stderr",
     "output_type": "stream",
     "text": [
      "Epoch [220/3000]: 100%|██████████| 9/9 [00:00<00:00, 259.31it/s, loss=42.9]\n"
     ]
    },
    {
     "name": "stdout",
     "output_type": "stream",
     "text": [
      "Epoch [220/3000]: Train loss: 54.6086, Valid loss: 61.6463\n"
     ]
    },
    {
     "name": "stderr",
     "output_type": "stream",
     "text": [
      "Epoch [221/3000]: 100%|██████████| 9/9 [00:00<00:00, 163.87it/s, loss=64.6]\n"
     ]
    },
    {
     "name": "stdout",
     "output_type": "stream",
     "text": [
      "Epoch [221/3000]: Train loss: 55.9646, Valid loss: 61.3044\n"
     ]
    },
    {
     "name": "stderr",
     "output_type": "stream",
     "text": [
      "Epoch [222/3000]: 100%|██████████| 9/9 [00:00<00:00, 176.87it/s, loss=55.1]\n"
     ]
    },
    {
     "name": "stdout",
     "output_type": "stream",
     "text": [
      "Epoch [222/3000]: Train loss: 55.3717, Valid loss: 64.0615\n"
     ]
    },
    {
     "name": "stderr",
     "output_type": "stream",
     "text": [
      "Epoch [223/3000]: 100%|██████████| 9/9 [00:00<00:00, 210.72it/s, loss=47.9]\n"
     ]
    },
    {
     "name": "stdout",
     "output_type": "stream",
     "text": [
      "Epoch [223/3000]: Train loss: 54.9220, Valid loss: 71.3697\n"
     ]
    },
    {
     "name": "stderr",
     "output_type": "stream",
     "text": [
      "Epoch [224/3000]: 100%|██████████| 9/9 [00:00<00:00, 105.74it/s, loss=68]\n"
     ]
    },
    {
     "name": "stdout",
     "output_type": "stream",
     "text": [
      "Epoch [224/3000]: Train loss: 56.1738, Valid loss: 51.2795\n"
     ]
    },
    {
     "name": "stderr",
     "output_type": "stream",
     "text": [
      "Epoch [225/3000]: 100%|██████████| 9/9 [00:00<00:00, 168.17it/s, loss=64.4]\n"
     ]
    },
    {
     "name": "stdout",
     "output_type": "stream",
     "text": [
      "Epoch [225/3000]: Train loss: 55.9531, Valid loss: 63.1917\n"
     ]
    },
    {
     "name": "stderr",
     "output_type": "stream",
     "text": [
      "Epoch [226/3000]: 100%|██████████| 9/9 [00:00<00:00, 226.96it/s, loss=70.5]\n"
     ]
    },
    {
     "name": "stdout",
     "output_type": "stream",
     "text": [
      "Epoch [226/3000]: Train loss: 56.3305, Valid loss: 61.5646\n"
     ]
    },
    {
     "name": "stderr",
     "output_type": "stream",
     "text": [
      "Epoch [227/3000]: 100%|██████████| 9/9 [00:00<00:00, 199.99it/s, loss=43.3]\n"
     ]
    },
    {
     "name": "stdout",
     "output_type": "stream",
     "text": [
      "Epoch [227/3000]: Train loss: 54.6291, Valid loss: 63.1196\n"
     ]
    },
    {
     "name": "stderr",
     "output_type": "stream",
     "text": [
      "Epoch [228/3000]: 100%|██████████| 9/9 [00:00<00:00, 194.30it/s, loss=52.1]\n"
     ]
    },
    {
     "name": "stdout",
     "output_type": "stream",
     "text": [
      "Epoch [228/3000]: Train loss: 55.1801, Valid loss: 58.6848\n"
     ]
    },
    {
     "name": "stderr",
     "output_type": "stream",
     "text": [
      "Epoch [229/3000]: 100%|██████████| 9/9 [00:00<00:00, 199.79it/s, loss=57.2]\n"
     ]
    },
    {
     "name": "stdout",
     "output_type": "stream",
     "text": [
      "Epoch [229/3000]: Train loss: 55.5035, Valid loss: 58.2291\n"
     ]
    },
    {
     "name": "stderr",
     "output_type": "stream",
     "text": [
      "Epoch [230/3000]: 100%|██████████| 9/9 [00:00<00:00, 224.19it/s, loss=60.4]\n"
     ]
    },
    {
     "name": "stdout",
     "output_type": "stream",
     "text": [
      "Epoch [230/3000]: Train loss: 55.6986, Valid loss: 61.2112\n"
     ]
    },
    {
     "name": "stderr",
     "output_type": "stream",
     "text": [
      "Epoch [231/3000]: 100%|██████████| 9/9 [00:00<00:00, 228.68it/s, loss=39.6]\n"
     ]
    },
    {
     "name": "stdout",
     "output_type": "stream",
     "text": [
      "Epoch [231/3000]: Train loss: 54.4031, Valid loss: 59.3746\n"
     ]
    },
    {
     "name": "stderr",
     "output_type": "stream",
     "text": [
      "Epoch [232/3000]: 100%|██████████| 9/9 [00:00<00:00, 198.53it/s, loss=58.1]\n"
     ]
    },
    {
     "name": "stdout",
     "output_type": "stream",
     "text": [
      "Epoch [232/3000]: Train loss: 55.5595, Valid loss: 56.7211\n"
     ]
    },
    {
     "name": "stderr",
     "output_type": "stream",
     "text": [
      "Epoch [233/3000]: 100%|██████████| 9/9 [00:00<00:00, 197.83it/s, loss=55.3]\n"
     ]
    },
    {
     "name": "stdout",
     "output_type": "stream",
     "text": [
      "Epoch [233/3000]: Train loss: 55.3805, Valid loss: 61.8696\n"
     ]
    },
    {
     "name": "stderr",
     "output_type": "stream",
     "text": [
      "Epoch [234/3000]: 100%|██████████| 9/9 [00:00<00:00, 209.29it/s, loss=58.1]\n"
     ]
    },
    {
     "name": "stdout",
     "output_type": "stream",
     "text": [
      "Epoch [234/3000]: Train loss: 55.5596, Valid loss: 66.3369\n"
     ]
    },
    {
     "name": "stderr",
     "output_type": "stream",
     "text": [
      "Epoch [235/3000]: 100%|██████████| 9/9 [00:00<00:00, 200.27it/s, loss=53]\n"
     ]
    },
    {
     "name": "stdout",
     "output_type": "stream",
     "text": [
      "Epoch [235/3000]: Train loss: 55.2354, Valid loss: 66.0722\n"
     ]
    },
    {
     "name": "stderr",
     "output_type": "stream",
     "text": [
      "Epoch [236/3000]: 100%|██████████| 9/9 [00:00<00:00, 199.40it/s, loss=61]\n"
     ]
    },
    {
     "name": "stdout",
     "output_type": "stream",
     "text": [
      "Epoch [236/3000]: Train loss: 55.7359, Valid loss: 59.5618\n"
     ]
    },
    {
     "name": "stderr",
     "output_type": "stream",
     "text": [
      "Epoch [237/3000]: 100%|██████████| 9/9 [00:00<00:00, 157.91it/s, loss=56.2]\n"
     ]
    },
    {
     "name": "stdout",
     "output_type": "stream",
     "text": [
      "Epoch [237/3000]: Train loss: 55.4388, Valid loss: 64.9693\n"
     ]
    },
    {
     "name": "stderr",
     "output_type": "stream",
     "text": [
      "Epoch [238/3000]: 100%|██████████| 9/9 [00:00<00:00, 189.55it/s, loss=47]\n"
     ]
    },
    {
     "name": "stdout",
     "output_type": "stream",
     "text": [
      "Epoch [238/3000]: Train loss: 54.8657, Valid loss: 59.3211\n"
     ]
    },
    {
     "name": "stderr",
     "output_type": "stream",
     "text": [
      "Epoch [239/3000]: 100%|██████████| 9/9 [00:00<00:00, 253.20it/s, loss=54.6]\n"
     ]
    },
    {
     "name": "stdout",
     "output_type": "stream",
     "text": [
      "Epoch [239/3000]: Train loss: 55.3379, Valid loss: 54.3744\n"
     ]
    },
    {
     "name": "stderr",
     "output_type": "stream",
     "text": [
      "Epoch [240/3000]: 100%|██████████| 9/9 [00:00<00:00, 218.70it/s, loss=62.3]\n"
     ]
    },
    {
     "name": "stdout",
     "output_type": "stream",
     "text": [
      "Epoch [240/3000]: Train loss: 55.8201, Valid loss: 63.9103\n"
     ]
    },
    {
     "name": "stderr",
     "output_type": "stream",
     "text": [
      "Epoch [241/3000]: 100%|██████████| 9/9 [00:00<00:00, 212.24it/s, loss=66.8]\n"
     ]
    },
    {
     "name": "stdout",
     "output_type": "stream",
     "text": [
      "Epoch [241/3000]: Train loss: 56.1024, Valid loss: 64.5184\n"
     ]
    },
    {
     "name": "stderr",
     "output_type": "stream",
     "text": [
      "Epoch [242/3000]: 100%|██████████| 9/9 [00:00<00:00, 225.12it/s, loss=61.7]\n"
     ]
    },
    {
     "name": "stdout",
     "output_type": "stream",
     "text": [
      "Epoch [242/3000]: Train loss: 55.7797, Valid loss: 55.0967\n"
     ]
    },
    {
     "name": "stderr",
     "output_type": "stream",
     "text": [
      "Epoch [243/3000]: 100%|██████████| 9/9 [00:00<00:00, 232.64it/s, loss=51]\n"
     ]
    },
    {
     "name": "stdout",
     "output_type": "stream",
     "text": [
      "Epoch [243/3000]: Train loss: 55.1138, Valid loss: 60.3345\n"
     ]
    },
    {
     "name": "stderr",
     "output_type": "stream",
     "text": [
      "Epoch [244/3000]: 100%|██████████| 9/9 [00:00<00:00, 221.54it/s, loss=46.1]\n"
     ]
    },
    {
     "name": "stdout",
     "output_type": "stream",
     "text": [
      "Epoch [244/3000]: Train loss: 54.8085, Valid loss: 60.4037\n"
     ]
    },
    {
     "name": "stderr",
     "output_type": "stream",
     "text": [
      "Epoch [245/3000]: 100%|██████████| 9/9 [00:00<00:00, 187.64it/s, loss=44.3]\n"
     ]
    },
    {
     "name": "stdout",
     "output_type": "stream",
     "text": [
      "Epoch [245/3000]: Train loss: 54.6973, Valid loss: 76.0060\n"
     ]
    },
    {
     "name": "stderr",
     "output_type": "stream",
     "text": [
      "Epoch [246/3000]: 100%|██████████| 9/9 [00:00<00:00, 196.95it/s, loss=43.8]\n"
     ]
    },
    {
     "name": "stdout",
     "output_type": "stream",
     "text": [
      "Epoch [246/3000]: Train loss: 54.6608, Valid loss: 74.9975\n"
     ]
    },
    {
     "name": "stderr",
     "output_type": "stream",
     "text": [
      "Epoch [247/3000]: 100%|██████████| 9/9 [00:00<00:00, 110.40it/s, loss=60.6]\n"
     ]
    },
    {
     "name": "stdout",
     "output_type": "stream",
     "text": [
      "Epoch [247/3000]: Train loss: 55.7157, Valid loss: 72.0519\n"
     ]
    },
    {
     "name": "stderr",
     "output_type": "stream",
     "text": [
      "Epoch [248/3000]: 100%|██████████| 9/9 [00:00<00:00, 204.57it/s, loss=59.8]\n"
     ]
    },
    {
     "name": "stdout",
     "output_type": "stream",
     "text": [
      "Epoch [248/3000]: Train loss: 55.6634, Valid loss: 54.6994\n"
     ]
    },
    {
     "name": "stderr",
     "output_type": "stream",
     "text": [
      "Epoch [249/3000]: 100%|██████████| 9/9 [00:00<00:00, 232.15it/s, loss=46.2]\n"
     ]
    },
    {
     "name": "stdout",
     "output_type": "stream",
     "text": [
      "Epoch [249/3000]: Train loss: 54.8107, Valid loss: 61.8739\n"
     ]
    },
    {
     "name": "stderr",
     "output_type": "stream",
     "text": [
      "Epoch [250/3000]: 100%|██████████| 9/9 [00:00<00:00, 218.27it/s, loss=50.9]\n"
     ]
    },
    {
     "name": "stdout",
     "output_type": "stream",
     "text": [
      "Epoch [250/3000]: Train loss: 55.1046, Valid loss: 56.7245\n"
     ]
    },
    {
     "name": "stderr",
     "output_type": "stream",
     "text": [
      "Epoch [251/3000]: 100%|██████████| 9/9 [00:00<00:00, 221.64it/s, loss=56.9]\n"
     ]
    },
    {
     "name": "stdout",
     "output_type": "stream",
     "text": [
      "Epoch [251/3000]: Train loss: 55.4846, Valid loss: 58.9485\n"
     ]
    },
    {
     "name": "stderr",
     "output_type": "stream",
     "text": [
      "Epoch [252/3000]: 100%|██████████| 9/9 [00:00<00:00, 221.26it/s, loss=54.5]\n"
     ]
    },
    {
     "name": "stdout",
     "output_type": "stream",
     "text": [
      "Epoch [252/3000]: Train loss: 55.3337, Valid loss: 58.6079\n"
     ]
    },
    {
     "name": "stderr",
     "output_type": "stream",
     "text": [
      "Epoch [253/3000]: 100%|██████████| 9/9 [00:00<00:00, 211.02it/s, loss=45.7]\n"
     ]
    },
    {
     "name": "stdout",
     "output_type": "stream",
     "text": [
      "Epoch [253/3000]: Train loss: 54.7809, Valid loss: 60.1548\n"
     ]
    },
    {
     "name": "stderr",
     "output_type": "stream",
     "text": [
      "Epoch [254/3000]: 100%|██████████| 9/9 [00:00<00:00, 225.26it/s, loss=52.2]\n"
     ]
    },
    {
     "name": "stdout",
     "output_type": "stream",
     "text": [
      "Epoch [254/3000]: Train loss: 55.1867, Valid loss: 65.8772\n"
     ]
    },
    {
     "name": "stderr",
     "output_type": "stream",
     "text": [
      "Epoch [255/3000]: 100%|██████████| 9/9 [00:00<00:00, 225.88it/s, loss=52]\n"
     ]
    },
    {
     "name": "stdout",
     "output_type": "stream",
     "text": [
      "Epoch [255/3000]: Train loss: 55.1786, Valid loss: 51.9902\n"
     ]
    },
    {
     "name": "stderr",
     "output_type": "stream",
     "text": [
      "Epoch [256/3000]: 100%|██████████| 9/9 [00:00<00:00, 242.12it/s, loss=56.3]\n"
     ]
    },
    {
     "name": "stdout",
     "output_type": "stream",
     "text": [
      "Epoch [256/3000]: Train loss: 55.4466, Valid loss: 51.0508\n"
     ]
    },
    {
     "name": "stderr",
     "output_type": "stream",
     "text": [
      "Epoch [257/3000]: 100%|██████████| 9/9 [00:00<00:00, 255.99it/s, loss=45.1]\n"
     ]
    },
    {
     "name": "stdout",
     "output_type": "stream",
     "text": [
      "Epoch [257/3000]: Train loss: 54.7435, Valid loss: 59.2006\n"
     ]
    },
    {
     "name": "stderr",
     "output_type": "stream",
     "text": [
      "Epoch [258/3000]: 100%|██████████| 9/9 [00:00<00:00, 230.68it/s, loss=54]\n"
     ]
    },
    {
     "name": "stdout",
     "output_type": "stream",
     "text": [
      "Epoch [258/3000]: Train loss: 55.3021, Valid loss: 54.9899\n"
     ]
    },
    {
     "name": "stderr",
     "output_type": "stream",
     "text": [
      "Epoch [259/3000]: 100%|██████████| 9/9 [00:00<00:00, 246.54it/s, loss=49.5]\n"
     ]
    },
    {
     "name": "stdout",
     "output_type": "stream",
     "text": [
      "Epoch [259/3000]: Train loss: 55.0202, Valid loss: 63.0291\n"
     ]
    },
    {
     "name": "stderr",
     "output_type": "stream",
     "text": [
      "Epoch [260/3000]: 100%|██████████| 9/9 [00:00<00:00, 233.55it/s, loss=68.9]\n"
     ]
    },
    {
     "name": "stdout",
     "output_type": "stream",
     "text": [
      "Epoch [260/3000]: Train loss: 56.2340, Valid loss: 56.7064\n"
     ]
    },
    {
     "name": "stderr",
     "output_type": "stream",
     "text": [
      "Epoch [261/3000]: 100%|██████████| 9/9 [00:00<00:00, 234.72it/s, loss=49.7]\n"
     ]
    },
    {
     "name": "stdout",
     "output_type": "stream",
     "text": [
      "Epoch [261/3000]: Train loss: 55.0297, Valid loss: 58.9026\n"
     ]
    },
    {
     "name": "stderr",
     "output_type": "stream",
     "text": [
      "Epoch [262/3000]: 100%|██████████| 9/9 [00:00<00:00, 236.04it/s, loss=56.7]\n"
     ]
    },
    {
     "name": "stdout",
     "output_type": "stream",
     "text": [
      "Epoch [262/3000]: Train loss: 55.4706, Valid loss: 55.0374\n"
     ]
    },
    {
     "name": "stderr",
     "output_type": "stream",
     "text": [
      "Epoch [263/3000]: 100%|██████████| 9/9 [00:00<00:00, 264.57it/s, loss=46.2]\n"
     ]
    },
    {
     "name": "stdout",
     "output_type": "stream",
     "text": [
      "Epoch [263/3000]: Train loss: 54.8120, Valid loss: 55.6176\n"
     ]
    },
    {
     "name": "stderr",
     "output_type": "stream",
     "text": [
      "Epoch [264/3000]: 100%|██████████| 9/9 [00:00<00:00, 241.66it/s, loss=46.7]\n"
     ]
    },
    {
     "name": "stdout",
     "output_type": "stream",
     "text": [
      "Epoch [264/3000]: Train loss: 54.8474, Valid loss: 61.3201\n"
     ]
    },
    {
     "name": "stderr",
     "output_type": "stream",
     "text": [
      "Epoch [265/3000]: 100%|██████████| 9/9 [00:00<00:00, 284.22it/s, loss=53.2]"
     ]
    },
    {
     "name": "stdout",
     "output_type": "stream",
     "text": [
      "Epoch [265/3000]: Train loss: 55.2520, Valid loss: 63.2788"
     ]
    },
    {
     "name": "stderr",
     "output_type": "stream",
     "text": [
      "\n"
     ]
    },
    {
     "name": "stdout",
     "output_type": "stream",
     "text": [
      "\n"
     ]
    },
    {
     "name": "stderr",
     "output_type": "stream",
     "text": [
      "Epoch [266/3000]: 100%|██████████| 9/9 [00:00<00:00, 160.97it/s, loss=52.2]\n"
     ]
    },
    {
     "name": "stdout",
     "output_type": "stream",
     "text": [
      "Epoch [266/3000]: Train loss: 55.1904, Valid loss: 58.6052\n"
     ]
    },
    {
     "name": "stderr",
     "output_type": "stream",
     "text": [
      "Epoch [267/3000]: 100%|██████████| 9/9 [00:00<00:00, 226.95it/s, loss=63.1]\n"
     ]
    },
    {
     "name": "stdout",
     "output_type": "stream",
     "text": [
      "Epoch [267/3000]: Train loss: 55.8686, Valid loss: 54.8779\n"
     ]
    },
    {
     "name": "stderr",
     "output_type": "stream",
     "text": [
      "Epoch [268/3000]: 100%|██████████| 9/9 [00:00<00:00, 211.13it/s, loss=48.9]\n"
     ]
    },
    {
     "name": "stdout",
     "output_type": "stream",
     "text": [
      "Epoch [268/3000]: Train loss: 54.9839, Valid loss: 70.1798\n"
     ]
    },
    {
     "name": "stderr",
     "output_type": "stream",
     "text": [
      "Epoch [269/3000]: 100%|██████████| 9/9 [00:00<00:00, 199.32it/s, loss=50.3]\n"
     ]
    },
    {
     "name": "stdout",
     "output_type": "stream",
     "text": [
      "Epoch [269/3000]: Train loss: 55.0696, Valid loss: 63.3221\n"
     ]
    },
    {
     "name": "stderr",
     "output_type": "stream",
     "text": [
      "Epoch [270/3000]: 100%|██████████| 9/9 [00:00<00:00, 218.00it/s, loss=43.1]\n"
     ]
    },
    {
     "name": "stdout",
     "output_type": "stream",
     "text": [
      "Epoch [270/3000]: Train loss: 54.6208, Valid loss: 67.6234\n"
     ]
    },
    {
     "name": "stderr",
     "output_type": "stream",
     "text": [
      "Epoch [271/3000]: 100%|██████████| 9/9 [00:00<00:00, 262.45it/s, loss=69.7]\n"
     ]
    },
    {
     "name": "stdout",
     "output_type": "stream",
     "text": [
      "Epoch [271/3000]: Train loss: 56.2797, Valid loss: 66.9852\n"
     ]
    },
    {
     "name": "stderr",
     "output_type": "stream",
     "text": [
      "Epoch [272/3000]: 100%|██████████| 9/9 [00:00<00:00, 242.36it/s, loss=62.7]\n"
     ]
    },
    {
     "name": "stdout",
     "output_type": "stream",
     "text": [
      "Epoch [272/3000]: Train loss: 55.8425, Valid loss: 46.4137\n",
      "Saving model with loss 46.414...\n"
     ]
    },
    {
     "name": "stderr",
     "output_type": "stream",
     "text": [
      "Epoch [273/3000]: 100%|██████████| 9/9 [00:00<00:00, 210.29it/s, loss=39.8]\n"
     ]
    },
    {
     "name": "stdout",
     "output_type": "stream",
     "text": [
      "Epoch [273/3000]: Train loss: 54.4110, Valid loss: 59.4961\n"
     ]
    },
    {
     "name": "stderr",
     "output_type": "stream",
     "text": [
      "Epoch [274/3000]: 100%|██████████| 9/9 [00:00<00:00, 195.19it/s, loss=52.1]\n"
     ]
    },
    {
     "name": "stdout",
     "output_type": "stream",
     "text": [
      "Epoch [274/3000]: Train loss: 55.1798, Valid loss: 58.8599\n"
     ]
    },
    {
     "name": "stderr",
     "output_type": "stream",
     "text": [
      "Epoch [275/3000]: 100%|██████████| 9/9 [00:00<00:00, 203.11it/s, loss=62.7]\n"
     ]
    },
    {
     "name": "stdout",
     "output_type": "stream",
     "text": [
      "Epoch [275/3000]: Train loss: 55.8467, Valid loss: 72.5894\n"
     ]
    },
    {
     "name": "stderr",
     "output_type": "stream",
     "text": [
      "Epoch [276/3000]: 100%|██████████| 9/9 [00:00<00:00, 213.20it/s, loss=60.4]\n"
     ]
    },
    {
     "name": "stdout",
     "output_type": "stream",
     "text": [
      "Epoch [276/3000]: Train loss: 55.6999, Valid loss: 54.9180\n"
     ]
    },
    {
     "name": "stderr",
     "output_type": "stream",
     "text": [
      "Epoch [277/3000]: 100%|██████████| 9/9 [00:00<00:00, 235.09it/s, loss=45.7]\n"
     ]
    },
    {
     "name": "stdout",
     "output_type": "stream",
     "text": [
      "Epoch [277/3000]: Train loss: 54.7843, Valid loss: 61.1407\n"
     ]
    },
    {
     "name": "stderr",
     "output_type": "stream",
     "text": [
      "Epoch [278/3000]: 100%|██████████| 9/9 [00:00<00:00, 222.84it/s, loss=52.2]\n"
     ]
    },
    {
     "name": "stdout",
     "output_type": "stream",
     "text": [
      "Epoch [278/3000]: Train loss: 55.1855, Valid loss: 58.1705\n"
     ]
    },
    {
     "name": "stderr",
     "output_type": "stream",
     "text": [
      "Epoch [279/3000]: 100%|██████████| 9/9 [00:00<00:00, 231.08it/s, loss=45]\n"
     ]
    },
    {
     "name": "stdout",
     "output_type": "stream",
     "text": [
      "Epoch [279/3000]: Train loss: 54.7400, Valid loss: 53.0652\n"
     ]
    },
    {
     "name": "stderr",
     "output_type": "stream",
     "text": [
      "Epoch [280/3000]: 100%|██████████| 9/9 [00:00<00:00, 258.87it/s, loss=54.8]\n"
     ]
    },
    {
     "name": "stdout",
     "output_type": "stream",
     "text": [
      "Epoch [280/3000]: Train loss: 55.3507, Valid loss: 54.4281\n"
     ]
    },
    {
     "name": "stderr",
     "output_type": "stream",
     "text": [
      "Epoch [281/3000]: 100%|██████████| 9/9 [00:00<00:00, 127.98it/s, loss=73.7]\n"
     ]
    },
    {
     "name": "stdout",
     "output_type": "stream",
     "text": [
      "Epoch [281/3000]: Train loss: 56.5336, Valid loss: 71.2740\n"
     ]
    },
    {
     "name": "stderr",
     "output_type": "stream",
     "text": [
      "Epoch [282/3000]: 100%|██████████| 9/9 [00:00<00:00, 221.22it/s, loss=62.7]\n"
     ]
    },
    {
     "name": "stdout",
     "output_type": "stream",
     "text": [
      "Epoch [282/3000]: Train loss: 55.8461, Valid loss: 65.2529\n"
     ]
    },
    {
     "name": "stderr",
     "output_type": "stream",
     "text": [
      "Epoch [283/3000]: 100%|██████████| 9/9 [00:00<00:00, 239.15it/s, loss=46.9]\n"
     ]
    },
    {
     "name": "stdout",
     "output_type": "stream",
     "text": [
      "Epoch [283/3000]: Train loss: 54.8594, Valid loss: 58.2911\n"
     ]
    },
    {
     "name": "stderr",
     "output_type": "stream",
     "text": [
      "Epoch [284/3000]: 100%|██████████| 9/9 [00:00<00:00, 256.44it/s, loss=49.2]\n"
     ]
    },
    {
     "name": "stdout",
     "output_type": "stream",
     "text": [
      "Epoch [284/3000]: Train loss: 55.0012, Valid loss: 57.3299\n"
     ]
    },
    {
     "name": "stderr",
     "output_type": "stream",
     "text": [
      "Epoch [285/3000]: 100%|██████████| 9/9 [00:00<00:00, 264.80it/s, loss=57.1]\n"
     ]
    },
    {
     "name": "stdout",
     "output_type": "stream",
     "text": [
      "Epoch [285/3000]: Train loss: 55.4928, Valid loss: 58.8485\n"
     ]
    },
    {
     "name": "stderr",
     "output_type": "stream",
     "text": [
      "Epoch [286/3000]: 100%|██████████| 9/9 [00:00<00:00, 244.39it/s, loss=62.7]\n"
     ]
    },
    {
     "name": "stdout",
     "output_type": "stream",
     "text": [
      "Epoch [286/3000]: Train loss: 55.8423, Valid loss: 64.2036\n"
     ]
    },
    {
     "name": "stderr",
     "output_type": "stream",
     "text": [
      "Epoch [287/3000]: 100%|██████████| 9/9 [00:00<00:00, 237.49it/s, loss=35.8]\n"
     ]
    },
    {
     "name": "stdout",
     "output_type": "stream",
     "text": [
      "Epoch [287/3000]: Train loss: 54.1605, Valid loss: 62.5736\n"
     ]
    },
    {
     "name": "stderr",
     "output_type": "stream",
     "text": [
      "Epoch [288/3000]: 100%|██████████| 9/9 [00:00<00:00, 253.28it/s, loss=44.6]\n"
     ]
    },
    {
     "name": "stdout",
     "output_type": "stream",
     "text": [
      "Epoch [288/3000]: Train loss: 54.7130, Valid loss: 67.0181\n"
     ]
    },
    {
     "name": "stderr",
     "output_type": "stream",
     "text": [
      "Epoch [289/3000]: 100%|██████████| 9/9 [00:00<00:00, 189.66it/s, loss=43.8]\n"
     ]
    },
    {
     "name": "stdout",
     "output_type": "stream",
     "text": [
      "Epoch [289/3000]: Train loss: 54.6604, Valid loss: 58.0384\n"
     ]
    },
    {
     "name": "stderr",
     "output_type": "stream",
     "text": [
      "Epoch [290/3000]: 100%|██████████| 9/9 [00:00<00:00, 131.17it/s, loss=46.5]\n"
     ]
    },
    {
     "name": "stdout",
     "output_type": "stream",
     "text": [
      "Epoch [290/3000]: Train loss: 54.8296, Valid loss: 55.7852\n"
     ]
    },
    {
     "name": "stderr",
     "output_type": "stream",
     "text": [
      "Epoch [291/3000]: 100%|██████████| 9/9 [00:00<00:00, 207.63it/s, loss=45.8]\n"
     ]
    },
    {
     "name": "stdout",
     "output_type": "stream",
     "text": [
      "Epoch [291/3000]: Train loss: 54.7899, Valid loss: 64.1223\n"
     ]
    },
    {
     "name": "stderr",
     "output_type": "stream",
     "text": [
      "Epoch [292/3000]: 100%|██████████| 9/9 [00:00<00:00, 225.63it/s, loss=47.6]\n"
     ]
    },
    {
     "name": "stdout",
     "output_type": "stream",
     "text": [
      "Epoch [292/3000]: Train loss: 54.9029, Valid loss: 60.5426\n"
     ]
    },
    {
     "name": "stderr",
     "output_type": "stream",
     "text": [
      "Epoch [293/3000]: 100%|██████████| 9/9 [00:00<00:00, 234.64it/s, loss=37.7]\n"
     ]
    },
    {
     "name": "stdout",
     "output_type": "stream",
     "text": [
      "Epoch [293/3000]: Train loss: 54.2821, Valid loss: 65.8629\n"
     ]
    },
    {
     "name": "stderr",
     "output_type": "stream",
     "text": [
      "Epoch [294/3000]: 100%|██████████| 9/9 [00:00<00:00, 226.66it/s, loss=63]\n"
     ]
    },
    {
     "name": "stdout",
     "output_type": "stream",
     "text": [
      "Epoch [294/3000]: Train loss: 55.8631, Valid loss: 52.0024\n"
     ]
    },
    {
     "name": "stderr",
     "output_type": "stream",
     "text": [
      "Epoch [295/3000]: 100%|██████████| 9/9 [00:00<00:00, 248.58it/s, loss=49.6]\n"
     ]
    },
    {
     "name": "stdout",
     "output_type": "stream",
     "text": [
      "Epoch [295/3000]: Train loss: 55.0236, Valid loss: 55.8969\n"
     ]
    },
    {
     "name": "stderr",
     "output_type": "stream",
     "text": [
      "Epoch [296/3000]: 100%|██████████| 9/9 [00:00<00:00, 211.64it/s, loss=49]\n"
     ]
    },
    {
     "name": "stdout",
     "output_type": "stream",
     "text": [
      "Epoch [296/3000]: Train loss: 54.9863, Valid loss: 79.6981\n"
     ]
    },
    {
     "name": "stderr",
     "output_type": "stream",
     "text": [
      "Epoch [297/3000]: 100%|██████████| 9/9 [00:00<00:00, 235.98it/s, loss=63.1]\n"
     ]
    },
    {
     "name": "stdout",
     "output_type": "stream",
     "text": [
      "Epoch [297/3000]: Train loss: 55.8674, Valid loss: 53.5613\n"
     ]
    },
    {
     "name": "stderr",
     "output_type": "stream",
     "text": [
      "Epoch [298/3000]: 100%|██████████| 9/9 [00:00<00:00, 255.91it/s, loss=51.3]\n"
     ]
    },
    {
     "name": "stdout",
     "output_type": "stream",
     "text": [
      "Epoch [298/3000]: Train loss: 55.1319, Valid loss: 63.3880\n"
     ]
    },
    {
     "name": "stderr",
     "output_type": "stream",
     "text": [
      "Epoch [299/3000]: 100%|██████████| 9/9 [00:00<00:00, 219.99it/s, loss=62.7]\n"
     ]
    },
    {
     "name": "stdout",
     "output_type": "stream",
     "text": [
      "Epoch [299/3000]: Train loss: 55.8449, Valid loss: 60.1251\n"
     ]
    },
    {
     "name": "stderr",
     "output_type": "stream",
     "text": [
      "Epoch [300/3000]: 100%|██████████| 9/9 [00:00<00:00, 195.52it/s, loss=55.7]\n"
     ]
    },
    {
     "name": "stdout",
     "output_type": "stream",
     "text": [
      "Epoch [300/3000]: Train loss: 55.4057, Valid loss: 65.3217\n"
     ]
    },
    {
     "name": "stderr",
     "output_type": "stream",
     "text": [
      "Epoch [301/3000]: 100%|██████████| 9/9 [00:00<00:00, 177.95it/s, loss=57.3]\n"
     ]
    },
    {
     "name": "stdout",
     "output_type": "stream",
     "text": [
      "Epoch [301/3000]: Train loss: 55.5083, Valid loss: 67.3362\n"
     ]
    },
    {
     "name": "stderr",
     "output_type": "stream",
     "text": [
      "Epoch [302/3000]: 100%|██████████| 9/9 [00:00<00:00, 208.08it/s, loss=59.3]\n"
     ]
    },
    {
     "name": "stdout",
     "output_type": "stream",
     "text": [
      "Epoch [302/3000]: Train loss: 55.6290, Valid loss: 53.0923\n"
     ]
    },
    {
     "name": "stderr",
     "output_type": "stream",
     "text": [
      "Epoch [303/3000]: 100%|██████████| 9/9 [00:00<00:00, 216.96it/s, loss=37.8]\n"
     ]
    },
    {
     "name": "stdout",
     "output_type": "stream",
     "text": [
      "Epoch [303/3000]: Train loss: 54.2875, Valid loss: 61.7480\n"
     ]
    },
    {
     "name": "stderr",
     "output_type": "stream",
     "text": [
      "Epoch [304/3000]: 100%|██████████| 9/9 [00:00<00:00, 188.70it/s, loss=57.1]\n"
     ]
    },
    {
     "name": "stdout",
     "output_type": "stream",
     "text": [
      "Epoch [304/3000]: Train loss: 55.4921, Valid loss: 59.9176\n"
     ]
    },
    {
     "name": "stderr",
     "output_type": "stream",
     "text": [
      "Epoch [305/3000]: 100%|██████████| 9/9 [00:00<00:00, 193.09it/s, loss=79.9]\n"
     ]
    },
    {
     "name": "stdout",
     "output_type": "stream",
     "text": [
      "Epoch [305/3000]: Train loss: 56.9181, Valid loss: 49.8407\n"
     ]
    },
    {
     "name": "stderr",
     "output_type": "stream",
     "text": [
      "Epoch [306/3000]: 100%|██████████| 9/9 [00:00<00:00, 211.45it/s, loss=63.6]\n"
     ]
    },
    {
     "name": "stdout",
     "output_type": "stream",
     "text": [
      "Epoch [306/3000]: Train loss: 55.9035, Valid loss: 62.2503\n"
     ]
    },
    {
     "name": "stderr",
     "output_type": "stream",
     "text": [
      "Epoch [307/3000]: 100%|██████████| 9/9 [00:00<00:00, 219.73it/s, loss=44.2]\n"
     ]
    },
    {
     "name": "stdout",
     "output_type": "stream",
     "text": [
      "Epoch [307/3000]: Train loss: 54.6873, Valid loss: 57.5632\n"
     ]
    },
    {
     "name": "stderr",
     "output_type": "stream",
     "text": [
      "Epoch [308/3000]: 100%|██████████| 9/9 [00:00<00:00, 166.54it/s, loss=71.2]\n"
     ]
    },
    {
     "name": "stdout",
     "output_type": "stream",
     "text": [
      "Epoch [308/3000]: Train loss: 56.3744, Valid loss: 58.9643\n"
     ]
    },
    {
     "name": "stderr",
     "output_type": "stream",
     "text": [
      "Epoch [309/3000]: 100%|██████████| 9/9 [00:00<00:00, 214.26it/s, loss=59.4]\n"
     ]
    },
    {
     "name": "stdout",
     "output_type": "stream",
     "text": [
      "Epoch [309/3000]: Train loss: 55.6387, Valid loss: 63.0434\n"
     ]
    },
    {
     "name": "stderr",
     "output_type": "stream",
     "text": [
      "Epoch [310/3000]: 100%|██████████| 9/9 [00:00<00:00, 216.51it/s, loss=74.8]\n"
     ]
    },
    {
     "name": "stdout",
     "output_type": "stream",
     "text": [
      "Epoch [310/3000]: Train loss: 56.6008, Valid loss: 61.0591\n"
     ]
    },
    {
     "name": "stderr",
     "output_type": "stream",
     "text": [
      "Epoch [311/3000]: 100%|██████████| 9/9 [00:00<00:00, 213.88it/s, loss=46.7]\n"
     ]
    },
    {
     "name": "stdout",
     "output_type": "stream",
     "text": [
      "Epoch [311/3000]: Train loss: 54.8420, Valid loss: 68.0004\n"
     ]
    },
    {
     "name": "stderr",
     "output_type": "stream",
     "text": [
      "Epoch [312/3000]: 100%|██████████| 9/9 [00:00<00:00, 249.07it/s, loss=55.8]\n"
     ]
    },
    {
     "name": "stdout",
     "output_type": "stream",
     "text": [
      "Epoch [312/3000]: Train loss: 55.4117, Valid loss: 61.5071\n"
     ]
    },
    {
     "name": "stderr",
     "output_type": "stream",
     "text": [
      "Epoch [313/3000]: 100%|██████████| 9/9 [00:00<00:00, 52.47it/s, loss=35.4]\n"
     ]
    },
    {
     "name": "stdout",
     "output_type": "stream",
     "text": [
      "Epoch [313/3000]: Train loss: 54.1394, Valid loss: 65.1530\n"
     ]
    },
    {
     "name": "stderr",
     "output_type": "stream",
     "text": [
      "Epoch [314/3000]: 100%|██████████| 9/9 [00:00<00:00, 213.70it/s, loss=52.3]\n"
     ]
    },
    {
     "name": "stdout",
     "output_type": "stream",
     "text": [
      "Epoch [314/3000]: Train loss: 55.1924, Valid loss: 53.1242\n"
     ]
    },
    {
     "name": "stderr",
     "output_type": "stream",
     "text": [
      "Epoch [315/3000]: 100%|██████████| 9/9 [00:00<00:00, 233.92it/s, loss=64.3]\n"
     ]
    },
    {
     "name": "stdout",
     "output_type": "stream",
     "text": [
      "Epoch [315/3000]: Train loss: 55.9413, Valid loss: 64.3605\n"
     ]
    },
    {
     "name": "stderr",
     "output_type": "stream",
     "text": [
      "Epoch [316/3000]: 100%|██████████| 9/9 [00:00<00:00, 235.36it/s, loss=60.6]\n"
     ]
    },
    {
     "name": "stdout",
     "output_type": "stream",
     "text": [
      "Epoch [316/3000]: Train loss: 55.7162, Valid loss: 61.9683\n"
     ]
    },
    {
     "name": "stderr",
     "output_type": "stream",
     "text": [
      "Epoch [317/3000]: 100%|██████████| 9/9 [00:00<00:00, 178.40it/s, loss=50.2]\n"
     ]
    },
    {
     "name": "stdout",
     "output_type": "stream",
     "text": [
      "Epoch [317/3000]: Train loss: 55.0659, Valid loss: 62.4066\n"
     ]
    },
    {
     "name": "stderr",
     "output_type": "stream",
     "text": [
      "Epoch [318/3000]: 100%|██████████| 9/9 [00:00<00:00, 211.94it/s, loss=62.2]\n"
     ]
    },
    {
     "name": "stdout",
     "output_type": "stream",
     "text": [
      "Epoch [318/3000]: Train loss: 55.8124, Valid loss: 65.3253\n"
     ]
    },
    {
     "name": "stderr",
     "output_type": "stream",
     "text": [
      "Epoch [319/3000]: 100%|██████████| 9/9 [00:00<00:00, 209.93it/s, loss=76.3]\n"
     ]
    },
    {
     "name": "stdout",
     "output_type": "stream",
     "text": [
      "Epoch [319/3000]: Train loss: 56.6961, Valid loss: 72.3440\n"
     ]
    },
    {
     "name": "stderr",
     "output_type": "stream",
     "text": [
      "Epoch [320/3000]: 100%|██████████| 9/9 [00:00<00:00, 212.50it/s, loss=57.2]\n"
     ]
    },
    {
     "name": "stdout",
     "output_type": "stream",
     "text": [
      "Epoch [320/3000]: Train loss: 55.4997, Valid loss: 58.2310\n"
     ]
    },
    {
     "name": "stderr",
     "output_type": "stream",
     "text": [
      "Epoch [321/3000]: 100%|██████████| 9/9 [00:00<00:00, 210.22it/s, loss=66.6]\n"
     ]
    },
    {
     "name": "stdout",
     "output_type": "stream",
     "text": [
      "Epoch [321/3000]: Train loss: 56.0884, Valid loss: 55.9215\n"
     ]
    },
    {
     "name": "stderr",
     "output_type": "stream",
     "text": [
      "Epoch [322/3000]: 100%|██████████| 9/9 [00:00<00:00, 202.45it/s, loss=54.1]\n"
     ]
    },
    {
     "name": "stdout",
     "output_type": "stream",
     "text": [
      "Epoch [322/3000]: Train loss: 55.3038, Valid loss: 60.7632\n"
     ]
    },
    {
     "name": "stderr",
     "output_type": "stream",
     "text": [
      "Epoch [323/3000]: 100%|██████████| 9/9 [00:00<00:00, 205.73it/s, loss=64.1]\n"
     ]
    },
    {
     "name": "stdout",
     "output_type": "stream",
     "text": [
      "Epoch [323/3000]: Train loss: 55.9294, Valid loss: 56.8654\n"
     ]
    },
    {
     "name": "stderr",
     "output_type": "stream",
     "text": [
      "Epoch [324/3000]: 100%|██████████| 9/9 [00:00<00:00, 196.59it/s, loss=60.1]\n"
     ]
    },
    {
     "name": "stdout",
     "output_type": "stream",
     "text": [
      "Epoch [324/3000]: Train loss: 55.6836, Valid loss: 68.8975\n"
     ]
    },
    {
     "name": "stderr",
     "output_type": "stream",
     "text": [
      "Epoch [325/3000]: 100%|██████████| 9/9 [00:00<00:00, 131.56it/s, loss=68.2]\n"
     ]
    },
    {
     "name": "stdout",
     "output_type": "stream",
     "text": [
      "Epoch [325/3000]: Train loss: 56.1870, Valid loss: 56.3418\n"
     ]
    },
    {
     "name": "stderr",
     "output_type": "stream",
     "text": [
      "Epoch [326/3000]: 100%|██████████| 9/9 [00:00<00:00, 219.29it/s, loss=71.2]\n"
     ]
    },
    {
     "name": "stdout",
     "output_type": "stream",
     "text": [
      "Epoch [326/3000]: Train loss: 56.3746, Valid loss: 62.9306\n"
     ]
    },
    {
     "name": "stderr",
     "output_type": "stream",
     "text": [
      "Epoch [327/3000]: 100%|██████████| 9/9 [00:00<00:00, 218.41it/s, loss=53.9]\n"
     ]
    },
    {
     "name": "stdout",
     "output_type": "stream",
     "text": [
      "Epoch [327/3000]: Train loss: 55.2929, Valid loss: 61.1432\n"
     ]
    },
    {
     "name": "stderr",
     "output_type": "stream",
     "text": [
      "Epoch [328/3000]: 100%|██████████| 9/9 [00:00<00:00, 196.69it/s, loss=52.4]\n"
     ]
    },
    {
     "name": "stdout",
     "output_type": "stream",
     "text": [
      "Epoch [328/3000]: Train loss: 55.2008, Valid loss: 56.9928\n"
     ]
    },
    {
     "name": "stderr",
     "output_type": "stream",
     "text": [
      "Epoch [329/3000]: 100%|██████████| 9/9 [00:00<00:00, 175.68it/s, loss=52.6]\n"
     ]
    },
    {
     "name": "stdout",
     "output_type": "stream",
     "text": [
      "Epoch [329/3000]: Train loss: 55.2123, Valid loss: 51.6341\n"
     ]
    },
    {
     "name": "stderr",
     "output_type": "stream",
     "text": [
      "Epoch [330/3000]: 100%|██████████| 9/9 [00:00<00:00, 177.21it/s, loss=68.7]\n"
     ]
    },
    {
     "name": "stdout",
     "output_type": "stream",
     "text": [
      "Epoch [330/3000]: Train loss: 56.2192, Valid loss: 63.3764\n"
     ]
    },
    {
     "name": "stderr",
     "output_type": "stream",
     "text": [
      "Epoch [331/3000]: 100%|██████████| 9/9 [00:00<00:00, 215.05it/s, loss=56.4]\n"
     ]
    },
    {
     "name": "stdout",
     "output_type": "stream",
     "text": [
      "Epoch [331/3000]: Train loss: 55.4522, Valid loss: 63.0473\n"
     ]
    },
    {
     "name": "stderr",
     "output_type": "stream",
     "text": [
      "Epoch [332/3000]: 100%|██████████| 9/9 [00:00<00:00, 227.16it/s, loss=67.4]\n"
     ]
    },
    {
     "name": "stdout",
     "output_type": "stream",
     "text": [
      "Epoch [332/3000]: Train loss: 56.1354, Valid loss: 53.6459\n"
     ]
    },
    {
     "name": "stderr",
     "output_type": "stream",
     "text": [
      "Epoch [333/3000]: 100%|██████████| 9/9 [00:00<00:00, 121.59it/s, loss=41.2]\n"
     ]
    },
    {
     "name": "stdout",
     "output_type": "stream",
     "text": [
      "Epoch [333/3000]: Train loss: 54.5014, Valid loss: 61.3392\n"
     ]
    },
    {
     "name": "stderr",
     "output_type": "stream",
     "text": [
      "Epoch [334/3000]: 100%|██████████| 9/9 [00:00<00:00, 225.48it/s, loss=49.8]\n"
     ]
    },
    {
     "name": "stdout",
     "output_type": "stream",
     "text": [
      "Epoch [334/3000]: Train loss: 55.0412, Valid loss: 57.0667\n"
     ]
    },
    {
     "name": "stderr",
     "output_type": "stream",
     "text": [
      "Epoch [335/3000]: 100%|██████████| 9/9 [00:00<00:00, 236.16it/s, loss=62.4]\n"
     ]
    },
    {
     "name": "stdout",
     "output_type": "stream",
     "text": [
      "Epoch [335/3000]: Train loss: 55.8231, Valid loss: 54.3016\n"
     ]
    },
    {
     "name": "stderr",
     "output_type": "stream",
     "text": [
      "Epoch [336/3000]: 100%|██████████| 9/9 [00:00<00:00, 254.96it/s, loss=49.8]\n"
     ]
    },
    {
     "name": "stdout",
     "output_type": "stream",
     "text": [
      "Epoch [336/3000]: Train loss: 55.0406, Valid loss: 62.9823\n"
     ]
    },
    {
     "name": "stderr",
     "output_type": "stream",
     "text": [
      "Epoch [337/3000]: 100%|██████████| 9/9 [00:00<00:00, 222.70it/s, loss=54.7]\n"
     ]
    },
    {
     "name": "stdout",
     "output_type": "stream",
     "text": [
      "Epoch [337/3000]: Train loss: 55.3430, Valid loss: 57.4661\n"
     ]
    },
    {
     "name": "stderr",
     "output_type": "stream",
     "text": [
      "Epoch [338/3000]: 100%|██████████| 9/9 [00:00<00:00, 227.71it/s, loss=30.6]\n"
     ]
    },
    {
     "name": "stdout",
     "output_type": "stream",
     "text": [
      "Epoch [338/3000]: Train loss: 53.8362, Valid loss: 55.5231\n"
     ]
    },
    {
     "name": "stderr",
     "output_type": "stream",
     "text": [
      "Epoch [339/3000]: 100%|██████████| 9/9 [00:00<00:00, 230.39it/s, loss=55.9]\n"
     ]
    },
    {
     "name": "stdout",
     "output_type": "stream",
     "text": [
      "Epoch [339/3000]: Train loss: 55.4178, Valid loss: 59.1031\n"
     ]
    },
    {
     "name": "stderr",
     "output_type": "stream",
     "text": [
      "Epoch [340/3000]: 100%|██████████| 9/9 [00:00<00:00, 150.34it/s, loss=58.4]\n"
     ]
    },
    {
     "name": "stdout",
     "output_type": "stream",
     "text": [
      "Epoch [340/3000]: Train loss: 55.5779, Valid loss: 55.2091\n"
     ]
    },
    {
     "name": "stderr",
     "output_type": "stream",
     "text": [
      "Epoch [341/3000]: 100%|██████████| 9/9 [00:00<00:00, 181.07it/s, loss=56.2]\n"
     ]
    },
    {
     "name": "stdout",
     "output_type": "stream",
     "text": [
      "Epoch [341/3000]: Train loss: 55.4369, Valid loss: 60.2349\n"
     ]
    },
    {
     "name": "stderr",
     "output_type": "stream",
     "text": [
      "Epoch [342/3000]: 100%|██████████| 9/9 [00:00<00:00, 198.76it/s, loss=71.9]\n"
     ]
    },
    {
     "name": "stdout",
     "output_type": "stream",
     "text": [
      "Epoch [342/3000]: Train loss: 56.4207, Valid loss: 66.0492\n"
     ]
    },
    {
     "name": "stderr",
     "output_type": "stream",
     "text": [
      "Epoch [343/3000]: 100%|██████████| 9/9 [00:00<00:00, 191.66it/s, loss=76.8]"
     ]
    },
    {
     "name": "stdout",
     "output_type": "stream",
     "text": [
      "Epoch [343/3000]: Train loss: 56.7278, Valid loss: 62.6615"
     ]
    },
    {
     "name": "stderr",
     "output_type": "stream",
     "text": [
      "\n"
     ]
    },
    {
     "name": "stdout",
     "output_type": "stream",
     "text": [
      "\n"
     ]
    },
    {
     "name": "stderr",
     "output_type": "stream",
     "text": [
      "Epoch [344/3000]: 100%|██████████| 9/9 [00:00<00:00, 202.21it/s, loss=69.3]\n"
     ]
    },
    {
     "name": "stdout",
     "output_type": "stream",
     "text": [
      "Epoch [344/3000]: Train loss: 56.2543, Valid loss: 64.0653\n"
     ]
    },
    {
     "name": "stderr",
     "output_type": "stream",
     "text": [
      "Epoch [345/3000]: 100%|██████████| 9/9 [00:00<00:00, 129.04it/s, loss=56.7]\n"
     ]
    },
    {
     "name": "stdout",
     "output_type": "stream",
     "text": [
      "Epoch [345/3000]: Train loss: 55.4707, Valid loss: 63.0311\n"
     ]
    },
    {
     "name": "stderr",
     "output_type": "stream",
     "text": [
      "Epoch [346/3000]: 100%|██████████| 9/9 [00:00<00:00, 220.73it/s, loss=49.8]\n"
     ]
    },
    {
     "name": "stdout",
     "output_type": "stream",
     "text": [
      "Epoch [346/3000]: Train loss: 55.0366, Valid loss: 66.0655\n"
     ]
    },
    {
     "name": "stderr",
     "output_type": "stream",
     "text": [
      "Epoch [347/3000]: 100%|██████████| 9/9 [00:00<00:00, 241.72it/s, loss=53.4]\n"
     ]
    },
    {
     "name": "stdout",
     "output_type": "stream",
     "text": [
      "Epoch [347/3000]: Train loss: 55.2614, Valid loss: 63.1269\n"
     ]
    },
    {
     "name": "stderr",
     "output_type": "stream",
     "text": [
      "Epoch [348/3000]: 100%|██████████| 9/9 [00:00<00:00, 208.26it/s, loss=57.2]\n"
     ]
    },
    {
     "name": "stdout",
     "output_type": "stream",
     "text": [
      "Epoch [348/3000]: Train loss: 55.5023, Valid loss: 60.9233\n"
     ]
    },
    {
     "name": "stderr",
     "output_type": "stream",
     "text": [
      "Epoch [349/3000]: 100%|██████████| 9/9 [00:00<00:00, 211.84it/s, loss=48.5]\n"
     ]
    },
    {
     "name": "stdout",
     "output_type": "stream",
     "text": [
      "Epoch [349/3000]: Train loss: 54.9547, Valid loss: 57.3986\n"
     ]
    },
    {
     "name": "stderr",
     "output_type": "stream",
     "text": [
      "Epoch [350/3000]: 100%|██████████| 9/9 [00:00<00:00, 182.56it/s, loss=56.5]\n"
     ]
    },
    {
     "name": "stdout",
     "output_type": "stream",
     "text": [
      "Epoch [350/3000]: Train loss: 55.4593, Valid loss: 57.7704\n"
     ]
    },
    {
     "name": "stderr",
     "output_type": "stream",
     "text": [
      "Epoch [351/3000]: 100%|██████████| 9/9 [00:00<00:00, 108.06it/s, loss=51.3]\n"
     ]
    },
    {
     "name": "stdout",
     "output_type": "stream",
     "text": [
      "Epoch [351/3000]: Train loss: 55.1303, Valid loss: 59.2294\n"
     ]
    },
    {
     "name": "stderr",
     "output_type": "stream",
     "text": [
      "Epoch [352/3000]: 100%|██████████| 9/9 [00:00<00:00, 192.73it/s, loss=50.8]\n"
     ]
    },
    {
     "name": "stdout",
     "output_type": "stream",
     "text": [
      "Epoch [352/3000]: Train loss: 55.1001, Valid loss: 53.2024\n"
     ]
    },
    {
     "name": "stderr",
     "output_type": "stream",
     "text": [
      "Epoch [353/3000]: 100%|██████████| 9/9 [00:00<00:00, 230.23it/s, loss=62.3]\n"
     ]
    },
    {
     "name": "stdout",
     "output_type": "stream",
     "text": [
      "Epoch [353/3000]: Train loss: 55.8199, Valid loss: 57.3552\n"
     ]
    },
    {
     "name": "stderr",
     "output_type": "stream",
     "text": [
      "Epoch [354/3000]: 100%|██████████| 9/9 [00:00<00:00, 226.20it/s, loss=50.2]\n"
     ]
    },
    {
     "name": "stdout",
     "output_type": "stream",
     "text": [
      "Epoch [354/3000]: Train loss: 55.0656, Valid loss: 51.0645\n"
     ]
    },
    {
     "name": "stderr",
     "output_type": "stream",
     "text": [
      "Epoch [355/3000]: 100%|██████████| 9/9 [00:00<00:00, 228.75it/s, loss=53.1]\n"
     ]
    },
    {
     "name": "stdout",
     "output_type": "stream",
     "text": [
      "Epoch [355/3000]: Train loss: 55.2438, Valid loss: 66.2001\n"
     ]
    },
    {
     "name": "stderr",
     "output_type": "stream",
     "text": [
      "Epoch [356/3000]: 100%|██████████| 9/9 [00:00<00:00, 118.24it/s, loss=49.4]\n"
     ]
    },
    {
     "name": "stdout",
     "output_type": "stream",
     "text": [
      "Epoch [356/3000]: Train loss: 55.0123, Valid loss: 56.2171\n"
     ]
    },
    {
     "name": "stderr",
     "output_type": "stream",
     "text": [
      "Epoch [357/3000]: 100%|██████████| 9/9 [00:00<00:00, 197.65it/s, loss=57.6]\n"
     ]
    },
    {
     "name": "stdout",
     "output_type": "stream",
     "text": [
      "Epoch [357/3000]: Train loss: 55.5246, Valid loss: 62.0851\n"
     ]
    },
    {
     "name": "stderr",
     "output_type": "stream",
     "text": [
      "Epoch [358/3000]: 100%|██████████| 9/9 [00:00<00:00, 225.24it/s, loss=59.8]\n"
     ]
    },
    {
     "name": "stdout",
     "output_type": "stream",
     "text": [
      "Epoch [358/3000]: Train loss: 55.6607, Valid loss: 60.3693\n"
     ]
    },
    {
     "name": "stderr",
     "output_type": "stream",
     "text": [
      "Epoch [359/3000]: 100%|██████████| 9/9 [00:00<00:00, 204.63it/s, loss=44]\n"
     ]
    },
    {
     "name": "stdout",
     "output_type": "stream",
     "text": [
      "Epoch [359/3000]: Train loss: 54.6773, Valid loss: 54.3048\n"
     ]
    },
    {
     "name": "stderr",
     "output_type": "stream",
     "text": [
      "Epoch [360/3000]: 100%|██████████| 9/9 [00:00<00:00, 205.17it/s, loss=45.8]\n"
     ]
    },
    {
     "name": "stdout",
     "output_type": "stream",
     "text": [
      "Epoch [360/3000]: Train loss: 54.7911, Valid loss: 61.9477\n"
     ]
    },
    {
     "name": "stderr",
     "output_type": "stream",
     "text": [
      "Epoch [361/3000]: 100%|██████████| 9/9 [00:00<00:00, 178.93it/s, loss=43.4]\n"
     ]
    },
    {
     "name": "stdout",
     "output_type": "stream",
     "text": [
      "Epoch [361/3000]: Train loss: 54.6366, Valid loss: 71.3681\n"
     ]
    },
    {
     "name": "stderr",
     "output_type": "stream",
     "text": [
      "Epoch [362/3000]: 100%|██████████| 9/9 [00:00<00:00, 182.46it/s, loss=38.2]\n"
     ]
    },
    {
     "name": "stdout",
     "output_type": "stream",
     "text": [
      "Epoch [362/3000]: Train loss: 54.3157, Valid loss: 59.6954\n"
     ]
    },
    {
     "name": "stderr",
     "output_type": "stream",
     "text": [
      "Epoch [363/3000]: 100%|██████████| 9/9 [00:00<00:00, 195.80it/s, loss=57.3]\n"
     ]
    },
    {
     "name": "stdout",
     "output_type": "stream",
     "text": [
      "Epoch [363/3000]: Train loss: 55.5059, Valid loss: 58.9732\n"
     ]
    },
    {
     "name": "stderr",
     "output_type": "stream",
     "text": [
      "Epoch [364/3000]: 100%|██████████| 9/9 [00:00<00:00, 200.62it/s, loss=63.3]\n"
     ]
    },
    {
     "name": "stdout",
     "output_type": "stream",
     "text": [
      "Epoch [364/3000]: Train loss: 55.8791, Valid loss: 62.7797\n"
     ]
    },
    {
     "name": "stderr",
     "output_type": "stream",
     "text": [
      "Epoch [365/3000]: 100%|██████████| 9/9 [00:00<00:00, 158.61it/s, loss=67.1]"
     ]
    },
    {
     "name": "stdout",
     "output_type": "stream",
     "text": [
      "Epoch [365/3000]: Train loss: 56.1176, Valid loss: 63.8373\n"
     ]
    },
    {
     "name": "stderr",
     "output_type": "stream",
     "text": [
      "\n",
      "Epoch [366/3000]: 100%|██████████| 9/9 [00:00<00:00, 256.84it/s, loss=51.2]\n"
     ]
    },
    {
     "name": "stdout",
     "output_type": "stream",
     "text": [
      "Epoch [366/3000]: Train loss: 55.1262, Valid loss: 55.2191\n"
     ]
    },
    {
     "name": "stderr",
     "output_type": "stream",
     "text": [
      "Epoch [367/3000]: 100%|██████████| 9/9 [00:00<00:00, 254.62it/s, loss=47.5]\n"
     ]
    },
    {
     "name": "stdout",
     "output_type": "stream",
     "text": [
      "Epoch [367/3000]: Train loss: 54.8914, Valid loss: 59.1794\n"
     ]
    },
    {
     "name": "stderr",
     "output_type": "stream",
     "text": [
      "Epoch [368/3000]: 100%|██████████| 9/9 [00:00<00:00, 258.23it/s, loss=43.4]\n"
     ]
    },
    {
     "name": "stdout",
     "output_type": "stream",
     "text": [
      "Epoch [368/3000]: Train loss: 54.6406, Valid loss: 65.4622\n"
     ]
    },
    {
     "name": "stderr",
     "output_type": "stream",
     "text": [
      "Epoch [369/3000]: 100%|██████████| 9/9 [00:00<00:00, 269.38it/s, loss=50.6]\n"
     ]
    },
    {
     "name": "stdout",
     "output_type": "stream",
     "text": [
      "Epoch [369/3000]: Train loss: 55.0904, Valid loss: 58.6694\n"
     ]
    },
    {
     "name": "stderr",
     "output_type": "stream",
     "text": [
      "Epoch [370/3000]: 100%|██████████| 9/9 [00:00<00:00, 224.12it/s, loss=37.9]\n"
     ]
    },
    {
     "name": "stdout",
     "output_type": "stream",
     "text": [
      "Epoch [370/3000]: Train loss: 54.2935, Valid loss: 63.4129\n"
     ]
    },
    {
     "name": "stderr",
     "output_type": "stream",
     "text": [
      "Epoch [371/3000]: 100%|██████████| 9/9 [00:00<00:00, 221.94it/s, loss=60.3]\n"
     ]
    },
    {
     "name": "stdout",
     "output_type": "stream",
     "text": [
      "Epoch [371/3000]: Train loss: 55.6926, Valid loss: 71.1000\n"
     ]
    },
    {
     "name": "stderr",
     "output_type": "stream",
     "text": [
      "Epoch [372/3000]: 100%|██████████| 9/9 [00:00<00:00, 193.81it/s, loss=46.2]\n"
     ]
    },
    {
     "name": "stdout",
     "output_type": "stream",
     "text": [
      "Epoch [372/3000]: Train loss: 54.8114, Valid loss: 56.6299\n"
     ]
    },
    {
     "name": "stderr",
     "output_type": "stream",
     "text": [
      "Epoch [373/3000]: 100%|██████████| 9/9 [00:00<00:00, 197.03it/s, loss=69.9]\n"
     ]
    },
    {
     "name": "stdout",
     "output_type": "stream",
     "text": [
      "Epoch [373/3000]: Train loss: 56.2922, Valid loss: 60.3800\n"
     ]
    },
    {
     "name": "stderr",
     "output_type": "stream",
     "text": [
      "Epoch [374/3000]: 100%|██████████| 9/9 [00:00<00:00, 176.85it/s, loss=40.7]\n"
     ]
    },
    {
     "name": "stdout",
     "output_type": "stream",
     "text": [
      "Epoch [374/3000]: Train loss: 54.4680, Valid loss: 60.1172\n"
     ]
    },
    {
     "name": "stderr",
     "output_type": "stream",
     "text": [
      "Epoch [375/3000]: 100%|██████████| 9/9 [00:00<00:00, 181.96it/s, loss=60]\n"
     ]
    },
    {
     "name": "stdout",
     "output_type": "stream",
     "text": [
      "Epoch [375/3000]: Train loss: 55.6768, Valid loss: 67.3583\n"
     ]
    },
    {
     "name": "stderr",
     "output_type": "stream",
     "text": [
      "Epoch [376/3000]: 100%|██████████| 9/9 [00:00<00:00, 220.78it/s, loss=63.1]\n"
     ]
    },
    {
     "name": "stdout",
     "output_type": "stream",
     "text": [
      "Epoch [376/3000]: Train loss: 55.8717, Valid loss: 57.9518\n"
     ]
    },
    {
     "name": "stderr",
     "output_type": "stream",
     "text": [
      "Epoch [377/3000]: 100%|██████████| 9/9 [00:00<00:00, 193.59it/s, loss=51.6]\n"
     ]
    },
    {
     "name": "stdout",
     "output_type": "stream",
     "text": [
      "Epoch [377/3000]: Train loss: 55.1490, Valid loss: 60.0790\n"
     ]
    },
    {
     "name": "stderr",
     "output_type": "stream",
     "text": [
      "Epoch [378/3000]: 100%|██████████| 9/9 [00:00<00:00, 198.41it/s, loss=49.4]\n"
     ]
    },
    {
     "name": "stdout",
     "output_type": "stream",
     "text": [
      "Epoch [378/3000]: Train loss: 55.0121, Valid loss: 59.0338\n"
     ]
    },
    {
     "name": "stderr",
     "output_type": "stream",
     "text": [
      "Epoch [379/3000]: 100%|██████████| 9/9 [00:00<00:00, 199.47it/s, loss=56.4]\n"
     ]
    },
    {
     "name": "stdout",
     "output_type": "stream",
     "text": [
      "Epoch [379/3000]: Train loss: 55.4496, Valid loss: 55.8015\n"
     ]
    },
    {
     "name": "stderr",
     "output_type": "stream",
     "text": [
      "Epoch [380/3000]: 100%|██████████| 9/9 [00:00<00:00, 122.27it/s, loss=48.4]\n"
     ]
    },
    {
     "name": "stdout",
     "output_type": "stream",
     "text": [
      "Epoch [380/3000]: Train loss: 54.9533, Valid loss: 59.1284\n"
     ]
    },
    {
     "name": "stderr",
     "output_type": "stream",
     "text": [
      "Epoch [381/3000]: 100%|██████████| 9/9 [00:00<00:00, 219.55it/s, loss=70.5]\n"
     ]
    },
    {
     "name": "stdout",
     "output_type": "stream",
     "text": [
      "Epoch [381/3000]: Train loss: 56.3307, Valid loss: 59.6324\n"
     ]
    },
    {
     "name": "stderr",
     "output_type": "stream",
     "text": [
      "Epoch [382/3000]: 100%|██████████| 9/9 [00:00<00:00, 265.55it/s, loss=65.9]\n"
     ]
    },
    {
     "name": "stdout",
     "output_type": "stream",
     "text": [
      "Epoch [382/3000]: Train loss: 56.0420, Valid loss: 69.5398\n"
     ]
    },
    {
     "name": "stderr",
     "output_type": "stream",
     "text": [
      "Epoch [383/3000]: 100%|██████████| 9/9 [00:00<00:00, 236.68it/s, loss=51.1]\n"
     ]
    },
    {
     "name": "stdout",
     "output_type": "stream",
     "text": [
      "Epoch [383/3000]: Train loss: 55.1166, Valid loss: 52.9769\n"
     ]
    },
    {
     "name": "stderr",
     "output_type": "stream",
     "text": [
      "Epoch [384/3000]: 100%|██████████| 9/9 [00:00<00:00, 183.60it/s, loss=64.6]\n"
     ]
    },
    {
     "name": "stdout",
     "output_type": "stream",
     "text": [
      "Epoch [384/3000]: Train loss: 55.9625, Valid loss: 65.5076\n"
     ]
    },
    {
     "name": "stderr",
     "output_type": "stream",
     "text": [
      "Epoch [385/3000]: 100%|██████████| 9/9 [00:00<00:00, 231.55it/s, loss=51.8]\n"
     ]
    },
    {
     "name": "stdout",
     "output_type": "stream",
     "text": [
      "Epoch [385/3000]: Train loss: 55.1646, Valid loss: 62.9022\n"
     ]
    },
    {
     "name": "stderr",
     "output_type": "stream",
     "text": [
      "Epoch [386/3000]: 100%|██████████| 9/9 [00:00<00:00, 263.13it/s, loss=49.1]\n"
     ]
    },
    {
     "name": "stdout",
     "output_type": "stream",
     "text": [
      "Epoch [386/3000]: Train loss: 54.9917, Valid loss: 50.4069\n"
     ]
    },
    {
     "name": "stderr",
     "output_type": "stream",
     "text": [
      "Epoch [387/3000]: 100%|██████████| 9/9 [00:00<00:00, 122.40it/s, loss=63]\n"
     ]
    },
    {
     "name": "stdout",
     "output_type": "stream",
     "text": [
      "Epoch [387/3000]: Train loss: 55.8652, Valid loss: 65.3454\n"
     ]
    },
    {
     "name": "stderr",
     "output_type": "stream",
     "text": [
      "Epoch [388/3000]: 100%|██████████| 9/9 [00:00<00:00, 173.35it/s, loss=51.7]\n"
     ]
    },
    {
     "name": "stdout",
     "output_type": "stream",
     "text": [
      "Epoch [388/3000]: Train loss: 55.1551, Valid loss: 71.3930\n"
     ]
    },
    {
     "name": "stderr",
     "output_type": "stream",
     "text": [
      "Epoch [389/3000]: 100%|██████████| 9/9 [00:00<00:00, 212.25it/s, loss=71.4]\n"
     ]
    },
    {
     "name": "stdout",
     "output_type": "stream",
     "text": [
      "Epoch [389/3000]: Train loss: 56.3874, Valid loss: 55.3649\n"
     ]
    },
    {
     "name": "stderr",
     "output_type": "stream",
     "text": [
      "Epoch [390/3000]: 100%|██████████| 9/9 [00:00<00:00, 184.83it/s, loss=77.6]\n"
     ]
    },
    {
     "name": "stdout",
     "output_type": "stream",
     "text": [
      "Epoch [390/3000]: Train loss: 56.7754, Valid loss: 63.7109\n"
     ]
    },
    {
     "name": "stderr",
     "output_type": "stream",
     "text": [
      "Epoch [391/3000]: 100%|██████████| 9/9 [00:00<00:00, 200.10it/s, loss=68.8]\n"
     ]
    },
    {
     "name": "stdout",
     "output_type": "stream",
     "text": [
      "Epoch [391/3000]: Train loss: 56.2269, Valid loss: 63.3535\n"
     ]
    },
    {
     "name": "stderr",
     "output_type": "stream",
     "text": [
      "Epoch [392/3000]: 100%|██████████| 9/9 [00:00<00:00, 212.81it/s, loss=59.3]\n"
     ]
    },
    {
     "name": "stdout",
     "output_type": "stream",
     "text": [
      "Epoch [392/3000]: Train loss: 55.6340, Valid loss: 62.8995\n"
     ]
    },
    {
     "name": "stderr",
     "output_type": "stream",
     "text": [
      "Epoch [393/3000]: 100%|██████████| 9/9 [00:00<00:00, 124.28it/s, loss=67]\n"
     ]
    },
    {
     "name": "stdout",
     "output_type": "stream",
     "text": [
      "Epoch [393/3000]: Train loss: 56.1100, Valid loss: 52.0081\n"
     ]
    },
    {
     "name": "stderr",
     "output_type": "stream",
     "text": [
      "Epoch [394/3000]: 100%|██████████| 9/9 [00:00<00:00, 244.24it/s, loss=49.1]\n"
     ]
    },
    {
     "name": "stdout",
     "output_type": "stream",
     "text": [
      "Epoch [394/3000]: Train loss: 54.9954, Valid loss: 61.4558\n"
     ]
    },
    {
     "name": "stderr",
     "output_type": "stream",
     "text": [
      "Epoch [395/3000]: 100%|██████████| 9/9 [00:00<00:00, 262.33it/s, loss=40.7]\n"
     ]
    },
    {
     "name": "stdout",
     "output_type": "stream",
     "text": [
      "Epoch [395/3000]: Train loss: 54.4712, Valid loss: 55.2999\n"
     ]
    },
    {
     "name": "stderr",
     "output_type": "stream",
     "text": [
      "Epoch [396/3000]: 100%|██████████| 9/9 [00:00<00:00, 215.99it/s, loss=55.2]\n"
     ]
    },
    {
     "name": "stdout",
     "output_type": "stream",
     "text": [
      "Epoch [396/3000]: Train loss: 55.3781, Valid loss: 58.2906\n"
     ]
    },
    {
     "name": "stderr",
     "output_type": "stream",
     "text": [
      "Epoch [397/3000]: 100%|██████████| 9/9 [00:00<00:00, 197.08it/s, loss=44.9]\n"
     ]
    },
    {
     "name": "stdout",
     "output_type": "stream",
     "text": [
      "Epoch [397/3000]: Train loss: 54.7298, Valid loss: 53.4577\n"
     ]
    },
    {
     "name": "stderr",
     "output_type": "stream",
     "text": [
      "Epoch [398/3000]: 100%|██████████| 9/9 [00:00<00:00, 204.22it/s, loss=50.1]\n"
     ]
    },
    {
     "name": "stdout",
     "output_type": "stream",
     "text": [
      "Epoch [398/3000]: Train loss: 55.0544, Valid loss: 52.7714\n"
     ]
    },
    {
     "name": "stderr",
     "output_type": "stream",
     "text": [
      "Epoch [399/3000]: 100%|██████████| 9/9 [00:00<00:00, 134.39it/s, loss=58.7]\n"
     ]
    },
    {
     "name": "stdout",
     "output_type": "stream",
     "text": [
      "Epoch [399/3000]: Train loss: 55.5941, Valid loss: 61.6859\n"
     ]
    },
    {
     "name": "stderr",
     "output_type": "stream",
     "text": [
      "Epoch [400/3000]: 100%|██████████| 9/9 [00:00<00:00, 183.99it/s, loss=47.3]\n"
     ]
    },
    {
     "name": "stdout",
     "output_type": "stream",
     "text": [
      "Epoch [400/3000]: Train loss: 54.8799, Valid loss: 55.1464\n"
     ]
    },
    {
     "name": "stderr",
     "output_type": "stream",
     "text": [
      "Epoch [401/3000]: 100%|██████████| 9/9 [00:00<00:00, 203.81it/s, loss=41.3]\n"
     ]
    },
    {
     "name": "stdout",
     "output_type": "stream",
     "text": [
      "Epoch [401/3000]: Train loss: 54.5093, Valid loss: 61.8960\n"
     ]
    },
    {
     "name": "stderr",
     "output_type": "stream",
     "text": [
      "Epoch [402/3000]: 100%|██████████| 9/9 [00:00<00:00, 238.99it/s, loss=57.5]\n"
     ]
    },
    {
     "name": "stdout",
     "output_type": "stream",
     "text": [
      "Epoch [402/3000]: Train loss: 55.5221, Valid loss: 72.5563\n"
     ]
    },
    {
     "name": "stderr",
     "output_type": "stream",
     "text": [
      "Epoch [403/3000]: 100%|██████████| 9/9 [00:00<00:00, 280.37it/s, loss=43.7]\n"
     ]
    },
    {
     "name": "stdout",
     "output_type": "stream",
     "text": [
      "Epoch [403/3000]: Train loss: 54.6594, Valid loss: 60.3774\n"
     ]
    },
    {
     "name": "stderr",
     "output_type": "stream",
     "text": [
      "Epoch [404/3000]: 100%|██████████| 9/9 [00:00<00:00, 211.24it/s, loss=53.2]\n"
     ]
    },
    {
     "name": "stdout",
     "output_type": "stream",
     "text": [
      "Epoch [404/3000]: Train loss: 55.2493, Valid loss: 57.6592\n"
     ]
    },
    {
     "name": "stderr",
     "output_type": "stream",
     "text": [
      "Epoch [405/3000]: 100%|██████████| 9/9 [00:00<00:00, 118.38it/s, loss=47.9]"
     ]
    },
    {
     "name": "stdout",
     "output_type": "stream",
     "text": [
      "Epoch [405/3000]: Train loss: 54.9196, Valid loss: 61.3335"
     ]
    },
    {
     "name": "stderr",
     "output_type": "stream",
     "text": [
      "\n"
     ]
    },
    {
     "name": "stdout",
     "output_type": "stream",
     "text": [
      "\n"
     ]
    },
    {
     "name": "stderr",
     "output_type": "stream",
     "text": [
      "Epoch [406/3000]: 100%|██████████| 9/9 [00:00<00:00, 214.58it/s, loss=61.6]\n"
     ]
    },
    {
     "name": "stdout",
     "output_type": "stream",
     "text": [
      "Epoch [406/3000]: Train loss: 55.7761, Valid loss: 65.7459\n"
     ]
    },
    {
     "name": "stderr",
     "output_type": "stream",
     "text": [
      "Epoch [407/3000]: 100%|██████████| 9/9 [00:00<00:00, 216.21it/s, loss=57.2]\n"
     ]
    },
    {
     "name": "stdout",
     "output_type": "stream",
     "text": [
      "Epoch [407/3000]: Train loss: 55.5018, Valid loss: 60.0552\n"
     ]
    },
    {
     "name": "stderr",
     "output_type": "stream",
     "text": [
      "Epoch [408/3000]: 100%|██████████| 9/9 [00:00<00:00, 223.20it/s, loss=65.9]\n"
     ]
    },
    {
     "name": "stdout",
     "output_type": "stream",
     "text": [
      "Epoch [408/3000]: Train loss: 56.0436, Valid loss: 61.0231\n"
     ]
    },
    {
     "name": "stderr",
     "output_type": "stream",
     "text": [
      "Epoch [409/3000]: 100%|██████████| 9/9 [00:00<00:00, 214.67it/s, loss=50.8]\n"
     ]
    },
    {
     "name": "stdout",
     "output_type": "stream",
     "text": [
      "Epoch [409/3000]: Train loss: 55.1016, Valid loss: 62.0796\n"
     ]
    },
    {
     "name": "stderr",
     "output_type": "stream",
     "text": [
      "Epoch [410/3000]: 100%|██████████| 9/9 [00:00<00:00, 116.39it/s, loss=50.6]\n"
     ]
    },
    {
     "name": "stdout",
     "output_type": "stream",
     "text": [
      "Epoch [410/3000]: Train loss: 55.0910, Valid loss: 53.1560\n"
     ]
    },
    {
     "name": "stderr",
     "output_type": "stream",
     "text": [
      "Epoch [411/3000]: 100%|██████████| 9/9 [00:00<00:00, 220.27it/s, loss=52.4]\n"
     ]
    },
    {
     "name": "stdout",
     "output_type": "stream",
     "text": [
      "Epoch [411/3000]: Train loss: 55.1999, Valid loss: 51.7872\n"
     ]
    },
    {
     "name": "stderr",
     "output_type": "stream",
     "text": [
      "Epoch [412/3000]: 100%|██████████| 9/9 [00:00<00:00, 229.11it/s, loss=50.8]\n"
     ]
    },
    {
     "name": "stdout",
     "output_type": "stream",
     "text": [
      "Epoch [412/3000]: Train loss: 55.1006, Valid loss: 51.6110\n"
     ]
    },
    {
     "name": "stderr",
     "output_type": "stream",
     "text": [
      "Epoch [413/3000]: 100%|██████████| 9/9 [00:00<00:00, 231.08it/s, loss=51.1]\n"
     ]
    },
    {
     "name": "stdout",
     "output_type": "stream",
     "text": [
      "Epoch [413/3000]: Train loss: 55.1203, Valid loss: 52.4474\n"
     ]
    },
    {
     "name": "stderr",
     "output_type": "stream",
     "text": [
      "Epoch [414/3000]: 100%|██████████| 9/9 [00:00<00:00, 198.82it/s, loss=61.1]\n"
     ]
    },
    {
     "name": "stdout",
     "output_type": "stream",
     "text": [
      "Epoch [414/3000]: Train loss: 55.7434, Valid loss: 57.5352\n"
     ]
    },
    {
     "name": "stderr",
     "output_type": "stream",
     "text": [
      "Epoch [415/3000]: 100%|██████████| 9/9 [00:00<00:00, 191.88it/s, loss=45.5]\n"
     ]
    },
    {
     "name": "stdout",
     "output_type": "stream",
     "text": [
      "Epoch [415/3000]: Train loss: 54.7704, Valid loss: 57.8933\n"
     ]
    },
    {
     "name": "stderr",
     "output_type": "stream",
     "text": [
      "Epoch [416/3000]: 100%|██████████| 9/9 [00:00<00:00, 115.50it/s, loss=46.4]\n"
     ]
    },
    {
     "name": "stdout",
     "output_type": "stream",
     "text": [
      "Epoch [416/3000]: Train loss: 54.8242, Valid loss: 55.7366\n"
     ]
    },
    {
     "name": "stderr",
     "output_type": "stream",
     "text": [
      "Epoch [417/3000]: 100%|██████████| 9/9 [00:00<00:00, 185.82it/s, loss=58.8]\n"
     ]
    },
    {
     "name": "stdout",
     "output_type": "stream",
     "text": [
      "Epoch [417/3000]: Train loss: 55.6002, Valid loss: 76.0886\n"
     ]
    },
    {
     "name": "stderr",
     "output_type": "stream",
     "text": [
      "Epoch [418/3000]: 100%|██████████| 9/9 [00:00<00:00, 195.47it/s, loss=51.1]\n"
     ]
    },
    {
     "name": "stdout",
     "output_type": "stream",
     "text": [
      "Epoch [418/3000]: Train loss: 55.1189, Valid loss: 62.3436\n"
     ]
    },
    {
     "name": "stderr",
     "output_type": "stream",
     "text": [
      "Epoch [419/3000]: 100%|██████████| 9/9 [00:00<00:00, 248.64it/s, loss=43.1]\n"
     ]
    },
    {
     "name": "stdout",
     "output_type": "stream",
     "text": [
      "Epoch [419/3000]: Train loss: 54.6209, Valid loss: 57.5561\n"
     ]
    },
    {
     "name": "stderr",
     "output_type": "stream",
     "text": [
      "Epoch [420/3000]: 100%|██████████| 9/9 [00:00<00:00, 247.03it/s, loss=63.8]\n"
     ]
    },
    {
     "name": "stdout",
     "output_type": "stream",
     "text": [
      "Epoch [420/3000]: Train loss: 55.9131, Valid loss: 55.0649\n"
     ]
    },
    {
     "name": "stderr",
     "output_type": "stream",
     "text": [
      "Epoch [421/3000]: 100%|██████████| 9/9 [00:00<00:00, 197.75it/s, loss=60.9]\n"
     ]
    },
    {
     "name": "stdout",
     "output_type": "stream",
     "text": [
      "Epoch [421/3000]: Train loss: 55.7303, Valid loss: 68.2012\n"
     ]
    },
    {
     "name": "stderr",
     "output_type": "stream",
     "text": [
      "Epoch [422/3000]: 100%|██████████| 9/9 [00:00<00:00, 219.68it/s, loss=58.2]\n"
     ]
    },
    {
     "name": "stdout",
     "output_type": "stream",
     "text": [
      "Epoch [422/3000]: Train loss: 55.5655, Valid loss: 57.0104\n"
     ]
    },
    {
     "name": "stderr",
     "output_type": "stream",
     "text": [
      "Epoch [423/3000]: 100%|██████████| 9/9 [00:00<00:00, 216.72it/s, loss=59.2]\n"
     ]
    },
    {
     "name": "stdout",
     "output_type": "stream",
     "text": [
      "Epoch [423/3000]: Train loss: 55.6227, Valid loss: 63.4558\n"
     ]
    },
    {
     "name": "stderr",
     "output_type": "stream",
     "text": [
      "Epoch [424/3000]: 100%|██████████| 9/9 [00:00<00:00, 221.87it/s, loss=44.8]\n"
     ]
    },
    {
     "name": "stdout",
     "output_type": "stream",
     "text": [
      "Epoch [424/3000]: Train loss: 54.7275, Valid loss: 63.5910\n"
     ]
    },
    {
     "name": "stderr",
     "output_type": "stream",
     "text": [
      "Epoch [425/3000]: 100%|██████████| 9/9 [00:00<00:00, 187.25it/s, loss=60.4]\n"
     ]
    },
    {
     "name": "stdout",
     "output_type": "stream",
     "text": [
      "Epoch [425/3000]: Train loss: 55.6983, Valid loss: 62.2122\n"
     ]
    },
    {
     "name": "stderr",
     "output_type": "stream",
     "text": [
      "Epoch [426/3000]: 100%|██████████| 9/9 [00:00<00:00, 189.43it/s, loss=57.5]\n"
     ]
    },
    {
     "name": "stdout",
     "output_type": "stream",
     "text": [
      "Epoch [426/3000]: Train loss: 55.5217, Valid loss: 56.4028\n"
     ]
    },
    {
     "name": "stderr",
     "output_type": "stream",
     "text": [
      "Epoch [427/3000]: 100%|██████████| 9/9 [00:00<00:00, 217.00it/s, loss=69.3]\n"
     ]
    },
    {
     "name": "stdout",
     "output_type": "stream",
     "text": [
      "Epoch [427/3000]: Train loss: 56.2540, Valid loss: 61.4513\n"
     ]
    },
    {
     "name": "stderr",
     "output_type": "stream",
     "text": [
      "Epoch [428/3000]: 100%|██████████| 9/9 [00:00<00:00, 182.26it/s, loss=74.1]\n"
     ]
    },
    {
     "name": "stdout",
     "output_type": "stream",
     "text": [
      "Epoch [428/3000]: Train loss: 56.5553, Valid loss: 66.3166\n"
     ]
    },
    {
     "name": "stderr",
     "output_type": "stream",
     "text": [
      "Epoch [429/3000]: 100%|██████████| 9/9 [00:00<00:00, 148.63it/s, loss=54.8]\n"
     ]
    },
    {
     "name": "stdout",
     "output_type": "stream",
     "text": [
      "Epoch [429/3000]: Train loss: 55.3489, Valid loss: 64.9253\n"
     ]
    },
    {
     "name": "stderr",
     "output_type": "stream",
     "text": [
      "Epoch [430/3000]: 100%|██████████| 9/9 [00:00<00:00, 201.19it/s, loss=56.7]\n"
     ]
    },
    {
     "name": "stdout",
     "output_type": "stream",
     "text": [
      "Epoch [430/3000]: Train loss: 55.4697, Valid loss: 72.3762\n"
     ]
    },
    {
     "name": "stderr",
     "output_type": "stream",
     "text": [
      "Epoch [431/3000]: 100%|██████████| 9/9 [00:00<00:00, 211.77it/s, loss=51.4]"
     ]
    },
    {
     "name": "stdout",
     "output_type": "stream",
     "text": [
      "Epoch [431/3000]: Train loss: 55.1387, Valid loss: 58.5160"
     ]
    },
    {
     "name": "stderr",
     "output_type": "stream",
     "text": [
      "\n"
     ]
    },
    {
     "name": "stdout",
     "output_type": "stream",
     "text": [
      "\n"
     ]
    },
    {
     "name": "stderr",
     "output_type": "stream",
     "text": [
      "Epoch [432/3000]: 100%|██████████| 9/9 [00:00<00:00, 280.51it/s, loss=60.7]\n"
     ]
    },
    {
     "name": "stdout",
     "output_type": "stream",
     "text": [
      "Epoch [432/3000]: Train loss: 55.7169, Valid loss: 56.8426\n"
     ]
    },
    {
     "name": "stderr",
     "output_type": "stream",
     "text": [
      "Epoch [433/3000]: 100%|██████████| 9/9 [00:00<00:00, 233.56it/s, loss=54.1]\n"
     ]
    },
    {
     "name": "stdout",
     "output_type": "stream",
     "text": [
      "Epoch [433/3000]: Train loss: 55.3072, Valid loss: 67.0830\n"
     ]
    },
    {
     "name": "stderr",
     "output_type": "stream",
     "text": [
      "Epoch [434/3000]: 100%|██████████| 9/9 [00:00<00:00, 126.21it/s, loss=54.9]\n"
     ]
    },
    {
     "name": "stdout",
     "output_type": "stream",
     "text": [
      "Epoch [434/3000]: Train loss: 55.3566, Valid loss: 70.1903\n"
     ]
    },
    {
     "name": "stderr",
     "output_type": "stream",
     "text": [
      "Epoch [435/3000]: 100%|██████████| 9/9 [00:00<00:00, 169.08it/s, loss=48.6]\n"
     ]
    },
    {
     "name": "stdout",
     "output_type": "stream",
     "text": [
      "Epoch [435/3000]: Train loss: 54.9645, Valid loss: 59.9136\n"
     ]
    },
    {
     "name": "stderr",
     "output_type": "stream",
     "text": [
      "Epoch [436/3000]: 100%|██████████| 9/9 [00:00<00:00, 192.94it/s, loss=61.8]\n"
     ]
    },
    {
     "name": "stdout",
     "output_type": "stream",
     "text": [
      "Epoch [436/3000]: Train loss: 55.7906, Valid loss: 59.0850\n"
     ]
    },
    {
     "name": "stderr",
     "output_type": "stream",
     "text": [
      "Epoch [437/3000]: 100%|██████████| 9/9 [00:00<00:00, 206.15it/s, loss=42.1]\n"
     ]
    },
    {
     "name": "stdout",
     "output_type": "stream",
     "text": [
      "Epoch [437/3000]: Train loss: 54.5550, Valid loss: 59.5237\n"
     ]
    },
    {
     "name": "stderr",
     "output_type": "stream",
     "text": [
      "Epoch [438/3000]: 100%|██████████| 9/9 [00:00<00:00, 206.07it/s, loss=53.5]\n"
     ]
    },
    {
     "name": "stdout",
     "output_type": "stream",
     "text": [
      "Epoch [438/3000]: Train loss: 55.2684, Valid loss: 58.2268\n"
     ]
    },
    {
     "name": "stderr",
     "output_type": "stream",
     "text": [
      "Epoch [439/3000]: 100%|██████████| 9/9 [00:00<00:00, 202.15it/s, loss=67]\n"
     ]
    },
    {
     "name": "stdout",
     "output_type": "stream",
     "text": [
      "Epoch [439/3000]: Train loss: 56.1116, Valid loss: 58.9554\n"
     ]
    },
    {
     "name": "stderr",
     "output_type": "stream",
     "text": [
      "Epoch [440/3000]: 100%|██████████| 9/9 [00:00<00:00, 110.19it/s, loss=44.8]\n"
     ]
    },
    {
     "name": "stdout",
     "output_type": "stream",
     "text": [
      "Epoch [440/3000]: Train loss: 54.7244, Valid loss: 59.3153\n"
     ]
    },
    {
     "name": "stderr",
     "output_type": "stream",
     "text": [
      "Epoch [441/3000]: 100%|██████████| 9/9 [00:00<00:00, 218.42it/s, loss=57.3]\n"
     ]
    },
    {
     "name": "stdout",
     "output_type": "stream",
     "text": [
      "Epoch [441/3000]: Train loss: 55.5063, Valid loss: 59.6608\n"
     ]
    },
    {
     "name": "stderr",
     "output_type": "stream",
     "text": [
      "Epoch [442/3000]: 100%|██████████| 9/9 [00:00<00:00, 267.22it/s, loss=48.6]\n"
     ]
    },
    {
     "name": "stdout",
     "output_type": "stream",
     "text": [
      "Epoch [442/3000]: Train loss: 54.9617, Valid loss: 65.0361\n"
     ]
    },
    {
     "name": "stderr",
     "output_type": "stream",
     "text": [
      "Epoch [443/3000]: 100%|██████████| 9/9 [00:00<00:00, 230.32it/s, loss=68.9]\n"
     ]
    },
    {
     "name": "stdout",
     "output_type": "stream",
     "text": [
      "Epoch [443/3000]: Train loss: 56.2289, Valid loss: 55.0057\n"
     ]
    },
    {
     "name": "stderr",
     "output_type": "stream",
     "text": [
      "Epoch [444/3000]: 100%|██████████| 9/9 [00:00<00:00, 241.87it/s, loss=52.4]\n"
     ]
    },
    {
     "name": "stdout",
     "output_type": "stream",
     "text": [
      "Epoch [444/3000]: Train loss: 55.1980, Valid loss: 61.5048\n"
     ]
    },
    {
     "name": "stderr",
     "output_type": "stream",
     "text": [
      "Epoch [445/3000]: 100%|██████████| 9/9 [00:00<00:00, 129.86it/s, loss=58.6]\n"
     ]
    },
    {
     "name": "stdout",
     "output_type": "stream",
     "text": [
      "Epoch [445/3000]: Train loss: 55.5863, Valid loss: 52.9563\n"
     ]
    },
    {
     "name": "stderr",
     "output_type": "stream",
     "text": [
      "Epoch [446/3000]: 100%|██████████| 9/9 [00:00<00:00, 223.14it/s, loss=41]\n"
     ]
    },
    {
     "name": "stdout",
     "output_type": "stream",
     "text": [
      "Epoch [446/3000]: Train loss: 54.4862, Valid loss: 59.6929\n"
     ]
    },
    {
     "name": "stderr",
     "output_type": "stream",
     "text": [
      "Epoch [447/3000]: 100%|██████████| 9/9 [00:00<00:00, 190.74it/s, loss=40.3]\n"
     ]
    },
    {
     "name": "stdout",
     "output_type": "stream",
     "text": [
      "Epoch [447/3000]: Train loss: 54.4416, Valid loss: 56.9907\n"
     ]
    },
    {
     "name": "stderr",
     "output_type": "stream",
     "text": [
      "Epoch [448/3000]: 100%|██████████| 9/9 [00:00<00:00, 184.93it/s, loss=61.3]\n"
     ]
    },
    {
     "name": "stdout",
     "output_type": "stream",
     "text": [
      "Epoch [448/3000]: Train loss: 55.7598, Valid loss: 60.5224\n"
     ]
    },
    {
     "name": "stderr",
     "output_type": "stream",
     "text": [
      "Epoch [449/3000]: 100%|██████████| 9/9 [00:00<00:00, 201.52it/s, loss=64]\n"
     ]
    },
    {
     "name": "stdout",
     "output_type": "stream",
     "text": [
      "Epoch [449/3000]: Train loss: 55.9235, Valid loss: 69.2362\n"
     ]
    },
    {
     "name": "stderr",
     "output_type": "stream",
     "text": [
      "Epoch [450/3000]: 100%|██████████| 9/9 [00:00<00:00, 218.62it/s, loss=57.4]\n"
     ]
    },
    {
     "name": "stdout",
     "output_type": "stream",
     "text": [
      "Epoch [450/3000]: Train loss: 55.5120, Valid loss: 69.9459\n"
     ]
    },
    {
     "name": "stderr",
     "output_type": "stream",
     "text": [
      "Epoch [451/3000]: 100%|██████████| 9/9 [00:00<00:00, 110.24it/s, loss=48.9]\n"
     ]
    },
    {
     "name": "stdout",
     "output_type": "stream",
     "text": [
      "Epoch [451/3000]: Train loss: 54.9818, Valid loss: 54.6413\n"
     ]
    },
    {
     "name": "stderr",
     "output_type": "stream",
     "text": [
      "Epoch [452/3000]: 100%|██████████| 9/9 [00:00<00:00, 235.85it/s, loss=55.7]\n"
     ]
    },
    {
     "name": "stdout",
     "output_type": "stream",
     "text": [
      "Epoch [452/3000]: Train loss: 55.4086, Valid loss: 54.1874\n"
     ]
    },
    {
     "name": "stderr",
     "output_type": "stream",
     "text": [
      "Epoch [453/3000]: 100%|██████████| 9/9 [00:00<00:00, 220.66it/s, loss=56]\n"
     ]
    },
    {
     "name": "stdout",
     "output_type": "stream",
     "text": [
      "Epoch [453/3000]: Train loss: 55.4246, Valid loss: 69.9743\n"
     ]
    },
    {
     "name": "stderr",
     "output_type": "stream",
     "text": [
      "Epoch [454/3000]: 100%|██████████| 9/9 [00:00<00:00, 230.82it/s, loss=60.9]\n"
     ]
    },
    {
     "name": "stdout",
     "output_type": "stream",
     "text": [
      "Epoch [454/3000]: Train loss: 55.7321, Valid loss: 64.5011\n"
     ]
    },
    {
     "name": "stderr",
     "output_type": "stream",
     "text": [
      "Epoch [455/3000]: 100%|██████████| 9/9 [00:00<00:00, 216.04it/s, loss=63.5]\n"
     ]
    },
    {
     "name": "stdout",
     "output_type": "stream",
     "text": [
      "Epoch [455/3000]: Train loss: 55.8958, Valid loss: 63.8352\n"
     ]
    },
    {
     "name": "stderr",
     "output_type": "stream",
     "text": [
      "Epoch [456/3000]: 100%|██████████| 9/9 [00:00<00:00, 220.70it/s, loss=58.2]\n"
     ]
    },
    {
     "name": "stdout",
     "output_type": "stream",
     "text": [
      "Epoch [456/3000]: Train loss: 55.5644, Valid loss: 69.2654\n"
     ]
    },
    {
     "name": "stderr",
     "output_type": "stream",
     "text": [
      "Epoch [457/3000]: 100%|██████████| 9/9 [00:00<00:00, 107.94it/s, loss=71.2]\n"
     ]
    },
    {
     "name": "stdout",
     "output_type": "stream",
     "text": [
      "Epoch [457/3000]: Train loss: 56.3774, Valid loss: 72.0766\n"
     ]
    },
    {
     "name": "stderr",
     "output_type": "stream",
     "text": [
      "Epoch [458/3000]: 100%|██████████| 9/9 [00:00<00:00, 206.57it/s, loss=54.8]\n"
     ]
    },
    {
     "name": "stdout",
     "output_type": "stream",
     "text": [
      "Epoch [458/3000]: Train loss: 55.3484, Valid loss: 60.7937\n"
     ]
    },
    {
     "name": "stderr",
     "output_type": "stream",
     "text": [
      "Epoch [459/3000]: 100%|██████████| 9/9 [00:00<00:00, 205.37it/s, loss=51.4]\n"
     ]
    },
    {
     "name": "stdout",
     "output_type": "stream",
     "text": [
      "Epoch [459/3000]: Train loss: 55.1352, Valid loss: 56.9849\n"
     ]
    },
    {
     "name": "stderr",
     "output_type": "stream",
     "text": [
      "Epoch [460/3000]: 100%|██████████| 9/9 [00:00<00:00, 209.64it/s, loss=52.1]\n"
     ]
    },
    {
     "name": "stdout",
     "output_type": "stream",
     "text": [
      "Epoch [460/3000]: Train loss: 55.1840, Valid loss: 60.1544\n"
     ]
    },
    {
     "name": "stderr",
     "output_type": "stream",
     "text": [
      "Epoch [461/3000]: 100%|██████████| 9/9 [00:00<00:00, 217.46it/s, loss=57.4]\n"
     ]
    },
    {
     "name": "stdout",
     "output_type": "stream",
     "text": [
      "Epoch [461/3000]: Train loss: 55.5162, Valid loss: 55.2934\n"
     ]
    },
    {
     "name": "stderr",
     "output_type": "stream",
     "text": [
      "Epoch [462/3000]: 100%|██████████| 9/9 [00:00<00:00, 201.21it/s, loss=56.3]\n"
     ]
    },
    {
     "name": "stdout",
     "output_type": "stream",
     "text": [
      "Epoch [462/3000]: Train loss: 55.4417, Valid loss: 67.5522\n"
     ]
    },
    {
     "name": "stderr",
     "output_type": "stream",
     "text": [
      "Epoch [463/3000]: 100%|██████████| 9/9 [00:00<00:00, 120.10it/s, loss=54.2]\n"
     ]
    },
    {
     "name": "stdout",
     "output_type": "stream",
     "text": [
      "Epoch [463/3000]: Train loss: 55.3109, Valid loss: 60.5527\n"
     ]
    },
    {
     "name": "stderr",
     "output_type": "stream",
     "text": [
      "Epoch [464/3000]: 100%|██████████| 9/9 [00:00<00:00, 206.69it/s, loss=46]\n"
     ]
    },
    {
     "name": "stdout",
     "output_type": "stream",
     "text": [
      "Epoch [464/3000]: Train loss: 54.7995, Valid loss: 62.0862\n"
     ]
    },
    {
     "name": "stderr",
     "output_type": "stream",
     "text": [
      "Epoch [465/3000]: 100%|██████████| 9/9 [00:00<00:00, 254.83it/s, loss=59.5]\n"
     ]
    },
    {
     "name": "stdout",
     "output_type": "stream",
     "text": [
      "Epoch [465/3000]: Train loss: 55.6453, Valid loss: 65.1220\n"
     ]
    },
    {
     "name": "stderr",
     "output_type": "stream",
     "text": [
      "Epoch [466/3000]: 100%|██████████| 9/9 [00:00<00:00, 231.53it/s, loss=49.7]\n"
     ]
    },
    {
     "name": "stdout",
     "output_type": "stream",
     "text": [
      "Epoch [466/3000]: Train loss: 55.0289, Valid loss: 67.6512\n"
     ]
    },
    {
     "name": "stderr",
     "output_type": "stream",
     "text": [
      "Epoch [467/3000]: 100%|██████████| 9/9 [00:00<00:00, 281.48it/s, loss=43.1]\n"
     ]
    },
    {
     "name": "stdout",
     "output_type": "stream",
     "text": [
      "Epoch [467/3000]: Train loss: 54.6184, Valid loss: 61.9664\n"
     ]
    },
    {
     "name": "stderr",
     "output_type": "stream",
     "text": [
      "Epoch [468/3000]: 100%|██████████| 9/9 [00:00<00:00, 260.60it/s, loss=61.4]\n"
     ]
    },
    {
     "name": "stdout",
     "output_type": "stream",
     "text": [
      "Epoch [468/3000]: Train loss: 55.7600, Valid loss: 62.9428\n"
     ]
    },
    {
     "name": "stderr",
     "output_type": "stream",
     "text": [
      "Epoch [469/3000]: 100%|██████████| 9/9 [00:00<00:00, 153.45it/s, loss=48.8]\n"
     ]
    },
    {
     "name": "stdout",
     "output_type": "stream",
     "text": [
      "Epoch [469/3000]: Train loss: 54.9747, Valid loss: 70.4893\n"
     ]
    },
    {
     "name": "stderr",
     "output_type": "stream",
     "text": [
      "Epoch [470/3000]: 100%|██████████| 9/9 [00:00<00:00, 224.89it/s, loss=45.4]\n"
     ]
    },
    {
     "name": "stdout",
     "output_type": "stream",
     "text": [
      "Epoch [470/3000]: Train loss: 54.7600, Valid loss: 63.5205\n"
     ]
    },
    {
     "name": "stderr",
     "output_type": "stream",
     "text": [
      "Epoch [471/3000]: 100%|██████████| 9/9 [00:00<00:00, 194.99it/s, loss=43.9]\n"
     ]
    },
    {
     "name": "stdout",
     "output_type": "stream",
     "text": [
      "Epoch [471/3000]: Train loss: 54.6669, Valid loss: 57.6831\n"
     ]
    },
    {
     "name": "stderr",
     "output_type": "stream",
     "text": [
      "Epoch [472/3000]: 100%|██████████| 9/9 [00:00<00:00, 204.04it/s, loss=79.8]\n"
     ]
    },
    {
     "name": "stdout",
     "output_type": "stream",
     "text": [
      "Epoch [472/3000]: Train loss: 56.9144, Valid loss: 67.2185\n"
     ]
    },
    {
     "name": "stderr",
     "output_type": "stream",
     "text": [
      "Epoch [473/3000]: 100%|██████████| 9/9 [00:00<00:00, 181.01it/s, loss=62.8]\n"
     ]
    },
    {
     "name": "stdout",
     "output_type": "stream",
     "text": [
      "Epoch [473/3000]: Train loss: 55.8507, Valid loss: 62.3470\n"
     ]
    },
    {
     "name": "stderr",
     "output_type": "stream",
     "text": [
      "Epoch [474/3000]: 100%|██████████| 9/9 [00:00<00:00, 47.07it/s, loss=73.1]\n"
     ]
    },
    {
     "name": "stdout",
     "output_type": "stream",
     "text": [
      "Epoch [474/3000]: Train loss: 56.4937, Valid loss: 60.6545\n"
     ]
    },
    {
     "name": "stderr",
     "output_type": "stream",
     "text": [
      "Epoch [475/3000]: 100%|██████████| 9/9 [00:00<00:00, 179.14it/s, loss=42.1]\n"
     ]
    },
    {
     "name": "stdout",
     "output_type": "stream",
     "text": [
      "Epoch [475/3000]: Train loss: 54.5539, Valid loss: 60.8760\n"
     ]
    },
    {
     "name": "stderr",
     "output_type": "stream",
     "text": [
      "Epoch [476/3000]: 100%|██████████| 9/9 [00:00<00:00, 105.98it/s, loss=61.4]\n"
     ]
    },
    {
     "name": "stdout",
     "output_type": "stream",
     "text": [
      "Epoch [476/3000]: Train loss: 55.7637, Valid loss: 67.1976\n"
     ]
    },
    {
     "name": "stderr",
     "output_type": "stream",
     "text": [
      "Epoch [477/3000]: 100%|██████████| 9/9 [00:00<00:00, 223.69it/s, loss=58.5]\n"
     ]
    },
    {
     "name": "stdout",
     "output_type": "stream",
     "text": [
      "Epoch [477/3000]: Train loss: 55.5849, Valid loss: 54.7494\n"
     ]
    },
    {
     "name": "stderr",
     "output_type": "stream",
     "text": [
      "Epoch [478/3000]: 100%|██████████| 9/9 [00:00<00:00, 263.97it/s, loss=50.9]\n"
     ]
    },
    {
     "name": "stdout",
     "output_type": "stream",
     "text": [
      "Epoch [478/3000]: Train loss: 55.1063, Valid loss: 49.5153\n"
     ]
    },
    {
     "name": "stderr",
     "output_type": "stream",
     "text": [
      "Epoch [479/3000]: 100%|██████████| 9/9 [00:00<00:00, 205.35it/s, loss=58.1]\n"
     ]
    },
    {
     "name": "stdout",
     "output_type": "stream",
     "text": [
      "Epoch [479/3000]: Train loss: 55.5542, Valid loss: 62.4627\n"
     ]
    },
    {
     "name": "stderr",
     "output_type": "stream",
     "text": [
      "Epoch [480/3000]: 100%|██████████| 9/9 [00:00<00:00, 116.87it/s, loss=47.6]\n"
     ]
    },
    {
     "name": "stdout",
     "output_type": "stream",
     "text": [
      "Epoch [480/3000]: Train loss: 54.8985, Valid loss: 59.9641\n"
     ]
    },
    {
     "name": "stderr",
     "output_type": "stream",
     "text": [
      "Epoch [481/3000]: 100%|██████████| 9/9 [00:00<00:00, 209.79it/s, loss=58.4]\n"
     ]
    },
    {
     "name": "stdout",
     "output_type": "stream",
     "text": [
      "Epoch [481/3000]: Train loss: 55.5743, Valid loss: 53.8008\n"
     ]
    },
    {
     "name": "stderr",
     "output_type": "stream",
     "text": [
      "Epoch [482/3000]: 100%|██████████| 9/9 [00:00<00:00, 260.57it/s, loss=44.4]\n"
     ]
    },
    {
     "name": "stdout",
     "output_type": "stream",
     "text": [
      "Epoch [482/3000]: Train loss: 54.7034, Valid loss: 68.4910\n"
     ]
    },
    {
     "name": "stderr",
     "output_type": "stream",
     "text": [
      "Epoch [483/3000]: 100%|██████████| 9/9 [00:00<00:00, 276.60it/s, loss=58.8]\n"
     ]
    },
    {
     "name": "stdout",
     "output_type": "stream",
     "text": [
      "Epoch [483/3000]: Train loss: 55.5996, Valid loss: 58.3068\n"
     ]
    },
    {
     "name": "stderr",
     "output_type": "stream",
     "text": [
      "Epoch [484/3000]: 100%|██████████| 9/9 [00:00<00:00, 214.70it/s, loss=55.6]\n"
     ]
    },
    {
     "name": "stdout",
     "output_type": "stream",
     "text": [
      "Epoch [484/3000]: Train loss: 55.3982, Valid loss: 53.0156\n"
     ]
    },
    {
     "name": "stderr",
     "output_type": "stream",
     "text": [
      "Epoch [485/3000]: 100%|██████████| 9/9 [00:00<00:00, 220.91it/s, loss=51.9]\n"
     ]
    },
    {
     "name": "stdout",
     "output_type": "stream",
     "text": [
      "Epoch [485/3000]: Train loss: 55.1706, Valid loss: 67.6237\n"
     ]
    },
    {
     "name": "stderr",
     "output_type": "stream",
     "text": [
      "Epoch [486/3000]: 100%|██████████| 9/9 [00:00<00:00, 215.04it/s, loss=48.9]\n"
     ]
    },
    {
     "name": "stdout",
     "output_type": "stream",
     "text": [
      "Epoch [486/3000]: Train loss: 54.9811, Valid loss: 73.2420\n"
     ]
    },
    {
     "name": "stderr",
     "output_type": "stream",
     "text": [
      "Epoch [487/3000]: 100%|██████████| 9/9 [00:00<00:00, 178.90it/s, loss=57.6]\n"
     ]
    },
    {
     "name": "stdout",
     "output_type": "stream",
     "text": [
      "Epoch [487/3000]: Train loss: 55.5230, Valid loss: 58.1324\n"
     ]
    },
    {
     "name": "stderr",
     "output_type": "stream",
     "text": [
      "Epoch [488/3000]: 100%|██████████| 9/9 [00:00<00:00, 257.84it/s, loss=64]\n"
     ]
    },
    {
     "name": "stdout",
     "output_type": "stream",
     "text": [
      "Epoch [488/3000]: Train loss: 55.9228, Valid loss: 62.8254\n"
     ]
    },
    {
     "name": "stderr",
     "output_type": "stream",
     "text": [
      "Epoch [489/3000]: 100%|██████████| 9/9 [00:00<00:00, 107.36it/s, loss=42.6]\n"
     ]
    },
    {
     "name": "stdout",
     "output_type": "stream",
     "text": [
      "Epoch [489/3000]: Train loss: 54.5850, Valid loss: 50.1448\n"
     ]
    },
    {
     "name": "stderr",
     "output_type": "stream",
     "text": [
      "Epoch [490/3000]: 100%|██████████| 9/9 [00:00<00:00, 258.25it/s, loss=60.2]\n"
     ]
    },
    {
     "name": "stdout",
     "output_type": "stream",
     "text": [
      "Epoch [490/3000]: Train loss: 55.6857, Valid loss: 62.2132\n"
     ]
    },
    {
     "name": "stderr",
     "output_type": "stream",
     "text": [
      "Epoch [491/3000]: 100%|██████████| 9/9 [00:00<00:00, 195.90it/s, loss=71.7]\n"
     ]
    },
    {
     "name": "stdout",
     "output_type": "stream",
     "text": [
      "Epoch [491/3000]: Train loss: 56.4047, Valid loss: 55.7141\n"
     ]
    },
    {
     "name": "stderr",
     "output_type": "stream",
     "text": [
      "Epoch [492/3000]: 100%|██████████| 9/9 [00:00<00:00, 193.44it/s, loss=61.7]\n"
     ]
    },
    {
     "name": "stdout",
     "output_type": "stream",
     "text": [
      "Epoch [492/3000]: Train loss: 55.7849, Valid loss: 71.1747\n"
     ]
    },
    {
     "name": "stderr",
     "output_type": "stream",
     "text": [
      "Epoch [493/3000]: 100%|██████████| 9/9 [00:00<00:00, 210.83it/s, loss=50.4]\n"
     ]
    },
    {
     "name": "stdout",
     "output_type": "stream",
     "text": [
      "Epoch [493/3000]: Train loss: 55.0763, Valid loss: 49.3069\n"
     ]
    },
    {
     "name": "stderr",
     "output_type": "stream",
     "text": [
      "Epoch [494/3000]: 100%|██████████| 9/9 [00:00<00:00, 198.63it/s, loss=84.2]\n"
     ]
    },
    {
     "name": "stdout",
     "output_type": "stream",
     "text": [
      "Epoch [494/3000]: Train loss: 57.1901, Valid loss: 72.3926\n"
     ]
    },
    {
     "name": "stderr",
     "output_type": "stream",
     "text": [
      "Epoch [495/3000]: 100%|██████████| 9/9 [00:00<00:00, 131.55it/s, loss=67.6]\n"
     ]
    },
    {
     "name": "stdout",
     "output_type": "stream",
     "text": [
      "Epoch [495/3000]: Train loss: 56.1532, Valid loss: 58.3091\n"
     ]
    },
    {
     "name": "stderr",
     "output_type": "stream",
     "text": [
      "Epoch [496/3000]: 100%|██████████| 9/9 [00:00<00:00, 214.90it/s, loss=67]\n"
     ]
    },
    {
     "name": "stdout",
     "output_type": "stream",
     "text": [
      "Epoch [496/3000]: Train loss: 56.1124, Valid loss: 59.1733\n"
     ]
    },
    {
     "name": "stderr",
     "output_type": "stream",
     "text": [
      "Epoch [497/3000]: 100%|██████████| 9/9 [00:00<00:00, 175.31it/s, loss=52.8]\n"
     ]
    },
    {
     "name": "stdout",
     "output_type": "stream",
     "text": [
      "Epoch [497/3000]: Train loss: 55.2279, Valid loss: 61.3561\n"
     ]
    },
    {
     "name": "stderr",
     "output_type": "stream",
     "text": [
      "Epoch [498/3000]: 100%|██████████| 9/9 [00:00<00:00, 185.80it/s, loss=63.1]\n"
     ]
    },
    {
     "name": "stdout",
     "output_type": "stream",
     "text": [
      "Epoch [498/3000]: Train loss: 55.8716, Valid loss: 57.5410\n"
     ]
    },
    {
     "name": "stderr",
     "output_type": "stream",
     "text": [
      "Epoch [499/3000]: 100%|██████████| 9/9 [00:00<00:00, 178.68it/s, loss=51.5]\n"
     ]
    },
    {
     "name": "stdout",
     "output_type": "stream",
     "text": [
      "Epoch [499/3000]: Train loss: 55.1469, Valid loss: 52.9741\n"
     ]
    },
    {
     "name": "stderr",
     "output_type": "stream",
     "text": [
      "Epoch [500/3000]: 100%|██████████| 9/9 [00:00<00:00, 197.09it/s, loss=60.4]\n"
     ]
    },
    {
     "name": "stdout",
     "output_type": "stream",
     "text": [
      "Epoch [500/3000]: Train loss: 55.6989, Valid loss: 66.6640\n"
     ]
    },
    {
     "name": "stderr",
     "output_type": "stream",
     "text": [
      "Epoch [501/3000]: 100%|██████████| 9/9 [00:00<00:00, 228.79it/s, loss=71.2]\n"
     ]
    },
    {
     "name": "stdout",
     "output_type": "stream",
     "text": [
      "Epoch [501/3000]: Train loss: 56.3743, Valid loss: 53.3527\n"
     ]
    },
    {
     "name": "stderr",
     "output_type": "stream",
     "text": [
      "Epoch [502/3000]: 100%|██████████| 9/9 [00:00<00:00, 124.74it/s, loss=51.3]"
     ]
    },
    {
     "name": "stdout",
     "output_type": "stream",
     "text": [
      "Epoch [502/3000]: Train loss: 55.1346, Valid loss: 71.2100"
     ]
    },
    {
     "name": "stderr",
     "output_type": "stream",
     "text": [
      "\n"
     ]
    },
    {
     "name": "stdout",
     "output_type": "stream",
     "text": [
      "\n"
     ]
    },
    {
     "name": "stderr",
     "output_type": "stream",
     "text": [
      "Epoch [503/3000]: 100%|██████████| 9/9 [00:00<00:00, 195.74it/s, loss=36.5]\n"
     ]
    },
    {
     "name": "stdout",
     "output_type": "stream",
     "text": [
      "Epoch [503/3000]: Train loss: 54.2052, Valid loss: 56.7725\n"
     ]
    },
    {
     "name": "stderr",
     "output_type": "stream",
     "text": [
      "Epoch [504/3000]: 100%|██████████| 9/9 [00:00<00:00, 199.61it/s, loss=68.7]\n"
     ]
    },
    {
     "name": "stdout",
     "output_type": "stream",
     "text": [
      "Epoch [504/3000]: Train loss: 56.2199, Valid loss: 61.5516\n"
     ]
    },
    {
     "name": "stderr",
     "output_type": "stream",
     "text": [
      "Epoch [505/3000]: 100%|██████████| 9/9 [00:00<00:00, 195.01it/s, loss=66.2]\n"
     ]
    },
    {
     "name": "stdout",
     "output_type": "stream",
     "text": [
      "Epoch [505/3000]: Train loss: 56.0662, Valid loss: 60.7080\n"
     ]
    },
    {
     "name": "stderr",
     "output_type": "stream",
     "text": [
      "Epoch [506/3000]: 100%|██████████| 9/9 [00:00<00:00, 234.71it/s, loss=55.6]\n"
     ]
    },
    {
     "name": "stdout",
     "output_type": "stream",
     "text": [
      "Epoch [506/3000]: Train loss: 55.3985, Valid loss: 53.6977\n"
     ]
    },
    {
     "name": "stderr",
     "output_type": "stream",
     "text": [
      "Epoch [507/3000]: 100%|██████████| 9/9 [00:00<00:00, 301.17it/s, loss=50.7]\n"
     ]
    },
    {
     "name": "stdout",
     "output_type": "stream",
     "text": [
      "Epoch [507/3000]: Train loss: 55.0970, Valid loss: 61.4573\n"
     ]
    },
    {
     "name": "stderr",
     "output_type": "stream",
     "text": [
      "Epoch [508/3000]: 100%|██████████| 9/9 [00:00<00:00, 264.53it/s, loss=56.2]\n"
     ]
    },
    {
     "name": "stdout",
     "output_type": "stream",
     "text": [
      "Epoch [508/3000]: Train loss: 55.4400, Valid loss: 64.6842\n"
     ]
    },
    {
     "name": "stderr",
     "output_type": "stream",
     "text": [
      "Epoch [509/3000]: 100%|██████████| 9/9 [00:00<00:00, 229.22it/s, loss=51.1]\n"
     ]
    },
    {
     "name": "stdout",
     "output_type": "stream",
     "text": [
      "Epoch [509/3000]: Train loss: 55.1171, Valid loss: 62.0658\n"
     ]
    },
    {
     "name": "stderr",
     "output_type": "stream",
     "text": [
      "Epoch [510/3000]: 100%|██████████| 9/9 [00:00<00:00, 187.86it/s, loss=60.6]\n"
     ]
    },
    {
     "name": "stdout",
     "output_type": "stream",
     "text": [
      "Epoch [510/3000]: Train loss: 55.7104, Valid loss: 65.9248\n"
     ]
    },
    {
     "name": "stderr",
     "output_type": "stream",
     "text": [
      "Epoch [511/3000]: 100%|██████████| 9/9 [00:00<00:00, 190.71it/s, loss=56.2]\n"
     ]
    },
    {
     "name": "stdout",
     "output_type": "stream",
     "text": [
      "Epoch [511/3000]: Train loss: 55.4362, Valid loss: 57.3385\n"
     ]
    },
    {
     "name": "stderr",
     "output_type": "stream",
     "text": [
      "Epoch [512/3000]: 100%|██████████| 9/9 [00:00<00:00, 199.68it/s, loss=49]\n"
     ]
    },
    {
     "name": "stdout",
     "output_type": "stream",
     "text": [
      "Epoch [512/3000]: Train loss: 54.9865, Valid loss: 60.9924\n"
     ]
    },
    {
     "name": "stderr",
     "output_type": "stream",
     "text": [
      "Epoch [513/3000]: 100%|██████████| 9/9 [00:00<00:00, 243.28it/s, loss=53]\n"
     ]
    },
    {
     "name": "stdout",
     "output_type": "stream",
     "text": [
      "Epoch [513/3000]: Train loss: 55.2361, Valid loss: 59.0564\n"
     ]
    },
    {
     "name": "stderr",
     "output_type": "stream",
     "text": [
      "Epoch [514/3000]: 100%|██████████| 9/9 [00:00<00:00, 224.95it/s, loss=48.9]\n"
     ]
    },
    {
     "name": "stdout",
     "output_type": "stream",
     "text": [
      "Epoch [514/3000]: Train loss: 54.9789, Valid loss: 58.1286\n"
     ]
    },
    {
     "name": "stderr",
     "output_type": "stream",
     "text": [
      "Epoch [515/3000]: 100%|██████████| 9/9 [00:00<00:00, 209.15it/s, loss=51.8]\n"
     ]
    },
    {
     "name": "stdout",
     "output_type": "stream",
     "text": [
      "Epoch [515/3000]: Train loss: 55.1603, Valid loss: 49.2992\n"
     ]
    },
    {
     "name": "stderr",
     "output_type": "stream",
     "text": [
      "Epoch [516/3000]: 100%|██████████| 9/9 [00:00<00:00, 227.43it/s, loss=52.6]\n"
     ]
    },
    {
     "name": "stdout",
     "output_type": "stream",
     "text": [
      "Epoch [516/3000]: Train loss: 55.2115, Valid loss: 57.3979\n"
     ]
    },
    {
     "name": "stderr",
     "output_type": "stream",
     "text": [
      "Epoch [517/3000]: 100%|██████████| 9/9 [00:00<00:00, 176.56it/s, loss=53.8]\n"
     ]
    },
    {
     "name": "stdout",
     "output_type": "stream",
     "text": [
      "Epoch [517/3000]: Train loss: 55.2880, Valid loss: 62.8997\n"
     ]
    },
    {
     "name": "stderr",
     "output_type": "stream",
     "text": [
      "Epoch [518/3000]: 100%|██████████| 9/9 [00:00<00:00, 236.45it/s, loss=61]\n"
     ]
    },
    {
     "name": "stdout",
     "output_type": "stream",
     "text": [
      "Epoch [518/3000]: Train loss: 55.7403, Valid loss: 66.1972\n"
     ]
    },
    {
     "name": "stderr",
     "output_type": "stream",
     "text": [
      "Epoch [519/3000]: 100%|██████████| 9/9 [00:00<00:00, 222.15it/s, loss=59]\n"
     ]
    },
    {
     "name": "stdout",
     "output_type": "stream",
     "text": [
      "Epoch [519/3000]: Train loss: 55.6129, Valid loss: 63.2973\n"
     ]
    },
    {
     "name": "stderr",
     "output_type": "stream",
     "text": [
      "Epoch [520/3000]: 100%|██████████| 9/9 [00:00<00:00, 243.51it/s, loss=65.1]\n"
     ]
    },
    {
     "name": "stdout",
     "output_type": "stream",
     "text": [
      "Epoch [520/3000]: Train loss: 55.9926, Valid loss: 55.1389\n"
     ]
    },
    {
     "name": "stderr",
     "output_type": "stream",
     "text": [
      "Epoch [521/3000]: 100%|██████████| 9/9 [00:00<00:00, 230.19it/s, loss=56.9]\n"
     ]
    },
    {
     "name": "stdout",
     "output_type": "stream",
     "text": [
      "Epoch [521/3000]: Train loss: 55.4826, Valid loss: 54.0101\n"
     ]
    },
    {
     "name": "stderr",
     "output_type": "stream",
     "text": [
      "Epoch [522/3000]: 100%|██████████| 9/9 [00:00<00:00, 281.78it/s, loss=57.5]\n"
     ]
    },
    {
     "name": "stdout",
     "output_type": "stream",
     "text": [
      "Epoch [522/3000]: Train loss: 55.5209, Valid loss: 55.0240\n"
     ]
    },
    {
     "name": "stderr",
     "output_type": "stream",
     "text": [
      "Epoch [523/3000]: 100%|██████████| 9/9 [00:00<00:00, 255.54it/s, loss=65.4]\n"
     ]
    },
    {
     "name": "stdout",
     "output_type": "stream",
     "text": [
      "Epoch [523/3000]: Train loss: 56.0106, Valid loss: 60.8017\n"
     ]
    },
    {
     "name": "stderr",
     "output_type": "stream",
     "text": [
      "Epoch [524/3000]: 100%|██████████| 9/9 [00:00<00:00, 177.24it/s, loss=62.1]\n"
     ]
    },
    {
     "name": "stdout",
     "output_type": "stream",
     "text": [
      "Epoch [524/3000]: Train loss: 55.8044, Valid loss: 57.3969\n"
     ]
    },
    {
     "name": "stderr",
     "output_type": "stream",
     "text": [
      "Epoch [525/3000]: 100%|██████████| 9/9 [00:00<00:00, 184.51it/s, loss=56.4]\n"
     ]
    },
    {
     "name": "stdout",
     "output_type": "stream",
     "text": [
      "Epoch [525/3000]: Train loss: 55.4514, Valid loss: 66.9844\n"
     ]
    },
    {
     "name": "stderr",
     "output_type": "stream",
     "text": [
      "Epoch [526/3000]: 100%|██████████| 9/9 [00:00<00:00, 253.50it/s, loss=55.2]\n"
     ]
    },
    {
     "name": "stdout",
     "output_type": "stream",
     "text": [
      "Epoch [526/3000]: Train loss: 55.3728, Valid loss: 56.8649\n"
     ]
    },
    {
     "name": "stderr",
     "output_type": "stream",
     "text": [
      "Epoch [527/3000]: 100%|██████████| 9/9 [00:00<00:00, 241.72it/s, loss=40.8]\n"
     ]
    },
    {
     "name": "stdout",
     "output_type": "stream",
     "text": [
      "Epoch [527/3000]: Train loss: 54.4764, Valid loss: 57.5122\n"
     ]
    },
    {
     "name": "stderr",
     "output_type": "stream",
     "text": [
      "Epoch [528/3000]: 100%|██████████| 9/9 [00:00<00:00, 214.85it/s, loss=60]\n"
     ]
    },
    {
     "name": "stdout",
     "output_type": "stream",
     "text": [
      "Epoch [528/3000]: Train loss: 55.6731, Valid loss: 57.0400\n"
     ]
    },
    {
     "name": "stderr",
     "output_type": "stream",
     "text": [
      "Epoch [529/3000]: 100%|██████████| 9/9 [00:00<00:00, 236.63it/s, loss=62.7]\n"
     ]
    },
    {
     "name": "stdout",
     "output_type": "stream",
     "text": [
      "Epoch [529/3000]: Train loss: 55.8471, Valid loss: 65.7557\n"
     ]
    },
    {
     "name": "stderr",
     "output_type": "stream",
     "text": [
      "Epoch [530/3000]: 100%|██████████| 9/9 [00:00<00:00, 198.31it/s, loss=58.6]\n"
     ]
    },
    {
     "name": "stdout",
     "output_type": "stream",
     "text": [
      "Epoch [530/3000]: Train loss: 55.5856, Valid loss: 63.3186\n"
     ]
    },
    {
     "name": "stderr",
     "output_type": "stream",
     "text": [
      "Epoch [531/3000]: 100%|██████████| 9/9 [00:00<00:00, 165.32it/s, loss=48.6]\n"
     ]
    },
    {
     "name": "stdout",
     "output_type": "stream",
     "text": [
      "Epoch [531/3000]: Train loss: 54.9617, Valid loss: 60.0870\n"
     ]
    },
    {
     "name": "stderr",
     "output_type": "stream",
     "text": [
      "Epoch [532/3000]: 100%|██████████| 9/9 [00:00<00:00, 170.36it/s, loss=50.4]"
     ]
    },
    {
     "name": "stdout",
     "output_type": "stream",
     "text": [
      "Epoch [532/3000]: Train loss: 55.0756, Valid loss: 53.4428"
     ]
    },
    {
     "name": "stderr",
     "output_type": "stream",
     "text": [
      "\n"
     ]
    },
    {
     "name": "stdout",
     "output_type": "stream",
     "text": [
      "\n"
     ]
    },
    {
     "name": "stderr",
     "output_type": "stream",
     "text": [
      "Epoch [533/3000]: 100%|██████████| 9/9 [00:00<00:00, 106.33it/s, loss=76.5]\n"
     ]
    },
    {
     "name": "stdout",
     "output_type": "stream",
     "text": [
      "Epoch [533/3000]: Train loss: 56.7061, Valid loss: 69.5565\n"
     ]
    },
    {
     "name": "stderr",
     "output_type": "stream",
     "text": [
      "Epoch [534/3000]: 100%|██████████| 9/9 [00:00<00:00, 187.59it/s, loss=69]\n"
     ]
    },
    {
     "name": "stdout",
     "output_type": "stream",
     "text": [
      "Epoch [534/3000]: Train loss: 56.2368, Valid loss: 61.6140\n"
     ]
    },
    {
     "name": "stderr",
     "output_type": "stream",
     "text": [
      "Epoch [535/3000]: 100%|██████████| 9/9 [00:00<00:00, 195.92it/s, loss=53.6]\n"
     ]
    },
    {
     "name": "stdout",
     "output_type": "stream",
     "text": [
      "Epoch [535/3000]: Train loss: 55.2727, Valid loss: 58.5784\n"
     ]
    },
    {
     "name": "stderr",
     "output_type": "stream",
     "text": [
      "Epoch [536/3000]: 100%|██████████| 9/9 [00:00<00:00, 195.12it/s, loss=67.8]\n"
     ]
    },
    {
     "name": "stdout",
     "output_type": "stream",
     "text": [
      "Epoch [536/3000]: Train loss: 56.1605, Valid loss: 59.9685\n"
     ]
    },
    {
     "name": "stderr",
     "output_type": "stream",
     "text": [
      "Epoch [537/3000]: 100%|██████████| 9/9 [00:00<00:00, 190.86it/s, loss=46.9]\n"
     ]
    },
    {
     "name": "stdout",
     "output_type": "stream",
     "text": [
      "Epoch [537/3000]: Train loss: 54.8547, Valid loss: 52.9727\n"
     ]
    },
    {
     "name": "stderr",
     "output_type": "stream",
     "text": [
      "Epoch [538/3000]: 100%|██████████| 9/9 [00:00<00:00, 177.37it/s, loss=53.1]\n"
     ]
    },
    {
     "name": "stdout",
     "output_type": "stream",
     "text": [
      "Epoch [538/3000]: Train loss: 55.2459, Valid loss: 60.7257\n"
     ]
    },
    {
     "name": "stderr",
     "output_type": "stream",
     "text": [
      "Epoch [539/3000]: 100%|██████████| 9/9 [00:00<00:00, 211.44it/s, loss=68.5]\n"
     ]
    },
    {
     "name": "stdout",
     "output_type": "stream",
     "text": [
      "Epoch [539/3000]: Train loss: 56.2081, Valid loss: 67.9174\n"
     ]
    },
    {
     "name": "stderr",
     "output_type": "stream",
     "text": [
      "Epoch [540/3000]: 100%|██████████| 9/9 [00:00<00:00, 121.66it/s, loss=56.2]\n"
     ]
    },
    {
     "name": "stdout",
     "output_type": "stream",
     "text": [
      "Epoch [540/3000]: Train loss: 55.4367, Valid loss: 66.3530\n"
     ]
    },
    {
     "name": "stderr",
     "output_type": "stream",
     "text": [
      "Epoch [541/3000]: 100%|██████████| 9/9 [00:00<00:00, 223.34it/s, loss=58.5]\n"
     ]
    },
    {
     "name": "stdout",
     "output_type": "stream",
     "text": [
      "Epoch [541/3000]: Train loss: 55.5822, Valid loss: 64.2523\n"
     ]
    },
    {
     "name": "stderr",
     "output_type": "stream",
     "text": [
      "Epoch [542/3000]: 100%|██████████| 9/9 [00:00<00:00, 220.80it/s, loss=55.9]\n"
     ]
    },
    {
     "name": "stdout",
     "output_type": "stream",
     "text": [
      "Epoch [542/3000]: Train loss: 55.4218, Valid loss: 64.1972\n"
     ]
    },
    {
     "name": "stderr",
     "output_type": "stream",
     "text": [
      "Epoch [543/3000]: 100%|██████████| 9/9 [00:00<00:00, 228.84it/s, loss=61.7]\n"
     ]
    },
    {
     "name": "stdout",
     "output_type": "stream",
     "text": [
      "Epoch [543/3000]: Train loss: 55.7834, Valid loss: 71.9415\n"
     ]
    },
    {
     "name": "stderr",
     "output_type": "stream",
     "text": [
      "Epoch [544/3000]: 100%|██████████| 9/9 [00:00<00:00, 217.95it/s, loss=52.6]\n"
     ]
    },
    {
     "name": "stdout",
     "output_type": "stream",
     "text": [
      "Epoch [544/3000]: Train loss: 55.2143, Valid loss: 68.2424\n"
     ]
    },
    {
     "name": "stderr",
     "output_type": "stream",
     "text": [
      "Epoch [545/3000]: 100%|██████████| 9/9 [00:00<00:00, 237.81it/s, loss=59.5]\n"
     ]
    },
    {
     "name": "stdout",
     "output_type": "stream",
     "text": [
      "Epoch [545/3000]: Train loss: 55.6464, Valid loss: 67.7819\n"
     ]
    },
    {
     "name": "stderr",
     "output_type": "stream",
     "text": [
      "Epoch [546/3000]: 100%|██████████| 9/9 [00:00<00:00, 119.74it/s, loss=63.8]\n"
     ]
    },
    {
     "name": "stdout",
     "output_type": "stream",
     "text": [
      "Epoch [546/3000]: Train loss: 55.9131, Valid loss: 63.0603\n"
     ]
    },
    {
     "name": "stderr",
     "output_type": "stream",
     "text": [
      "Epoch [547/3000]: 100%|██████████| 9/9 [00:00<00:00, 244.30it/s, loss=43.6]\n"
     ]
    },
    {
     "name": "stdout",
     "output_type": "stream",
     "text": [
      "Epoch [547/3000]: Train loss: 54.6538, Valid loss: 67.0960\n"
     ]
    },
    {
     "name": "stderr",
     "output_type": "stream",
     "text": [
      "Epoch [548/3000]: 100%|██████████| 9/9 [00:00<00:00, 227.46it/s, loss=62.4]\n"
     ]
    },
    {
     "name": "stdout",
     "output_type": "stream",
     "text": [
      "Epoch [548/3000]: Train loss: 55.8254, Valid loss: 55.4079\n"
     ]
    },
    {
     "name": "stderr",
     "output_type": "stream",
     "text": [
      "Epoch [549/3000]: 100%|██████████| 9/9 [00:00<00:00, 252.60it/s, loss=58.3]\n"
     ]
    },
    {
     "name": "stdout",
     "output_type": "stream",
     "text": [
      "Epoch [549/3000]: Train loss: 55.5676, Valid loss: 54.5881\n"
     ]
    },
    {
     "name": "stderr",
     "output_type": "stream",
     "text": [
      "Epoch [550/3000]: 100%|██████████| 9/9 [00:00<00:00, 230.11it/s, loss=45.7]\n"
     ]
    },
    {
     "name": "stdout",
     "output_type": "stream",
     "text": [
      "Epoch [550/3000]: Train loss: 54.7822, Valid loss: 57.8311\n"
     ]
    },
    {
     "name": "stderr",
     "output_type": "stream",
     "text": [
      "Epoch [551/3000]: 100%|██████████| 9/9 [00:00<00:00, 222.67it/s, loss=39.6]\n"
     ]
    },
    {
     "name": "stdout",
     "output_type": "stream",
     "text": [
      "Epoch [551/3000]: Train loss: 54.4011, Valid loss: 54.7108\n"
     ]
    },
    {
     "name": "stderr",
     "output_type": "stream",
     "text": [
      "Epoch [552/3000]: 100%|██████████| 9/9 [00:00<00:00, 133.17it/s, loss=44.6]\n"
     ]
    },
    {
     "name": "stdout",
     "output_type": "stream",
     "text": [
      "Epoch [552/3000]: Train loss: 54.7145, Valid loss: 54.1051\n"
     ]
    },
    {
     "name": "stderr",
     "output_type": "stream",
     "text": [
      "Epoch [553/3000]: 100%|██████████| 9/9 [00:00<00:00, 227.42it/s, loss=45.8]\n"
     ]
    },
    {
     "name": "stdout",
     "output_type": "stream",
     "text": [
      "Epoch [553/3000]: Train loss: 54.7863, Valid loss: 65.6551\n"
     ]
    },
    {
     "name": "stderr",
     "output_type": "stream",
     "text": [
      "Epoch [554/3000]: 100%|██████████| 9/9 [00:00<00:00, 240.72it/s, loss=47.2]\n"
     ]
    },
    {
     "name": "stdout",
     "output_type": "stream",
     "text": [
      "Epoch [554/3000]: Train loss: 54.8768, Valid loss: 69.3522\n"
     ]
    },
    {
     "name": "stderr",
     "output_type": "stream",
     "text": [
      "Epoch [555/3000]: 100%|██████████| 9/9 [00:00<00:00, 250.36it/s, loss=60.4]\n"
     ]
    },
    {
     "name": "stdout",
     "output_type": "stream",
     "text": [
      "Epoch [555/3000]: Train loss: 55.6986, Valid loss: 57.9961\n"
     ]
    },
    {
     "name": "stderr",
     "output_type": "stream",
     "text": [
      "Epoch [556/3000]: 100%|██████████| 9/9 [00:00<00:00, 263.22it/s, loss=60.6]\n"
     ]
    },
    {
     "name": "stdout",
     "output_type": "stream",
     "text": [
      "Epoch [556/3000]: Train loss: 55.7111, Valid loss: 72.6457\n"
     ]
    },
    {
     "name": "stderr",
     "output_type": "stream",
     "text": [
      "Epoch [557/3000]: 100%|██████████| 9/9 [00:00<00:00, 261.34it/s, loss=50.9]\n"
     ]
    },
    {
     "name": "stdout",
     "output_type": "stream",
     "text": [
      "Epoch [557/3000]: Train loss: 55.1094, Valid loss: 59.6258\n"
     ]
    },
    {
     "name": "stderr",
     "output_type": "stream",
     "text": [
      "Epoch [558/3000]: 100%|██████████| 9/9 [00:00<00:00, 220.16it/s, loss=44]\n"
     ]
    },
    {
     "name": "stdout",
     "output_type": "stream",
     "text": [
      "Epoch [558/3000]: Train loss: 54.6740, Valid loss: 60.0630\n"
     ]
    },
    {
     "name": "stderr",
     "output_type": "stream",
     "text": [
      "Epoch [559/3000]: 100%|██████████| 9/9 [00:00<00:00, 148.13it/s, loss=56.2]\n"
     ]
    },
    {
     "name": "stdout",
     "output_type": "stream",
     "text": [
      "Epoch [559/3000]: Train loss: 55.4372, Valid loss: 58.5501\n"
     ]
    },
    {
     "name": "stderr",
     "output_type": "stream",
     "text": [
      "Epoch [560/3000]: 100%|██████████| 9/9 [00:00<00:00, 196.24it/s, loss=49]\n"
     ]
    },
    {
     "name": "stdout",
     "output_type": "stream",
     "text": [
      "Epoch [560/3000]: Train loss: 54.9874, Valid loss: 58.4453\n"
     ]
    },
    {
     "name": "stderr",
     "output_type": "stream",
     "text": [
      "Epoch [561/3000]: 100%|██████████| 9/9 [00:00<00:00, 240.17it/s, loss=50.6]\n"
     ]
    },
    {
     "name": "stdout",
     "output_type": "stream",
     "text": [
      "Epoch [561/3000]: Train loss: 55.0900, Valid loss: 54.7542\n"
     ]
    },
    {
     "name": "stderr",
     "output_type": "stream",
     "text": [
      "Epoch [562/3000]: 100%|██████████| 9/9 [00:00<00:00, 223.59it/s, loss=56]\n"
     ]
    },
    {
     "name": "stdout",
     "output_type": "stream",
     "text": [
      "Epoch [562/3000]: Train loss: 55.4264, Valid loss: 69.4451\n"
     ]
    },
    {
     "name": "stderr",
     "output_type": "stream",
     "text": [
      "Epoch [563/3000]: 100%|██████████| 9/9 [00:00<00:00, 203.31it/s, loss=61.3]\n"
     ]
    },
    {
     "name": "stdout",
     "output_type": "stream",
     "text": [
      "Epoch [563/3000]: Train loss: 55.7584, Valid loss: 64.4755\n"
     ]
    },
    {
     "name": "stderr",
     "output_type": "stream",
     "text": [
      "Epoch [564/3000]: 100%|██████████| 9/9 [00:00<00:00, 216.47it/s, loss=43.4]\n"
     ]
    },
    {
     "name": "stdout",
     "output_type": "stream",
     "text": [
      "Epoch [564/3000]: Train loss: 54.6366, Valid loss: 57.4865\n"
     ]
    },
    {
     "name": "stderr",
     "output_type": "stream",
     "text": [
      "Epoch [565/3000]: 100%|██████████| 9/9 [00:00<00:00, 254.28it/s, loss=45.8]\n"
     ]
    },
    {
     "name": "stdout",
     "output_type": "stream",
     "text": [
      "Epoch [565/3000]: Train loss: 54.7894, Valid loss: 60.5413\n"
     ]
    },
    {
     "name": "stderr",
     "output_type": "stream",
     "text": [
      "Epoch [566/3000]: 100%|██████████| 9/9 [00:00<00:00, 234.26it/s, loss=56.1]\n"
     ]
    },
    {
     "name": "stdout",
     "output_type": "stream",
     "text": [
      "Epoch [566/3000]: Train loss: 55.4305, Valid loss: 59.6982\n"
     ]
    },
    {
     "name": "stderr",
     "output_type": "stream",
     "text": [
      "Epoch [567/3000]: 100%|██████████| 9/9 [00:00<00:00, 237.35it/s, loss=47.7]\n"
     ]
    },
    {
     "name": "stdout",
     "output_type": "stream",
     "text": [
      "Epoch [567/3000]: Train loss: 54.9042, Valid loss: 67.0513\n"
     ]
    },
    {
     "name": "stderr",
     "output_type": "stream",
     "text": [
      "Epoch [568/3000]: 100%|██████████| 9/9 [00:00<00:00, 200.76it/s, loss=43.6]\n"
     ]
    },
    {
     "name": "stdout",
     "output_type": "stream",
     "text": [
      "Epoch [568/3000]: Train loss: 54.6527, Valid loss: 61.2767\n"
     ]
    },
    {
     "name": "stderr",
     "output_type": "stream",
     "text": [
      "Epoch [569/3000]: 100%|██████████| 9/9 [00:00<00:00, 131.61it/s, loss=54.9]\n"
     ]
    },
    {
     "name": "stdout",
     "output_type": "stream",
     "text": [
      "Epoch [569/3000]: Train loss: 55.3583, Valid loss: 57.0530\n"
     ]
    },
    {
     "name": "stderr",
     "output_type": "stream",
     "text": [
      "Epoch [570/3000]: 100%|██████████| 9/9 [00:00<00:00, 181.99it/s, loss=55.3]\n"
     ]
    },
    {
     "name": "stdout",
     "output_type": "stream",
     "text": [
      "Epoch [570/3000]: Train loss: 55.3807, Valid loss: 54.4893\n"
     ]
    },
    {
     "name": "stderr",
     "output_type": "stream",
     "text": [
      "Epoch [571/3000]: 100%|██████████| 9/9 [00:00<00:00, 223.76it/s, loss=47.6]\n"
     ]
    },
    {
     "name": "stdout",
     "output_type": "stream",
     "text": [
      "Epoch [571/3000]: Train loss: 54.9008, Valid loss: 66.7786\n"
     ]
    },
    {
     "name": "stderr",
     "output_type": "stream",
     "text": [
      "Epoch [572/3000]: 100%|██████████| 9/9 [00:00<00:00, 250.15it/s, loss=55.9]\n"
     ]
    },
    {
     "name": "stdout",
     "output_type": "stream",
     "text": [
      "Epoch [572/3000]: Train loss: 55.4194, Valid loss: 57.0836\n"
     ]
    },
    {
     "name": "stderr",
     "output_type": "stream",
     "text": [
      "Epoch [573/3000]: 100%|██████████| 9/9 [00:00<00:00, 210.22it/s, loss=61.3]\n"
     ]
    },
    {
     "name": "stdout",
     "output_type": "stream",
     "text": [
      "Epoch [573/3000]: Train loss: 55.7565, Valid loss: 54.3325\n"
     ]
    },
    {
     "name": "stderr",
     "output_type": "stream",
     "text": [
      "Epoch [574/3000]: 100%|██████████| 9/9 [00:00<00:00, 223.53it/s, loss=38.6]\n"
     ]
    },
    {
     "name": "stdout",
     "output_type": "stream",
     "text": [
      "Epoch [574/3000]: Train loss: 54.3381, Valid loss: 52.2379\n"
     ]
    },
    {
     "name": "stderr",
     "output_type": "stream",
     "text": [
      "Epoch [575/3000]: 100%|██████████| 9/9 [00:00<00:00, 289.36it/s, loss=65]\n"
     ]
    },
    {
     "name": "stdout",
     "output_type": "stream",
     "text": [
      "Epoch [575/3000]: Train loss: 55.9857, Valid loss: 51.1821\n"
     ]
    },
    {
     "name": "stderr",
     "output_type": "stream",
     "text": [
      "Epoch [576/3000]: 100%|██████████| 9/9 [00:00<00:00, 255.70it/s, loss=53.3]\n"
     ]
    },
    {
     "name": "stdout",
     "output_type": "stream",
     "text": [
      "Epoch [576/3000]: Train loss: 55.2594, Valid loss: 66.8151\n"
     ]
    },
    {
     "name": "stderr",
     "output_type": "stream",
     "text": [
      "Epoch [577/3000]: 100%|██████████| 9/9 [00:00<00:00, 167.15it/s, loss=46.3]\n"
     ]
    },
    {
     "name": "stdout",
     "output_type": "stream",
     "text": [
      "Epoch [577/3000]: Train loss: 54.8187, Valid loss: 70.0208\n"
     ]
    },
    {
     "name": "stderr",
     "output_type": "stream",
     "text": [
      "Epoch [578/3000]: 100%|██████████| 9/9 [00:00<00:00, 249.53it/s, loss=42.3]\n"
     ]
    },
    {
     "name": "stdout",
     "output_type": "stream",
     "text": [
      "Epoch [578/3000]: Train loss: 54.5685, Valid loss: 56.8343\n"
     ]
    },
    {
     "name": "stderr",
     "output_type": "stream",
     "text": [
      "Epoch [579/3000]: 100%|██████████| 9/9 [00:00<00:00, 260.64it/s, loss=50.5]\n"
     ]
    },
    {
     "name": "stdout",
     "output_type": "stream",
     "text": [
      "Epoch [579/3000]: Train loss: 55.0810, Valid loss: 63.1343\n"
     ]
    },
    {
     "name": "stderr",
     "output_type": "stream",
     "text": [
      "Epoch [580/3000]: 100%|██████████| 9/9 [00:00<00:00, 238.86it/s, loss=70.3]\n"
     ]
    },
    {
     "name": "stdout",
     "output_type": "stream",
     "text": [
      "Epoch [580/3000]: Train loss: 56.3212, Valid loss: 65.5282\n"
     ]
    },
    {
     "name": "stderr",
     "output_type": "stream",
     "text": [
      "Epoch [581/3000]: 100%|██████████| 9/9 [00:00<00:00, 207.36it/s, loss=56]\n"
     ]
    },
    {
     "name": "stdout",
     "output_type": "stream",
     "text": [
      "Epoch [581/3000]: Train loss: 55.4273, Valid loss: 64.1874\n"
     ]
    },
    {
     "name": "stderr",
     "output_type": "stream",
     "text": [
      "Epoch [582/3000]: 100%|██████████| 9/9 [00:00<00:00, 221.63it/s, loss=53.8]\n"
     ]
    },
    {
     "name": "stdout",
     "output_type": "stream",
     "text": [
      "Epoch [582/3000]: Train loss: 55.2863, Valid loss: 51.3011\n"
     ]
    },
    {
     "name": "stderr",
     "output_type": "stream",
     "text": [
      "Epoch [583/3000]: 100%|██████████| 9/9 [00:00<00:00, 135.47it/s, loss=62.4]\n"
     ]
    },
    {
     "name": "stdout",
     "output_type": "stream",
     "text": [
      "Epoch [583/3000]: Train loss: 55.8252, Valid loss: 54.6737\n"
     ]
    },
    {
     "name": "stderr",
     "output_type": "stream",
     "text": [
      "Epoch [584/3000]: 100%|██████████| 9/9 [00:00<00:00, 235.53it/s, loss=55.1]\n"
     ]
    },
    {
     "name": "stdout",
     "output_type": "stream",
     "text": [
      "Epoch [584/3000]: Train loss: 55.3719, Valid loss: 54.4653\n"
     ]
    },
    {
     "name": "stderr",
     "output_type": "stream",
     "text": [
      "Epoch [585/3000]: 100%|██████████| 9/9 [00:00<00:00, 233.17it/s, loss=59.7]\n"
     ]
    },
    {
     "name": "stdout",
     "output_type": "stream",
     "text": [
      "Epoch [585/3000]: Train loss: 55.6584, Valid loss: 58.3369\n"
     ]
    },
    {
     "name": "stderr",
     "output_type": "stream",
     "text": [
      "Epoch [586/3000]: 100%|██████████| 9/9 [00:00<00:00, 217.21it/s, loss=50.1]\n"
     ]
    },
    {
     "name": "stdout",
     "output_type": "stream",
     "text": [
      "Epoch [586/3000]: Train loss: 55.0567, Valid loss: 55.1324\n"
     ]
    },
    {
     "name": "stderr",
     "output_type": "stream",
     "text": [
      "Epoch [587/3000]: 100%|██████████| 9/9 [00:00<00:00, 221.28it/s, loss=57.5]\n"
     ]
    },
    {
     "name": "stdout",
     "output_type": "stream",
     "text": [
      "Epoch [587/3000]: Train loss: 55.5216, Valid loss: 65.5974\n"
     ]
    },
    {
     "name": "stderr",
     "output_type": "stream",
     "text": [
      "Epoch [588/3000]: 100%|██████████| 9/9 [00:00<00:00, 230.22it/s, loss=62.8]\n"
     ]
    },
    {
     "name": "stdout",
     "output_type": "stream",
     "text": [
      "Epoch [588/3000]: Train loss: 55.8510, Valid loss: 52.5795\n"
     ]
    },
    {
     "name": "stderr",
     "output_type": "stream",
     "text": [
      "Epoch [589/3000]: 100%|██████████| 9/9 [00:00<00:00, 205.42it/s, loss=72.1]\n"
     ]
    },
    {
     "name": "stdout",
     "output_type": "stream",
     "text": [
      "Epoch [589/3000]: Train loss: 56.4300, Valid loss: 66.0342\n"
     ]
    },
    {
     "name": "stderr",
     "output_type": "stream",
     "text": [
      "Epoch [590/3000]: 100%|██████████| 9/9 [00:00<00:00, 223.67it/s, loss=58.5]\n"
     ]
    },
    {
     "name": "stdout",
     "output_type": "stream",
     "text": [
      "Epoch [590/3000]: Train loss: 55.5819, Valid loss: 54.5887\n"
     ]
    },
    {
     "name": "stderr",
     "output_type": "stream",
     "text": [
      "Epoch [591/3000]: 100%|██████████| 9/9 [00:00<00:00, 217.44it/s, loss=49.7]\n"
     ]
    },
    {
     "name": "stdout",
     "output_type": "stream",
     "text": [
      "Epoch [591/3000]: Train loss: 55.0324, Valid loss: 53.3950\n"
     ]
    },
    {
     "name": "stderr",
     "output_type": "stream",
     "text": [
      "Epoch [592/3000]: 100%|██████████| 9/9 [00:00<00:00, 253.96it/s, loss=58.1]\n"
     ]
    },
    {
     "name": "stdout",
     "output_type": "stream",
     "text": [
      "Epoch [592/3000]: Train loss: 55.5553, Valid loss: 59.4488\n"
     ]
    },
    {
     "name": "stderr",
     "output_type": "stream",
     "text": [
      "Epoch [593/3000]: 100%|██████████| 9/9 [00:00<00:00, 214.63it/s, loss=47.2]\n"
     ]
    },
    {
     "name": "stdout",
     "output_type": "stream",
     "text": [
      "Epoch [593/3000]: Train loss: 54.8786, Valid loss: 63.4439\n"
     ]
    },
    {
     "name": "stderr",
     "output_type": "stream",
     "text": [
      "Epoch [594/3000]: 100%|██████████| 9/9 [00:00<00:00, 297.46it/s, loss=49.3]\n"
     ]
    },
    {
     "name": "stdout",
     "output_type": "stream",
     "text": [
      "Epoch [594/3000]: Train loss: 55.0093, Valid loss: 57.6404\n"
     ]
    },
    {
     "name": "stderr",
     "output_type": "stream",
     "text": [
      "Epoch [595/3000]: 100%|██████████| 9/9 [00:00<00:00, 208.94it/s, loss=33.8]\n"
     ]
    },
    {
     "name": "stdout",
     "output_type": "stream",
     "text": [
      "Epoch [595/3000]: Train loss: 54.0359, Valid loss: 56.3947\n"
     ]
    },
    {
     "name": "stderr",
     "output_type": "stream",
     "text": [
      "Epoch [596/3000]: 100%|██████████| 9/9 [00:00<00:00, 148.94it/s, loss=62]\n"
     ]
    },
    {
     "name": "stdout",
     "output_type": "stream",
     "text": [
      "Epoch [596/3000]: Train loss: 55.7990, Valid loss: 61.5878\n"
     ]
    },
    {
     "name": "stderr",
     "output_type": "stream",
     "text": [
      "Epoch [597/3000]: 100%|██████████| 9/9 [00:00<00:00, 208.25it/s, loss=50.9]\n"
     ]
    },
    {
     "name": "stdout",
     "output_type": "stream",
     "text": [
      "Epoch [597/3000]: Train loss: 55.1097, Valid loss: 62.4596\n"
     ]
    },
    {
     "name": "stderr",
     "output_type": "stream",
     "text": [
      "Epoch [598/3000]: 100%|██████████| 9/9 [00:00<00:00, 233.35it/s, loss=42.2]\n"
     ]
    },
    {
     "name": "stdout",
     "output_type": "stream",
     "text": [
      "Epoch [598/3000]: Train loss: 54.5601, Valid loss: 53.9307\n"
     ]
    },
    {
     "name": "stderr",
     "output_type": "stream",
     "text": [
      "Epoch [599/3000]: 100%|██████████| 9/9 [00:00<00:00, 264.62it/s, loss=48.3]\n"
     ]
    },
    {
     "name": "stdout",
     "output_type": "stream",
     "text": [
      "Epoch [599/3000]: Train loss: 54.9439, Valid loss: 63.3092\n"
     ]
    },
    {
     "name": "stderr",
     "output_type": "stream",
     "text": [
      "Epoch [600/3000]: 100%|██████████| 9/9 [00:00<00:00, 259.68it/s, loss=56.8]\n"
     ]
    },
    {
     "name": "stdout",
     "output_type": "stream",
     "text": [
      "Epoch [600/3000]: Train loss: 55.4760, Valid loss: 65.3506\n"
     ]
    },
    {
     "name": "stderr",
     "output_type": "stream",
     "text": [
      "Epoch [601/3000]: 100%|██████████| 9/9 [00:00<00:00, 242.48it/s, loss=46.9]\n"
     ]
    },
    {
     "name": "stdout",
     "output_type": "stream",
     "text": [
      "Epoch [601/3000]: Train loss: 54.8541, Valid loss: 53.5180\n"
     ]
    },
    {
     "name": "stderr",
     "output_type": "stream",
     "text": [
      "Epoch [602/3000]: 100%|██████████| 9/9 [00:00<00:00, 233.13it/s, loss=75.4]\n"
     ]
    },
    {
     "name": "stdout",
     "output_type": "stream",
     "text": [
      "Epoch [602/3000]: Train loss: 56.6385, Valid loss: 61.1902\n"
     ]
    },
    {
     "name": "stderr",
     "output_type": "stream",
     "text": [
      "Epoch [603/3000]: 100%|██████████| 9/9 [00:00<00:00, 254.95it/s, loss=59.4]\n"
     ]
    },
    {
     "name": "stdout",
     "output_type": "stream",
     "text": [
      "Epoch [603/3000]: Train loss: 55.6379, Valid loss: 63.8325\n"
     ]
    },
    {
     "name": "stderr",
     "output_type": "stream",
     "text": [
      "Epoch [604/3000]: 100%|██████████| 9/9 [00:00<00:00, 132.48it/s, loss=51.9]\n"
     ]
    },
    {
     "name": "stdout",
     "output_type": "stream",
     "text": [
      "Epoch [604/3000]: Train loss: 55.1714, Valid loss: 54.4695\n"
     ]
    },
    {
     "name": "stderr",
     "output_type": "stream",
     "text": [
      "Epoch [605/3000]: 100%|██████████| 9/9 [00:00<00:00, 209.33it/s, loss=59.5]\n"
     ]
    },
    {
     "name": "stdout",
     "output_type": "stream",
     "text": [
      "Epoch [605/3000]: Train loss: 55.6419, Valid loss: 61.1619\n"
     ]
    },
    {
     "name": "stderr",
     "output_type": "stream",
     "text": [
      "Epoch [606/3000]: 100%|██████████| 9/9 [00:00<00:00, 280.24it/s, loss=57.3]\n"
     ]
    },
    {
     "name": "stdout",
     "output_type": "stream",
     "text": [
      "Epoch [606/3000]: Train loss: 55.5064, Valid loss: 64.7615\n"
     ]
    },
    {
     "name": "stderr",
     "output_type": "stream",
     "text": [
      "Epoch [607/3000]: 100%|██████████| 9/9 [00:00<00:00, 272.82it/s, loss=56.7]\n"
     ]
    },
    {
     "name": "stdout",
     "output_type": "stream",
     "text": [
      "Epoch [607/3000]: Train loss: 55.4667, Valid loss: 64.0295\n"
     ]
    },
    {
     "name": "stderr",
     "output_type": "stream",
     "text": [
      "Epoch [608/3000]: 100%|██████████| 9/9 [00:00<00:00, 218.87it/s, loss=44.1]\n"
     ]
    },
    {
     "name": "stdout",
     "output_type": "stream",
     "text": [
      "Epoch [608/3000]: Train loss: 54.6804, Valid loss: 55.3623\n"
     ]
    },
    {
     "name": "stderr",
     "output_type": "stream",
     "text": [
      "Epoch [609/3000]: 100%|██████████| 9/9 [00:00<00:00, 240.54it/s, loss=45.6]\n"
     ]
    },
    {
     "name": "stdout",
     "output_type": "stream",
     "text": [
      "Epoch [609/3000]: Train loss: 54.7763, Valid loss: 66.4736\n"
     ]
    },
    {
     "name": "stderr",
     "output_type": "stream",
     "text": [
      "Epoch [610/3000]: 100%|██████████| 9/9 [00:00<00:00, 208.90it/s, loss=54.6]\n"
     ]
    },
    {
     "name": "stdout",
     "output_type": "stream",
     "text": [
      "Epoch [610/3000]: Train loss: 55.3389, Valid loss: 57.3133\n"
     ]
    },
    {
     "name": "stderr",
     "output_type": "stream",
     "text": [
      "Epoch [611/3000]: 100%|██████████| 9/9 [00:00<00:00, 142.81it/s, loss=48.9]\n"
     ]
    },
    {
     "name": "stdout",
     "output_type": "stream",
     "text": [
      "Epoch [611/3000]: Train loss: 54.9829, Valid loss: 62.2382\n"
     ]
    },
    {
     "name": "stderr",
     "output_type": "stream",
     "text": [
      "Epoch [612/3000]: 100%|██████████| 9/9 [00:00<00:00, 215.95it/s, loss=49.7]\n"
     ]
    },
    {
     "name": "stdout",
     "output_type": "stream",
     "text": [
      "Epoch [612/3000]: Train loss: 55.0313, Valid loss: 76.5041\n"
     ]
    },
    {
     "name": "stderr",
     "output_type": "stream",
     "text": [
      "Epoch [613/3000]: 100%|██████████| 9/9 [00:00<00:00, 212.62it/s, loss=72.4]\n"
     ]
    },
    {
     "name": "stdout",
     "output_type": "stream",
     "text": [
      "Epoch [613/3000]: Train loss: 56.4488, Valid loss: 55.5227\n"
     ]
    },
    {
     "name": "stderr",
     "output_type": "stream",
     "text": [
      "Epoch [614/3000]: 100%|██████████| 9/9 [00:00<00:00, 228.39it/s, loss=48.8]\n"
     ]
    },
    {
     "name": "stdout",
     "output_type": "stream",
     "text": [
      "Epoch [614/3000]: Train loss: 54.9786, Valid loss: 57.7271\n"
     ]
    },
    {
     "name": "stderr",
     "output_type": "stream",
     "text": [
      "Epoch [615/3000]: 100%|██████████| 9/9 [00:00<00:00, 237.59it/s, loss=54.3]\n"
     ]
    },
    {
     "name": "stdout",
     "output_type": "stream",
     "text": [
      "Epoch [615/3000]: Train loss: 55.3178, Valid loss: 65.8533\n"
     ]
    },
    {
     "name": "stderr",
     "output_type": "stream",
     "text": [
      "Epoch [616/3000]: 100%|██████████| 9/9 [00:00<00:00, 256.35it/s, loss=57.3]\n"
     ]
    },
    {
     "name": "stdout",
     "output_type": "stream",
     "text": [
      "Epoch [616/3000]: Train loss: 55.5095, Valid loss: 63.1169\n"
     ]
    },
    {
     "name": "stderr",
     "output_type": "stream",
     "text": [
      "Epoch [617/3000]: 100%|██████████| 9/9 [00:00<00:00, 228.34it/s, loss=58.2]\n"
     ]
    },
    {
     "name": "stdout",
     "output_type": "stream",
     "text": [
      "Epoch [617/3000]: Train loss: 55.5604, Valid loss: 67.7747\n"
     ]
    },
    {
     "name": "stderr",
     "output_type": "stream",
     "text": [
      "Epoch [618/3000]: 100%|██████████| 9/9 [00:00<00:00, 147.26it/s, loss=40.3]\n"
     ]
    },
    {
     "name": "stdout",
     "output_type": "stream",
     "text": [
      "Epoch [618/3000]: Train loss: 54.4464, Valid loss: 57.8183\n"
     ]
    },
    {
     "name": "stderr",
     "output_type": "stream",
     "text": [
      "Epoch [619/3000]: 100%|██████████| 9/9 [00:00<00:00, 186.40it/s, loss=51.4]\n"
     ]
    },
    {
     "name": "stdout",
     "output_type": "stream",
     "text": [
      "Epoch [619/3000]: Train loss: 55.1386, Valid loss: 63.2856\n"
     ]
    },
    {
     "name": "stderr",
     "output_type": "stream",
     "text": [
      "Epoch [620/3000]: 100%|██████████| 9/9 [00:00<00:00, 233.93it/s, loss=47.6]\n"
     ]
    },
    {
     "name": "stdout",
     "output_type": "stream",
     "text": [
      "Epoch [620/3000]: Train loss: 54.9006, Valid loss: 54.7808\n"
     ]
    },
    {
     "name": "stderr",
     "output_type": "stream",
     "text": [
      "Epoch [621/3000]: 100%|██████████| 9/9 [00:00<00:00, 218.60it/s, loss=37.4]\n"
     ]
    },
    {
     "name": "stdout",
     "output_type": "stream",
     "text": [
      "Epoch [621/3000]: Train loss: 54.2607, Valid loss: 59.5458\n"
     ]
    },
    {
     "name": "stderr",
     "output_type": "stream",
     "text": [
      "Epoch [622/3000]: 100%|██████████| 9/9 [00:00<00:00, 260.83it/s, loss=73.4]\n"
     ]
    },
    {
     "name": "stdout",
     "output_type": "stream",
     "text": [
      "Epoch [622/3000]: Train loss: 56.5149, Valid loss: 63.4474\n"
     ]
    },
    {
     "name": "stderr",
     "output_type": "stream",
     "text": [
      "Epoch [623/3000]: 100%|██████████| 9/9 [00:00<00:00, 217.25it/s, loss=64.1]"
     ]
    },
    {
     "name": "stdout",
     "output_type": "stream",
     "text": [
      "Epoch [623/3000]: Train loss: 55.9304, Valid loss: 63.2722"
     ]
    },
    {
     "name": "stderr",
     "output_type": "stream",
     "text": [
      "\n"
     ]
    },
    {
     "name": "stdout",
     "output_type": "stream",
     "text": [
      "\n"
     ]
    },
    {
     "name": "stderr",
     "output_type": "stream",
     "text": [
      "Epoch [624/3000]: 100%|██████████| 9/9 [00:00<00:00, 236.10it/s, loss=39.5]\n"
     ]
    },
    {
     "name": "stdout",
     "output_type": "stream",
     "text": [
      "Epoch [624/3000]: Train loss: 54.3963, Valid loss: 63.0795\n"
     ]
    },
    {
     "name": "stderr",
     "output_type": "stream",
     "text": [
      "Epoch [625/3000]: 100%|██████████| 9/9 [00:00<00:00, 124.74it/s, loss=61.8]\n"
     ]
    },
    {
     "name": "stdout",
     "output_type": "stream",
     "text": [
      "Epoch [625/3000]: Train loss: 55.7857, Valid loss: 64.7612\n"
     ]
    },
    {
     "name": "stderr",
     "output_type": "stream",
     "text": [
      "Epoch [626/3000]: 100%|██████████| 9/9 [00:00<00:00, 241.10it/s, loss=56.4]\n"
     ]
    },
    {
     "name": "stdout",
     "output_type": "stream",
     "text": [
      "Epoch [626/3000]: Train loss: 55.4505, Valid loss: 64.9712\n"
     ]
    },
    {
     "name": "stderr",
     "output_type": "stream",
     "text": [
      "Epoch [627/3000]: 100%|██████████| 9/9 [00:00<00:00, 240.13it/s, loss=40.9]\n"
     ]
    },
    {
     "name": "stdout",
     "output_type": "stream",
     "text": [
      "Epoch [627/3000]: Train loss: 54.4831, Valid loss: 68.6186\n"
     ]
    },
    {
     "name": "stderr",
     "output_type": "stream",
     "text": [
      "Epoch [628/3000]: 100%|██████████| 9/9 [00:00<00:00, 276.10it/s, loss=54.4]\n"
     ]
    },
    {
     "name": "stdout",
     "output_type": "stream",
     "text": [
      "Epoch [628/3000]: Train loss: 55.3253, Valid loss: 54.1835\n"
     ]
    },
    {
     "name": "stderr",
     "output_type": "stream",
     "text": [
      "Epoch [629/3000]: 100%|██████████| 9/9 [00:00<00:00, 256.34it/s, loss=49.4]"
     ]
    },
    {
     "name": "stdout",
     "output_type": "stream",
     "text": [
      "Epoch [629/3000]: Train loss: 55.0110, Valid loss: 58.4669"
     ]
    },
    {
     "name": "stderr",
     "output_type": "stream",
     "text": [
      "\n"
     ]
    },
    {
     "name": "stdout",
     "output_type": "stream",
     "text": [
      "\n"
     ]
    },
    {
     "name": "stderr",
     "output_type": "stream",
     "text": [
      "Epoch [630/3000]: 100%|██████████| 9/9 [00:00<00:00, 219.91it/s, loss=61.2]\n"
     ]
    },
    {
     "name": "stdout",
     "output_type": "stream",
     "text": [
      "Epoch [630/3000]: Train loss: 55.7493, Valid loss: 68.1887\n"
     ]
    },
    {
     "name": "stderr",
     "output_type": "stream",
     "text": [
      "Epoch [631/3000]: 100%|██████████| 9/9 [00:00<00:00, 120.92it/s, loss=49.5]\n"
     ]
    },
    {
     "name": "stdout",
     "output_type": "stream",
     "text": [
      "Epoch [631/3000]: Train loss: 55.0193, Valid loss: 52.1994\n"
     ]
    },
    {
     "name": "stderr",
     "output_type": "stream",
     "text": [
      "Epoch [632/3000]: 100%|██████████| 9/9 [00:00<00:00, 214.73it/s, loss=55.7]\n"
     ]
    },
    {
     "name": "stdout",
     "output_type": "stream",
     "text": [
      "Epoch [632/3000]: Train loss: 55.4089, Valid loss: 57.8146\n"
     ]
    },
    {
     "name": "stderr",
     "output_type": "stream",
     "text": [
      "Epoch [633/3000]: 100%|██████████| 9/9 [00:00<00:00, 252.58it/s, loss=71.5]\n"
     ]
    },
    {
     "name": "stdout",
     "output_type": "stream",
     "text": [
      "Epoch [633/3000]: Train loss: 56.3932, Valid loss: 57.4937\n"
     ]
    },
    {
     "name": "stderr",
     "output_type": "stream",
     "text": [
      "Epoch [634/3000]: 100%|██████████| 9/9 [00:00<00:00, 248.27it/s, loss=49.2]\n"
     ]
    },
    {
     "name": "stdout",
     "output_type": "stream",
     "text": [
      "Epoch [634/3000]: Train loss: 55.0003, Valid loss: 53.8722\n"
     ]
    },
    {
     "name": "stderr",
     "output_type": "stream",
     "text": [
      "Epoch [635/3000]: 100%|██████████| 9/9 [00:00<00:00, 56.32it/s, loss=48]  \n"
     ]
    },
    {
     "name": "stdout",
     "output_type": "stream",
     "text": [
      "Epoch [635/3000]: Train loss: 54.9261, Valid loss: 58.0005\n"
     ]
    },
    {
     "name": "stderr",
     "output_type": "stream",
     "text": [
      "Epoch [636/3000]: 100%|██████████| 9/9 [00:00<00:00, 236.21it/s, loss=54.8]\n"
     ]
    },
    {
     "name": "stdout",
     "output_type": "stream",
     "text": [
      "Epoch [636/3000]: Train loss: 55.3530, Valid loss: 67.2014\n"
     ]
    },
    {
     "name": "stderr",
     "output_type": "stream",
     "text": [
      "Epoch [637/3000]: 100%|██████████| 9/9 [00:00<00:00, 246.06it/s, loss=45.6]\n"
     ]
    },
    {
     "name": "stdout",
     "output_type": "stream",
     "text": [
      "Epoch [637/3000]: Train loss: 54.7736, Valid loss: 67.8695\n"
     ]
    },
    {
     "name": "stderr",
     "output_type": "stream",
     "text": [
      "Epoch [638/3000]: 100%|██████████| 9/9 [00:00<00:00, 140.90it/s, loss=54.3]\n"
     ]
    },
    {
     "name": "stdout",
     "output_type": "stream",
     "text": [
      "Epoch [638/3000]: Train loss: 55.3216, Valid loss: 60.1783\n"
     ]
    },
    {
     "name": "stderr",
     "output_type": "stream",
     "text": [
      "Epoch [639/3000]: 100%|██████████| 9/9 [00:00<00:00, 174.39it/s, loss=62]\n"
     ]
    },
    {
     "name": "stdout",
     "output_type": "stream",
     "text": [
      "Epoch [639/3000]: Train loss: 55.8033, Valid loss: 54.2164\n"
     ]
    },
    {
     "name": "stderr",
     "output_type": "stream",
     "text": [
      "Epoch [640/3000]: 100%|██████████| 9/9 [00:00<00:00, 237.40it/s, loss=49.7]\n"
     ]
    },
    {
     "name": "stdout",
     "output_type": "stream",
     "text": [
      "Epoch [640/3000]: Train loss: 55.0319, Valid loss: 78.1031\n"
     ]
    },
    {
     "name": "stderr",
     "output_type": "stream",
     "text": [
      "Epoch [641/3000]: 100%|██████████| 9/9 [00:00<00:00, 238.19it/s, loss=45.5]\n"
     ]
    },
    {
     "name": "stdout",
     "output_type": "stream",
     "text": [
      "Epoch [641/3000]: Train loss: 54.7683, Valid loss: 61.1685\n"
     ]
    },
    {
     "name": "stderr",
     "output_type": "stream",
     "text": [
      "Epoch [642/3000]: 100%|██████████| 9/9 [00:00<00:00, 223.95it/s, loss=60.7]\n"
     ]
    },
    {
     "name": "stdout",
     "output_type": "stream",
     "text": [
      "Epoch [642/3000]: Train loss: 55.7182, Valid loss: 54.9906\n"
     ]
    },
    {
     "name": "stderr",
     "output_type": "stream",
     "text": [
      "Epoch [643/3000]: 100%|██████████| 9/9 [00:00<00:00, 203.08it/s, loss=34.8]\n"
     ]
    },
    {
     "name": "stdout",
     "output_type": "stream",
     "text": [
      "Epoch [643/3000]: Train loss: 54.1017, Valid loss: 52.6234\n"
     ]
    },
    {
     "name": "stderr",
     "output_type": "stream",
     "text": [
      "Epoch [644/3000]: 100%|██████████| 9/9 [00:00<00:00, 225.91it/s, loss=56.8]\n"
     ]
    },
    {
     "name": "stdout",
     "output_type": "stream",
     "text": [
      "Epoch [644/3000]: Train loss: 55.4774, Valid loss: 63.5333\n"
     ]
    },
    {
     "name": "stderr",
     "output_type": "stream",
     "text": [
      "Epoch [645/3000]: 100%|██████████| 9/9 [00:00<00:00, 160.32it/s, loss=49.7]\n"
     ]
    },
    {
     "name": "stdout",
     "output_type": "stream",
     "text": [
      "Epoch [645/3000]: Train loss: 55.0303, Valid loss: 76.7401\n"
     ]
    },
    {
     "name": "stderr",
     "output_type": "stream",
     "text": [
      "Epoch [646/3000]: 100%|██████████| 9/9 [00:00<00:00, 259.90it/s, loss=57.9]\n"
     ]
    },
    {
     "name": "stdout",
     "output_type": "stream",
     "text": [
      "Epoch [646/3000]: Train loss: 55.5469, Valid loss: 64.2586\n"
     ]
    },
    {
     "name": "stderr",
     "output_type": "stream",
     "text": [
      "Epoch [647/3000]: 100%|██████████| 9/9 [00:00<00:00, 231.04it/s, loss=67]\n"
     ]
    },
    {
     "name": "stdout",
     "output_type": "stream",
     "text": [
      "Epoch [647/3000]: Train loss: 56.1157, Valid loss: 66.7903\n"
     ]
    },
    {
     "name": "stderr",
     "output_type": "stream",
     "text": [
      "Epoch [648/3000]: 100%|██████████| 9/9 [00:00<00:00, 214.06it/s, loss=56.4]\n"
     ]
    },
    {
     "name": "stdout",
     "output_type": "stream",
     "text": [
      "Epoch [648/3000]: Train loss: 55.4521, Valid loss: 64.2713\n"
     ]
    },
    {
     "name": "stderr",
     "output_type": "stream",
     "text": [
      "Epoch [649/3000]: 100%|██████████| 9/9 [00:00<00:00, 220.06it/s, loss=77.8]\n"
     ]
    },
    {
     "name": "stdout",
     "output_type": "stream",
     "text": [
      "Epoch [649/3000]: Train loss: 56.7877, Valid loss: 60.2899\n"
     ]
    },
    {
     "name": "stderr",
     "output_type": "stream",
     "text": [
      "Epoch [650/3000]: 100%|██████████| 9/9 [00:00<00:00, 249.41it/s, loss=39.1]\n"
     ]
    },
    {
     "name": "stdout",
     "output_type": "stream",
     "text": [
      "Epoch [650/3000]: Train loss: 54.3715, Valid loss: 51.2219\n"
     ]
    },
    {
     "name": "stderr",
     "output_type": "stream",
     "text": [
      "Epoch [651/3000]: 100%|██████████| 9/9 [00:00<00:00, 243.05it/s, loss=71.6]\n"
     ]
    },
    {
     "name": "stdout",
     "output_type": "stream",
     "text": [
      "Epoch [651/3000]: Train loss: 56.3980, Valid loss: 60.2876\n"
     ]
    },
    {
     "name": "stderr",
     "output_type": "stream",
     "text": [
      "Epoch [652/3000]: 100%|██████████| 9/9 [00:00<00:00, 292.11it/s, loss=54.1]\n"
     ]
    },
    {
     "name": "stdout",
     "output_type": "stream",
     "text": [
      "Epoch [652/3000]: Train loss: 55.3091, Valid loss: 59.1324\n"
     ]
    },
    {
     "name": "stderr",
     "output_type": "stream",
     "text": [
      "Epoch [653/3000]: 100%|██████████| 9/9 [00:00<00:00, 137.21it/s, loss=40.3]\n"
     ]
    },
    {
     "name": "stdout",
     "output_type": "stream",
     "text": [
      "Epoch [653/3000]: Train loss: 54.4449, Valid loss: 54.6065\n"
     ]
    },
    {
     "name": "stderr",
     "output_type": "stream",
     "text": [
      "Epoch [654/3000]: 100%|██████████| 9/9 [00:00<00:00, 219.02it/s, loss=64.3]\n"
     ]
    },
    {
     "name": "stdout",
     "output_type": "stream",
     "text": [
      "Epoch [654/3000]: Train loss: 55.9427, Valid loss: 64.0101\n"
     ]
    },
    {
     "name": "stderr",
     "output_type": "stream",
     "text": [
      "Epoch [655/3000]: 100%|██████████| 9/9 [00:00<00:00, 230.09it/s, loss=53.8]\n"
     ]
    },
    {
     "name": "stdout",
     "output_type": "stream",
     "text": [
      "Epoch [655/3000]: Train loss: 55.2859, Valid loss: 59.6451\n"
     ]
    },
    {
     "name": "stderr",
     "output_type": "stream",
     "text": [
      "Epoch [656/3000]: 100%|██████████| 9/9 [00:00<00:00, 226.57it/s, loss=57.9]\n"
     ]
    },
    {
     "name": "stdout",
     "output_type": "stream",
     "text": [
      "Epoch [656/3000]: Train loss: 55.5429, Valid loss: 54.4028\n"
     ]
    },
    {
     "name": "stderr",
     "output_type": "stream",
     "text": [
      "Epoch [657/3000]: 100%|██████████| 9/9 [00:00<00:00, 280.54it/s, loss=63.3]\n"
     ]
    },
    {
     "name": "stdout",
     "output_type": "stream",
     "text": [
      "Epoch [657/3000]: Train loss: 55.8807, Valid loss: 55.4722\n"
     ]
    },
    {
     "name": "stderr",
     "output_type": "stream",
     "text": [
      "Epoch [658/3000]: 100%|██████████| 9/9 [00:00<00:00, 246.08it/s, loss=62.8]\n"
     ]
    },
    {
     "name": "stdout",
     "output_type": "stream",
     "text": [
      "Epoch [658/3000]: Train loss: 55.8497, Valid loss: 57.6041\n"
     ]
    },
    {
     "name": "stderr",
     "output_type": "stream",
     "text": [
      "Epoch [659/3000]: 100%|██████████| 9/9 [00:00<00:00, 260.01it/s, loss=64.7]\n"
     ]
    },
    {
     "name": "stdout",
     "output_type": "stream",
     "text": [
      "Epoch [659/3000]: Train loss: 55.9690, Valid loss: 67.9630\n"
     ]
    },
    {
     "name": "stderr",
     "output_type": "stream",
     "text": [
      "Epoch [660/3000]: 100%|██████████| 9/9 [00:00<00:00, 178.37it/s, loss=47.8]\n"
     ]
    },
    {
     "name": "stdout",
     "output_type": "stream",
     "text": [
      "Epoch [660/3000]: Train loss: 54.9153, Valid loss: 51.9593\n"
     ]
    },
    {
     "name": "stderr",
     "output_type": "stream",
     "text": [
      "Epoch [661/3000]: 100%|██████████| 9/9 [00:00<00:00, 232.03it/s, loss=62.3]\n"
     ]
    },
    {
     "name": "stdout",
     "output_type": "stream",
     "text": [
      "Epoch [661/3000]: Train loss: 55.8188, Valid loss: 63.1210\n"
     ]
    },
    {
     "name": "stderr",
     "output_type": "stream",
     "text": [
      "Epoch [662/3000]: 100%|██████████| 9/9 [00:00<00:00, 242.06it/s, loss=54.3]\n"
     ]
    },
    {
     "name": "stdout",
     "output_type": "stream",
     "text": [
      "Epoch [662/3000]: Train loss: 55.3192, Valid loss: 73.1855\n"
     ]
    },
    {
     "name": "stderr",
     "output_type": "stream",
     "text": [
      "Epoch [663/3000]: 100%|██████████| 9/9 [00:00<00:00, 193.09it/s, loss=66.3]\n"
     ]
    },
    {
     "name": "stdout",
     "output_type": "stream",
     "text": [
      "Epoch [663/3000]: Train loss: 56.0676, Valid loss: 66.3133\n"
     ]
    },
    {
     "name": "stderr",
     "output_type": "stream",
     "text": [
      "Epoch [664/3000]: 100%|██████████| 9/9 [00:00<00:00, 234.10it/s, loss=53.5]\n"
     ]
    },
    {
     "name": "stdout",
     "output_type": "stream",
     "text": [
      "Epoch [664/3000]: Train loss: 55.2705, Valid loss: 64.4657\n"
     ]
    },
    {
     "name": "stderr",
     "output_type": "stream",
     "text": [
      "Epoch [665/3000]: 100%|██████████| 9/9 [00:00<00:00, 256.30it/s, loss=66.2]\n"
     ]
    },
    {
     "name": "stdout",
     "output_type": "stream",
     "text": [
      "Epoch [665/3000]: Train loss: 56.0613, Valid loss: 64.3554\n"
     ]
    },
    {
     "name": "stderr",
     "output_type": "stream",
     "text": [
      "Epoch [666/3000]: 100%|██████████| 9/9 [00:00<00:00, 232.92it/s, loss=64.1]\n"
     ]
    },
    {
     "name": "stdout",
     "output_type": "stream",
     "text": [
      "Epoch [666/3000]: Train loss: 55.9297, Valid loss: 55.2959\n"
     ]
    },
    {
     "name": "stderr",
     "output_type": "stream",
     "text": [
      "Epoch [667/3000]: 100%|██████████| 9/9 [00:00<00:00, 229.29it/s, loss=57]\n"
     ]
    },
    {
     "name": "stdout",
     "output_type": "stream",
     "text": [
      "Epoch [667/3000]: Train loss: 55.4906, Valid loss: 48.6516\n"
     ]
    },
    {
     "name": "stderr",
     "output_type": "stream",
     "text": [
      "Epoch [668/3000]: 100%|██████████| 9/9 [00:00<00:00, 234.57it/s, loss=78.1]\n"
     ]
    },
    {
     "name": "stdout",
     "output_type": "stream",
     "text": [
      "Epoch [668/3000]: Train loss: 56.8060, Valid loss: 53.5447\n"
     ]
    },
    {
     "name": "stderr",
     "output_type": "stream",
     "text": [
      "Epoch [669/3000]: 100%|██████████| 9/9 [00:00<00:00, 125.91it/s, loss=53.7]\n"
     ]
    },
    {
     "name": "stdout",
     "output_type": "stream",
     "text": [
      "Epoch [669/3000]: Train loss: 55.2818, Valid loss: 54.4184\n"
     ]
    },
    {
     "name": "stderr",
     "output_type": "stream",
     "text": [
      "Epoch [670/3000]: 100%|██████████| 9/9 [00:00<00:00, 192.13it/s, loss=63.2]\n"
     ]
    },
    {
     "name": "stdout",
     "output_type": "stream",
     "text": [
      "Epoch [670/3000]: Train loss: 55.8774, Valid loss: 62.2438\n"
     ]
    },
    {
     "name": "stderr",
     "output_type": "stream",
     "text": [
      "Epoch [671/3000]: 100%|██████████| 9/9 [00:00<00:00, 225.13it/s, loss=69.1]\n"
     ]
    },
    {
     "name": "stdout",
     "output_type": "stream",
     "text": [
      "Epoch [671/3000]: Train loss: 56.2441, Valid loss: 60.7022\n"
     ]
    },
    {
     "name": "stderr",
     "output_type": "stream",
     "text": [
      "Epoch [672/3000]: 100%|██████████| 9/9 [00:00<00:00, 273.62it/s, loss=65.4]\n"
     ]
    },
    {
     "name": "stdout",
     "output_type": "stream",
     "text": [
      "Epoch [672/3000]: Train loss: 56.0142, Valid loss: 63.5108\n",
      "\n",
      "Model is not improving, so we halt the training session.\n"
     ]
    }
   ],
   "source": [
    "model = My_Model(input_dim=x_train.shape[1]).to(device)\n",
    "trainer(train_loader, valid_loader, model, config, device)"
   ]
  },
  {
   "cell_type": "code",
   "execution_count": 36,
   "metadata": {},
   "outputs": [
    {
     "data": {
      "text/html": [
       "\n",
       "      <iframe id=\"tensorboard-frame-f9243bcecc607f1f\" width=\"100%\" height=\"800\" frameborder=\"0\">\n",
       "      </iframe>\n",
       "      <script>\n",
       "        (function() {\n",
       "          const frame = document.getElementById(\"tensorboard-frame-f9243bcecc607f1f\");\n",
       "          const url = new URL(\"/\", window.location);\n",
       "          const port = 6006;\n",
       "          if (port) {\n",
       "            url.port = port;\n",
       "          }\n",
       "          frame.src = url;\n",
       "        })();\n",
       "      </script>\n",
       "    "
      ],
      "text/plain": [
       "<IPython.core.display.HTML object>"
      ]
     },
     "metadata": {},
     "output_type": "display_data"
    }
   ],
   "source": [
    "%reload_ext tensorboard\n",
    "%tensorboard --logdir=./runs/"
   ]
  },
  {
   "cell_type": "markdown",
   "metadata": {},
   "source": [
    "## Testing"
   ]
  },
  {
   "cell_type": "code",
   "execution_count": 42,
   "metadata": {},
   "outputs": [
    {
     "name": "stderr",
     "output_type": "stream",
     "text": [
      "100%|██████████| 5/5 [00:00<00:00, 2336.14it/s]\n"
     ]
    }
   ],
   "source": [
    "def save_pred(preds, file):\n",
    "    ''' Save predictions to specified file'''\n",
    "    with open(file, 'w') as fp:\n",
    "        writer = csv.writer(fp)\n",
    "        writer.writerow(['id', 'tested_positive'])\n",
    "        for i, p in enumerate(preds):\n",
    "            writer.writerow([i, p])\n",
    "\n",
    "model = My_Model(input_dim=x_train.shape[1]).to(device)\n",
    "model.load_state_dict(torch.load(config['save_path']))\n",
    "preds = predict(test_loader, model, device)\n",
    "save_pred(preds, 'pred.csv')"
   ]
  },
  {
   "cell_type": "code",
   "execution_count": null,
   "metadata": {},
   "outputs": [],
   "source": []
  }
 ],
 "metadata": {
  "kernelspec": {
   "display_name": "Python 3",
   "language": "python",
   "name": "python3"
  },
  "language_info": {
   "codemirror_mode": {
    "name": "ipython",
    "version": 3
   },
   "file_extension": ".py",
   "mimetype": "text/x-python",
   "name": "python",
   "nbconvert_exporter": "python",
   "pygments_lexer": "ipython3",
   "version": "3.12.0"
  }
 },
 "nbformat": 4,
 "nbformat_minor": 2
}

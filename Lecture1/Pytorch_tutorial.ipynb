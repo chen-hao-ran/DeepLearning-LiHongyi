{
 "cells": [
  {
   "cell_type": "markdown",
   "metadata": {},
   "source": [
    "# Load Data"
   ]
  },
  {
   "cell_type": "code",
   "execution_count": 3,
   "metadata": {},
   "outputs": [],
   "source": [
    "# 导入torch库\n",
    "import torch\n",
    "from torch.utils.data import Dataset, DataLoader\n",
    "\n",
    "# 定义\n",
    "class MyDataset(Dataset):\n",
    "    def __init__(self, file):\n",
    "        self.data = ...\n",
    "    def __getitem__(self, index):\n",
    "        return self.data[index]\n",
    "    def __len__(self):\n",
    "        return len(self.data)\n",
    "\n",
    "# import the data\n",
    "file = \"/xxx.csv\"\n",
    "dataset = MyDataset(file)\n",
    "\n",
    "# groups data in batches, enables multiprocessing\n",
    "dataloader = DataLoader(dataset, batch_size=5, shuffle=False)"
   ]
  },
  {
   "cell_type": "code",
   "execution_count": 25,
   "metadata": {},
   "outputs": [
    {
     "name": "stdout",
     "output_type": "stream",
     "text": [
      "z1: tensor([3, 3])\n",
      "z2: tensor([1, 1])\n",
      "z3: tensor([4, 4])\n",
      "z4: 4\n",
      "z5: 2.0\n",
      "-------------------\n",
      "torch.Size([2, 3])\n",
      "torch.Size([3, 2])\n",
      "-------------------\n",
      "torch.Size([1, 2, 3])\n",
      "torch.Size([2, 3])\n",
      "torch.Size([2, 1, 3])\n",
      "-------------------\n",
      "torch.Size([2, 6, 3])\n"
     ]
    }
   ],
   "source": [
    "import numpy as np\n",
    "# Check with .shape()\n",
    "# dim in torch == axis in numpy\n",
    "\n",
    "# Creating Tensors\n",
    "x = torch.tensor([[1, -1], [-1, 1]])\n",
    "x = torch.from_numpy(np.array([[1, -1], [-1, 1]]))\n",
    "\n",
    "# Tensor of constant zeros & ones\n",
    "x = torch.zeros([2, 2]) # 2 dim\n",
    "x = torch.ones([1, 2, 5]) # 3 dim\n",
    "\n",
    "# Common Operations\n",
    "x = torch.tensor([2, 2])\n",
    "y = torch.tensor([1, 1])\n",
    "z1 = x + y\n",
    "z2 = x - y\n",
    "z3 = x.pow(2)\n",
    "z4 = x.sum()\n",
    "z5 = x.float().mean() # 注意x的type\n",
    "print(f'z1: {z1}')\n",
    "print(f'z2: {z2}')\n",
    "print(f'z3: {z3}')\n",
    "print(f'z4: {z4}')\n",
    "print(f'z5: {z5}')\n",
    "print('-------------------')\n",
    "\n",
    "x = torch.zeros([2, 3])\n",
    "print(x.shape)\n",
    "x = x.transpose(0, 1) # 转置\n",
    "print(x.shape)\n",
    "print('-------------------')\n",
    "\n",
    "x = torch.zeros([1, 2, 3])\n",
    "print(x.shape)\n",
    "x = x.squeeze(0) # delete dim=0\n",
    "print(x.shape)\n",
    "x = x.unsqueeze(1)\n",
    "print(x.shape) # add dim=1\n",
    "print('-------------------')\n",
    "\n",
    "# cat\n",
    "x = torch.zeros([2, 1, 3])\n",
    "y = torch.zeros([2, 3, 3])\n",
    "z = torch.zeros([2, 2, 3])\n",
    "w = torch.cat([x, y, z], dim=1) # 除指定dim外其他的dim必须相等\n",
    "print(w.shape)"
   ]
  },
  {
   "cell_type": "code",
   "execution_count": null,
   "metadata": {},
   "outputs": [],
   "source": [
    "# Data Type\n",
    "x = x.float()\n",
    "# or\n",
    "x = x.torch.LongTensor([1, 1])"
   ]
  },
  {
   "cell_type": "code",
   "execution_count": 30,
   "metadata": {},
   "outputs": [
    {
     "name": "stdout",
     "output_type": "stream",
     "text": [
      "False\n"
     ]
    }
   ],
   "source": [
    "# Device\n",
    "print(torch.cuda.is_available())\n",
    "x = torch.zeros([1, 1])\n",
    "x = x.to('cpu')\n",
    "# x = x.to('cuda') # use GPU"
   ]
  },
  {
   "cell_type": "code",
   "execution_count": null,
   "metadata": {},
   "outputs": [],
   "source": []
  }
 ],
 "metadata": {
  "kernelspec": {
   "display_name": "Python 3",
   "language": "python",
   "name": "python3"
  },
  "language_info": {
   "codemirror_mode": {
    "name": "ipython",
    "version": 3
   },
   "file_extension": ".py",
   "mimetype": "text/x-python",
   "name": "python",
   "nbconvert_exporter": "python",
   "pygments_lexer": "ipython3",
   "version": "3.12.0"
  }
 },
 "nbformat": 4,
 "nbformat_minor": 2
}
